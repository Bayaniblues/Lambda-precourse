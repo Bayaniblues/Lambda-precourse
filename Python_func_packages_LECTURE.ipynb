{
  "nbformat": 4,
  "nbformat_minor": 0,
  "metadata": {
    "colab": {
      "name": "Python_func_packages_LECTURE.ipynb",
      "provenance": [],
      "collapsed_sections": [],
      "include_colab_link": true
    },
    "kernelspec": {
      "name": "python3",
      "display_name": "Python 3"
    }
  },
  "cells": [
    {
      "cell_type": "markdown",
      "metadata": {
        "id": "view-in-github",
        "colab_type": "text"
      },
      "source": [
        "<a href=\"https://colab.research.google.com/github/Bayaniblues/Lambda-precourse/blob/master/Python_func_packages_LECTURE.ipynb\" target=\"_parent\"><img src=\"https://colab.research.google.com/assets/colab-badge.svg\" alt=\"Open In Colab\"/></a>"
      ]
    },
    {
      "cell_type": "markdown",
      "metadata": {
        "id": "ZvNsvUNNlZbi",
        "colab_type": "text"
      },
      "source": [
        "---\n",
        "# Lambda School Data Science - Intro to Python  \n",
        "---\n",
        "# Lecture 3B - Functions, Methods, and Packages\n",
        "---\n",
        "\n"
      ]
    },
    {
      "cell_type": "markdown",
      "metadata": {
        "id": "o57NvhYkBjKH",
        "colab_type": "text"
      },
      "source": [
        "## Functions: Reusable bits of code\n",
        "\n",
        "### What is a function?\n",
        "To recap, Python can do some very useful things: \n",
        "\n",
        "*   Store single values to variables\n",
        "*   Store multiple values to the same variable, and keep track of their order in lists.\n",
        "*   Loop over lists and other iterables to run certain blocks of code repeatedly.\n",
        "*   Evaluate conditions to control *which* blocks of code get run.\n",
        "\n",
        "For example, that BMI calculator you built -- pretty cool, right? But what if you wanted to calculate the BMI of ten people? Swapping in values for each person would get pretty tedious.  \n",
        "\n",
        "That's where ***functions*** come in!  \n",
        "\n",
        "You can think of functions as ***sets of instructions that are packaged together in order to perform a specific action***. You also call a function by using its name, so, like variables, they must be specific and case-sensitive. \n",
        "\n"
      ]
    },
    {
      "cell_type": "code",
      "metadata": {
        "id": "lwG232gHDwLT",
        "colab_type": "code",
        "colab": {}
      },
      "source": [
        "# Let's calculate Joe's BMI (units in meters and kgs):\n",
        "\n",
        "height = 1.82\n",
        "weight = 84.2\n",
        "\n",
        "# Your first function!\n",
        "\n",
        "def calculate_bmi(height, weight):\n",
        "  '''Calculates the BMI of an individual from their height and weight.'''\n",
        "  BMI = weight / height**2\n",
        "  return BMI"
      ],
      "execution_count": 0,
      "outputs": []
    },
    {
      "cell_type": "code",
      "metadata": {
        "id": "OONIqkRftWUg",
        "colab_type": "code",
        "outputId": "0503bd75-cc05-49e8-b149-02d7363f3627",
        "colab": {
          "base_uri": "https://localhost:8080/",
          "height": 35
        }
      },
      "source": [
        "print('This is the agruments')"
      ],
      "execution_count": 0,
      "outputs": [
        {
          "output_type": "stream",
          "text": [
            "This is the agruments\n"
          ],
          "name": "stdout"
        }
      ]
    },
    {
      "cell_type": "code",
      "metadata": {
        "id": "1cwDD183p1H6",
        "colab_type": "code",
        "colab": {}
      },
      "source": [
        "# Putting a question mark before a function call\n",
        "# will bring up the documentation for that function (docstring)\n",
        "?len()"
      ],
      "execution_count": 0,
      "outputs": []
    },
    {
      "cell_type": "code",
      "metadata": {
        "id": "1-IWc85Qqxmu",
        "colab_type": "code",
        "outputId": "f9288281-b20e-4f60-f261-7369a4edf791",
        "colab": {
          "base_uri": "https://localhost:8080/",
          "height": 35
        }
      },
      "source": [
        "# We can \"invoke\" or \"call\" a function by \"passing-in\" \"arguments\" (literal \n",
        "# values or varialbes) inside of the parentheses when calling a function.\n",
        "\n",
        "height = 1.82\n",
        "weight = 84.2\n",
        "\n",
        "calculate_bmi(1.5, 60)"
      ],
      "execution_count": 0,
      "outputs": [
        {
          "output_type": "execute_result",
          "data": {
            "text/plain": [
              "25.4196353097452"
            ]
          },
          "metadata": {
            "tags": []
          },
          "execution_count": 6
        }
      ]
    },
    {
      "cell_type": "markdown",
      "metadata": {
        "id": "qpwMesTvQkf3",
        "colab_type": "text"
      },
      "source": [
        "### Breakdown:\n",
        "\n",
        "*   \"def\" is a keyword used to declare a function.\n",
        "*   \"calculate_bmi\" is the name of our new function.\n",
        "*   \"(height, weight):\" are the parameters our function requires in order to run: *height and weight*. The colon at the end indicates the beginning of the code block, i.e. where the instructions begin. The parameters as written here are simply placeholders reprensenting the values that will be passed in at the time of the function call. \n",
        "*  \"Docstring\" is short for documentation string. Here you can briefly explain what the function does for easy reference.\n",
        "*  \"return\" is another keyword used to specify the value our function will output when it is executed.\n",
        "*   In this case, that value is weight divided by the square of height: the formula for BMI. \n",
        "\n",
        "\n",
        "\n",
        "**Check out this supplemental resource on Python Functions** [here.](https://www.tutorialspoint.com/python/python_functions.htm)\n",
        "\n",
        "\n"
      ]
    },
    {
      "cell_type": "markdown",
      "metadata": {
        "id": "ir-OILaIq1wf",
        "colab_type": "text"
      },
      "source": [
        "When we call a function we write its name and then on the end put two parenthesis, these parenthesis are sometimes called \"invoking parenthesis\" because they are what distinguish calling a function accessing a variable.\n",
        "\n",
        "We then \"pass in\" values as \"arguments\" in our function call. Below, the height and weight variables are the arguments that we are passing into the calculate_bmi funciton."
      ]
    },
    {
      "cell_type": "code",
      "metadata": {
        "id": "AaQMPJ2uQjiA",
        "colab_type": "code",
        "outputId": "408d1ca2-cca3-40a1-c626-df0ade1656a8",
        "colab": {
          "base_uri": "https://localhost:8080/",
          "height": 35
        }
      },
      "source": [
        "# Now, to use it, we call the function by its name:\n",
        "\n",
        "height = 1.82\n",
        "weight = 84.2\n",
        "\n",
        "calculate_bmi(height, weight)"
      ],
      "execution_count": 0,
      "outputs": [
        {
          "output_type": "execute_result",
          "data": {
            "text/plain": [
              "25.4196353097452"
            ]
          },
          "metadata": {
            "tags": []
          },
          "execution_count": 9
        }
      ]
    },
    {
      "cell_type": "code",
      "metadata": {
        "id": "Az6a8pUrSc2d",
        "colab_type": "code",
        "outputId": "d7564c0d-41e3-42af-b2a7-f29180a42792",
        "colab": {
          "base_uri": "https://localhost:8080/",
          "height": 35
        }
      },
      "source": [
        "# We can also assign the returned value of our function to a new variable:\n",
        "joe_height = 1.7\n",
        "joe_weight = 80\n",
        "\n",
        "joe_bmi = calculate_bmi(joe_height, joe_weight)\n",
        "print(joe_bmi)"
      ],
      "execution_count": 0,
      "outputs": [
        {
          "output_type": "stream",
          "text": [
            "27.68166089965398\n"
          ],
          "name": "stdout"
        }
      ]
    },
    {
      "cell_type": "markdown",
      "metadata": {
        "id": "zbLERnFUcUzH",
        "colab_type": "text"
      },
      "source": [
        "### Lets write a function that can calculate the mean (average) of a list of values."
      ]
    },
    {
      "cell_type": "code",
      "metadata": {
        "id": "UianD-rKcZ_7",
        "colab_type": "code",
        "outputId": "297b6b9e-5f82-4541-83ae-5fb3f6fa346f",
        "colab": {
          "base_uri": "https://localhost:8080/",
          "height": 35
        }
      },
      "source": [
        "data = [5,8,4,2,9,8,4,6,8,5,4,5,6,9,4]\n",
        "\n",
        "def mean(number_list):\n",
        "  '''\n",
        "  Calculates the average of a list of numbers\n",
        "  This function cannot accept lists with non-numeric values\n",
        "  '''\n",
        "  total = 0\n",
        "  for number in number_list:\n",
        "    total += number\n",
        "    average = total / len(number_list)\n",
        "  return average\n",
        "\n",
        "mean(data)\n",
        "\n",
        "# Example of odd things in list to break function\n",
        "# unique_list = [4, 'cat', True, [], {\"hi\": \"hello\"}]\n",
        "# mean(unique_list)"
      ],
      "execution_count": 0,
      "outputs": [
        {
          "output_type": "execute_result",
          "data": {
            "text/plain": [
              "5.8"
            ]
          },
          "metadata": {
            "tags": []
          },
          "execution_count": 14
        }
      ]
    },
    {
      "cell_type": "markdown",
      "metadata": {
        "id": "8hjhLjV4G7w1",
        "colab_type": "text"
      },
      "source": [
        "### What are built-in functions?\n"
      ]
    },
    {
      "cell_type": "markdown",
      "metadata": {
        "id": "-NBV5VdlVLTn",
        "colab_type": "text"
      },
      "source": [
        "You may not realize it but you have already been using some functions. In fact, we just used one above when we used the `len()` function. Python comes with some helpful \"built-in\" functions that are simply part of the Python language and help us do basic operations. The `type()` function is another example of a built-in function."
      ]
    },
    {
      "cell_type": "code",
      "metadata": {
        "id": "pMW8UI4fU4Ym",
        "colab_type": "code",
        "outputId": "43f75baa-9789-4316-e1e4-164601abed5b",
        "colab": {
          "base_uri": "https://localhost:8080/",
          "height": 35
        }
      },
      "source": [
        "# Let's see the data type of bmi_joe:\n",
        "type(joe_bmi)"
      ],
      "execution_count": 0,
      "outputs": [
        {
          "output_type": "execute_result",
          "data": {
            "text/plain": [
              "float"
            ]
          },
          "metadata": {
            "tags": []
          },
          "execution_count": 16
        }
      ]
    },
    {
      "cell_type": "code",
      "metadata": {
        "id": "UASc4tI8Vufk",
        "colab_type": "code",
        "outputId": "5587e393-b45c-4691-9b1f-3f530d657187",
        "colab": {
          "base_uri": "https://localhost:8080/",
          "height": 35
        }
      },
      "source": [
        "# Another common built-in function is print()\n",
        "print(\"print() forcefully prints out whatever you pass into it!\")"
      ],
      "execution_count": 0,
      "outputs": [
        {
          "output_type": "stream",
          "text": [
            "print() forcefully prints out whatever you pass into it!\n"
          ],
          "name": "stdout"
        }
      ]
    },
    {
      "cell_type": "markdown",
      "metadata": {
        "id": "AOhCjR0esORw",
        "colab_type": "text"
      },
      "source": [
        "Some built-in functions work well with lists. Lets look at a few."
      ]
    },
    {
      "cell_type": "code",
      "metadata": {
        "id": "EIix3rO1WXCw",
        "colab_type": "code",
        "outputId": "b3e5bbb8-ad9d-4a64-c305-cbfe9403a344",
        "colab": {
          "base_uri": "https://localhost:8080/",
          "height": 35
        }
      },
      "source": [
        "# Let's save a collection of values to a list:\n",
        "values = [11.82, 65, 77, 19.89, 180, 1078, 173]\n",
        "\n",
        "print(values)"
      ],
      "execution_count": 0,
      "outputs": [
        {
          "output_type": "stream",
          "text": [
            "[11.82, 65, 77, 19.89, 180, 1078, 173]\n"
          ],
          "name": "stdout"
        }
      ]
    },
    {
      "cell_type": "markdown",
      "metadata": {
        "id": "r_IvFcyZslE6",
        "colab_type": "text"
      },
      "source": [
        "We can output the number of items in a list by using the `len()` function"
      ]
    },
    {
      "cell_type": "code",
      "metadata": {
        "id": "pEAPkC0YsguX",
        "colab_type": "code",
        "outputId": "4f406f86-f89c-4876-e2f1-411a26801b89",
        "colab": {
          "base_uri": "https://localhost:8080/",
          "height": 35
        }
      },
      "source": [
        "len(values)"
      ],
      "execution_count": 0,
      "outputs": [
        {
          "output_type": "execute_result",
          "data": {
            "text/plain": [
              "7"
            ]
          },
          "metadata": {
            "tags": []
          },
          "execution_count": 19
        }
      ]
    },
    {
      "cell_type": "markdown",
      "metadata": {
        "id": "rclDJePDsqLm",
        "colab_type": "text"
      },
      "source": [
        "Other buil-in functions help tell us the smallest or largest values in a list, or will even help us sort a list."
      ]
    },
    {
      "cell_type": "code",
      "metadata": {
        "id": "roYfIDuAXeNr",
        "colab_type": "code",
        "outputId": "a3beda72-4e67-4a66-fa36-a668626300cb",
        "colab": {
          "base_uri": "https://localhost:8080/",
          "height": 35
        }
      },
      "source": [
        "# Smallest value:\n",
        "min(values)"
      ],
      "execution_count": 0,
      "outputs": [
        {
          "output_type": "execute_result",
          "data": {
            "text/plain": [
              "11.82"
            ]
          },
          "metadata": {
            "tags": []
          },
          "execution_count": 20
        }
      ]
    },
    {
      "cell_type": "code",
      "metadata": {
        "id": "vIjkLbl7XY0A",
        "colab_type": "code",
        "outputId": "d54222f2-c9a2-4a38-a491-cddfb9aff454",
        "colab": {
          "base_uri": "https://localhost:8080/",
          "height": 35
        }
      },
      "source": [
        "# Largest value:\n",
        "max(values)"
      ],
      "execution_count": 0,
      "outputs": [
        {
          "output_type": "execute_result",
          "data": {
            "text/plain": [
              "1078"
            ]
          },
          "metadata": {
            "tags": []
          },
          "execution_count": 21
        }
      ]
    },
    {
      "cell_type": "code",
      "metadata": {
        "id": "cf1Ka9DeXbKL",
        "colab_type": "code",
        "outputId": "72724cf5-d39f-4df6-e204-5e4103a09a3f",
        "colab": {
          "base_uri": "https://localhost:8080/",
          "height": 35
        }
      },
      "source": [
        "# Sort the values:\n",
        "sorted(values)"
      ],
      "execution_count": 0,
      "outputs": [
        {
          "output_type": "execute_result",
          "data": {
            "text/plain": [
              "[11.82, 19.89, 65, 77, 173, 180, 1078]"
            ]
          },
          "metadata": {
            "tags": []
          },
          "execution_count": 22
        }
      ]
    },
    {
      "cell_type": "markdown",
      "metadata": {
        "id": "L_IRduqYXh4x",
        "colab_type": "text"
      },
      "source": [
        "Useful, huh? There are far too many built-in funtions to cover them all right now, so take a look at the documentation and play around with them.\n",
        "\n",
        "With practice, you'll learn which built-in functions come standard, and which you'll need to create for yourself.\n",
        "\n",
        "**Read more about Python's built-in functions** [here.](https://docs.python.org/3/library/functions.html)"
      ]
    },
    {
      "cell_type": "markdown",
      "metadata": {
        "id": "rBIHl6F8nwIR",
        "colab_type": "text"
      },
      "source": [
        "### A special built-in function: *help()*\n",
        "Help is a really useful function that pulls up documentation on other functions!"
      ]
    },
    {
      "cell_type": "code",
      "metadata": {
        "id": "uvVMzYghn7lj",
        "colab_type": "code",
        "outputId": "89ae760e-6221-4985-870e-4eae09142547",
        "colab": {
          "base_uri": "https://localhost:8080/",
          "height": 155
        }
      },
      "source": [
        "help(sorted)"
      ],
      "execution_count": 0,
      "outputs": [
        {
          "output_type": "stream",
          "text": [
            "Help on built-in function sorted in module builtins:\n",
            "\n",
            "sorted(iterable, /, *, key=None, reverse=False)\n",
            "    Return a new list containing all items from the iterable in ascending order.\n",
            "    \n",
            "    A custom key function can be supplied to customize the sort order, and the\n",
            "    reverse flag can be set to request the result in descending order.\n",
            "\n"
          ],
          "name": "stdout"
        }
      ]
    },
    {
      "cell_type": "code",
      "metadata": {
        "id": "mLu8CJm-tJV2",
        "colab_type": "code",
        "colab": {}
      },
      "source": [
        "?sorted"
      ],
      "execution_count": 0,
      "outputs": []
    },
    {
      "cell_type": "markdown",
      "metadata": {
        "id": "uatImBBBpg2A",
        "colab_type": "text"
      },
      "source": [
        "### Methods: built-in functions for different data types\n",
        "Remember how different data types have different behaviors? Well they also have their own special functions called *methods*.  \n",
        "\n",
        "Let's review:"
      ]
    },
    {
      "cell_type": "code",
      "metadata": {
        "id": "gn2-UXLKqNDj",
        "colab_type": "code",
        "colab": {}
      },
      "source": [
        "# Int\n",
        "x = 24\n",
        "\n",
        "# Float\n",
        "y = 12.3\n",
        "\n",
        "# What do they have in common? They are all OBJECTS"
      ],
      "execution_count": 0,
      "outputs": []
    },
    {
      "cell_type": "markdown",
      "metadata": {
        "id": "XfveDWVgqoP_",
        "colab_type": "text"
      },
      "source": [
        "Each of the structures above is what's called an ***object*** in Python. They are made up of the values assigned to them via variables. Each object represents a different data _type_ depending on its value(s). \n",
        "\n",
        "They each have unique functions, called ***methods***, that apply only to objects of that data type. For example..."
      ]
    },
    {
      "cell_type": "markdown",
      "metadata": {
        "id": "EFWKKeVzzCMn",
        "colab_type": "text"
      },
      "source": [
        "### String Methods"
      ]
    },
    {
      "cell_type": "code",
      "metadata": {
        "id": "Ic2T-tZPy71C",
        "colab_type": "code",
        "colab": {}
      },
      "source": [
        "# String \n",
        "my_string = \"this is a string\""
      ],
      "execution_count": 0,
      "outputs": []
    },
    {
      "cell_type": "code",
      "metadata": {
        "id": "WD8J0Dgqr_Xs",
        "colab_type": "code",
        "outputId": "18c5c75b-af68-4c44-b056-0378354b8a8d",
        "colab": {
          "base_uri": "https://localhost:8080/",
          "height": 35
        }
      },
      "source": [
        "my_string.upper()"
      ],
      "execution_count": 0,
      "outputs": [
        {
          "output_type": "execute_result",
          "data": {
            "text/plain": [
              "'THIS IS A STRING'"
            ]
          },
          "metadata": {
            "tags": []
          },
          "execution_count": 27
        }
      ]
    },
    {
      "cell_type": "code",
      "metadata": {
        "id": "KciIqewszZ4O",
        "colab_type": "code",
        "outputId": "39b57e83-3917-464e-b53b-b7157f630225",
        "colab": {
          "base_uri": "https://localhost:8080/",
          "height": 35
        }
      },
      "source": [
        "\"this is a string\".upper()"
      ],
      "execution_count": 0,
      "outputs": [
        {
          "output_type": "execute_result",
          "data": {
            "text/plain": [
              "'THIS IS A STRING'"
            ]
          },
          "metadata": {
            "tags": []
          },
          "execution_count": 28
        }
      ]
    },
    {
      "cell_type": "code",
      "metadata": {
        "id": "xfdizgJx0AsV",
        "colab_type": "code",
        "outputId": "f604ceda-0642-4555-cba5-c80405adc585",
        "colab": {
          "base_uri": "https://localhost:8080/",
          "height": 165
        }
      },
      "source": [
        "upper(\"this is not a built-in function\")"
      ],
      "execution_count": 0,
      "outputs": [
        {
          "output_type": "error",
          "ename": "NameError",
          "evalue": "ignored",
          "traceback": [
            "\u001b[0;31m---------------------------------------------------------------------------\u001b[0m",
            "\u001b[0;31mNameError\u001b[0m                                 Traceback (most recent call last)",
            "\u001b[0;32m<ipython-input-29-7460f56fe708>\u001b[0m in \u001b[0;36m<module>\u001b[0;34m()\u001b[0m\n\u001b[0;32m----> 1\u001b[0;31m \u001b[0mupper\u001b[0m\u001b[0;34m(\u001b[0m\u001b[0;34m\"this is not a built-in function\"\u001b[0m\u001b[0;34m)\u001b[0m\u001b[0;34m\u001b[0m\u001b[0;34m\u001b[0m\u001b[0m\n\u001b[0m",
            "\u001b[0;31mNameError\u001b[0m: name 'upper' is not defined"
          ]
        }
      ]
    },
    {
      "cell_type": "markdown",
      "metadata": {
        "id": "MW-4axSjzO31",
        "colab_type": "text"
      },
      "source": [
        "Methods are functions that are specific to a certain object -a certain data type. Above we have shown the `.upper()` method that can be called on strings. You'll notice that we can call it on either a variable that holds a string value or on the string value directly. \n",
        "\n",
        "Whenever we call a method we do so by using what is called \"Dot Notation\" This simply means that we call the function by putting a dot `.` between the method call and the variable name. This indicates to python that we want to call the method on that specific object/variable. "
      ]
    },
    {
      "cell_type": "code",
      "metadata": {
        "id": "UYXVP50Kysik",
        "colab_type": "code",
        "outputId": "29ffe222-2947-4df9-fafc-0477bbae29cd",
        "colab": {
          "base_uri": "https://localhost:8080/",
          "height": 35
        }
      },
      "source": [
        "my_string.capitalize()"
      ],
      "execution_count": 0,
      "outputs": [
        {
          "output_type": "execute_result",
          "data": {
            "text/plain": [
              "'This is a string'"
            ]
          },
          "metadata": {
            "tags": []
          },
          "execution_count": 30
        }
      ]
    },
    {
      "cell_type": "code",
      "metadata": {
        "id": "e40MbJOKyyge",
        "colab_type": "code",
        "outputId": "f6356133-e7ed-42d7-edf1-04c18ab7af4f",
        "colab": {
          "base_uri": "https://localhost:8080/",
          "height": 35
        }
      },
      "source": [
        "my_string.split()"
      ],
      "execution_count": 0,
      "outputs": [
        {
          "output_type": "execute_result",
          "data": {
            "text/plain": [
              "['this', 'is', 'a', 'string']"
            ]
          },
          "metadata": {
            "tags": []
          },
          "execution_count": 31
        }
      ]
    },
    {
      "cell_type": "markdown",
      "metadata": {
        "id": "6dDU_Ue20RMd",
        "colab_type": "text"
      },
      "source": [
        "Additional [string methods](https://www.programiz.com/python-programming/methods/string)"
      ]
    },
    {
      "cell_type": "markdown",
      "metadata": {
        "id": "dReU0O0VzIre",
        "colab_type": "text"
      },
      "source": [
        "### Lists Methods\n",
        "\n",
        "We have already used a few list methods when working with lists. We have used methods like `.append()`, `.pop()`, `.remove()`, and `.insert()`, \n",
        "\n",
        "Additional [list methods](https://www.programiz.com/python-programming/methods/list)"
      ]
    },
    {
      "cell_type": "code",
      "metadata": {
        "id": "muMX0pQ2zLkZ",
        "colab_type": "code",
        "colab": {}
      },
      "source": [
        "weekdays = [\"Monday\", \"Tuesday\", \"Wednesday\", \"Thursday\"]"
      ],
      "execution_count": 0,
      "outputs": []
    },
    {
      "cell_type": "code",
      "metadata": {
        "id": "xSmsbTSFsmV8",
        "colab_type": "code",
        "outputId": "392a16cd-4e77-4804-90b4-0e40428218c1",
        "colab": {
          "base_uri": "https://localhost:8080/",
          "height": 35
        }
      },
      "source": [
        "# Find the index position of an element in a list:\n",
        "weekdays.index(\"Wednesday\")"
      ],
      "execution_count": 0,
      "outputs": [
        {
          "output_type": "execute_result",
          "data": {
            "text/plain": [
              "2"
            ]
          },
          "metadata": {
            "tags": []
          },
          "execution_count": 34
        }
      ]
    },
    {
      "cell_type": "code",
      "metadata": {
        "id": "NvWNwBqvtx1-",
        "colab_type": "code",
        "outputId": "4d82343b-e63e-431f-f8f8-ce1572eaae41",
        "colab": {
          "base_uri": "https://localhost:8080/",
          "height": 35
        }
      },
      "source": [
        "# Don't work across the board:\n",
        "weekdays.remove(\"Tuesday\")\n",
        "weekdays"
      ],
      "execution_count": 0,
      "outputs": [
        {
          "output_type": "execute_result",
          "data": {
            "text/plain": [
              "['Monday', 'Wednesday', 'Thursday']"
            ]
          },
          "metadata": {
            "tags": []
          },
          "execution_count": 35
        }
      ]
    },
    {
      "cell_type": "code",
      "metadata": {
        "id": "0FPpG7g-uB7-",
        "colab_type": "code",
        "outputId": "aa77ef23-9e33-4442-ed74-73a37ca798d0",
        "colab": {
          "base_uri": "https://localhost:8080/",
          "height": 35
        }
      },
      "source": [
        "# Some methods can change their objects. For example, we forgot to include the \n",
        "# last weekday in our weekday list:\n",
        "weekdays.append(\"Friday\")\n",
        "weekdays"
      ],
      "execution_count": 0,
      "outputs": [
        {
          "output_type": "execute_result",
          "data": {
            "text/plain": [
              "['Monday', 'Wednesday', 'Thursday', 'Friday']"
            ]
          },
          "metadata": {
            "tags": []
          },
          "execution_count": 36
        }
      ]
    },
    {
      "cell_type": "markdown",
      "metadata": {
        "id": "ao45mZ9tthpq",
        "colab_type": "text"
      },
      "source": [
        "**Remember:**\n",
        "\n",
        "\n",
        "*   In Python, _everything_ is an object.\n",
        "*   Different objects have different methods, depending on their data types.\n",
        "*   Some methods change the object they're called on. So be careful!\n",
        "\n"
      ]
    },
    {
      "cell_type": "markdown",
      "metadata": {
        "id": "zhFszf7GU5bO",
        "colab_type": "text"
      },
      "source": [
        "### Looping Functions\n",
        "Let's see how useful functions can be by combining this lesson with the last one:\n"
      ]
    },
    {
      "cell_type": "code",
      "metadata": {
        "id": "lauK-TW2Y5CD",
        "colab_type": "code",
        "colab": {}
      },
      "source": [
        "# A list of lists (or a nested list) of people's names, heights, and weights in meters:\n",
        "students = [\n",
        "    [\"Joe\", 1.82, 84.2],\n",
        "    [\"Susan\", 1.59, 56.3],\n",
        "    [\"Holly\", 1.66, 59.1],\n",
        "    [\"Meghan\", 1.61, 50.8],\n",
        "    [\"Mike\", 1.79, 81.3],\n",
        "    [\"Roger\", 1.85, 85.5],\n",
        "    [\"Jane\", 1.65, 54.9],\n",
        "    [\"Maria\", 1.61, 52.6],\n",
        "    [\"Douglas\", 1.91, 89.2],\n",
        "    [\"Sam\", 1.86, 86],\n",
        "    \n",
        "]"
      ],
      "execution_count": 0,
      "outputs": []
    },
    {
      "cell_type": "code",
      "metadata": {
        "id": "BiMWbQ7ka5az",
        "colab_type": "code",
        "colab": {}
      },
      "source": [
        "# Now let's write a function that will return each person's BMI and assign them\n",
        "# into a new list called \"BMIs\".\n",
        "\n",
        "def multiple_bmi(list):\n",
        "  '''\n",
        "  Function to calculate individual BMIs\n",
        "  Parameters: a nested list of names, heights, and weights\n",
        "  Returns: a list of names and their BMI\n",
        "  '''\n",
        "  bmis = [] \n",
        "  #empty list that we'll add things to later\n",
        "  \n",
        "  for student in list: \n",
        "    # for loop specifying each row in our list of people\n",
        "    student.append(student[2]/student[1]**2),\n",
        "    # adds the name and BMI result to our empty list using indexing\n",
        "    # done in 2 steps because append() only takes 1 argument at a time\n",
        "    \n",
        "  return list\n",
        "  # returns our list, now filled with names and BMIs"
      ],
      "execution_count": 0,
      "outputs": []
    },
    {
      "cell_type": "code",
      "metadata": {
        "id": "HTAAG6Qdb0Gf",
        "colab_type": "code",
        "outputId": "8ed6ea33-5278-47ab-f754-992760a37af7",
        "colab": {
          "base_uri": "https://localhost:8080/",
          "height": 190
        }
      },
      "source": [
        "multiple_bmi(students)"
      ],
      "execution_count": 0,
      "outputs": [
        {
          "output_type": "execute_result",
          "data": {
            "text/plain": [
              "[['Joe', 1.82, 84.2, 25.4196353097452],\n",
              " ['Susan', 1.59, 56.3, 22.26968869902298],\n",
              " ['Holly', 1.66, 59.1, 21.447234722020614],\n",
              " ['Meghan', 1.61, 50.8, 19.59800933605956],\n",
              " ['Mike', 1.79, 81.3, 25.373739895758558],\n",
              " ['Roger', 1.85, 85.5, 24.981738495252007],\n",
              " ['Jane', 1.65, 54.9, 20.16528925619835],\n",
              " ['Maria', 1.61, 52.6, 20.292426989699468],\n",
              " ['Douglas', 1.91, 89.2, 24.45108412598339],\n",
              " ['Sam', 1.86, 86, 24.858365128916635]]"
            ]
          },
          "metadata": {
            "tags": []
          },
          "execution_count": 40
        }
      ]
    },
    {
      "cell_type": "code",
      "metadata": {
        "id": "MTEDIFuWjYhz",
        "colab_type": "code",
        "colab": {}
      },
      "source": [
        "BMIs = multiple_bmi(students)"
      ],
      "execution_count": 0,
      "outputs": []
    },
    {
      "cell_type": "markdown",
      "metadata": {
        "id": "Cn6QELU4DYsU",
        "colab_type": "text"
      },
      "source": [
        "## Packages: need to do *x*? There's a *package* for that!\n",
        "\n",
        "### What is a package?\n",
        "Packages are one of Python's super-powers. Other people have written a bunch of code to handle just about any task. Need faster and more accurate calculations? There's a package for that. Need to organize your lists of lists into tables and run operations on them? There's a package for that. Need to extract public information from a bunch of websites? You guessed it, there's a package for that too.\n",
        "\n",
        "Python packages are collections of scripts and functions designed to tackle specific problems. Packages are sometimes also referred to as libraries for that reason. Several of these are *designed* for data science and machine learning.\n"
      ]
    },
    {
      "cell_type": "markdown",
      "metadata": {
        "id": "xLhAGT8BzE2F",
        "colab_type": "text"
      },
      "source": [
        "### Meet your first package: Numpy \n",
        "Numpy is a library for scientific computing. It has powerful data structures for doing all kinds of mathematical and scientific computing as efficiently as possible. One of its biggest benefits is that it is written to perform calculations *much* faster than regular old \"out-of-the-box\" Python. It also has a special object called an **array** also sometimes call an **ndarray** or just \"numpy array\" that works much like a list but comes with a whole bunch additional helper methods.\n",
        "\n",
        "Let's see how it's imported:"
      ]
    },
    {
      "cell_type": "code",
      "metadata": {
        "id": "4YmbXvyOzC85",
        "colab_type": "code",
        "outputId": "e73b889f-b9c2-4bdd-d48d-d6e3c70461db",
        "colab": {
          "base_uri": "https://localhost:8080/",
          "height": 190
        }
      },
      "source": [
        "import numpy\n",
        "\n",
        "numpy.array([[\"Joe\", 1.82, 84.2],\n",
        "    [\"Susan\", 1.59, 56.3],\n",
        "    [\"Holly\", 1.66, 59.1],\n",
        "    [\"Meghan\", 1.61, 50.8],\n",
        "    [\"Mike\", 1.79, 81.3],\n",
        "    [\"Roger\", 1.85, 85.5],\n",
        "    [\"Jane\", 1.65, 54.9],\n",
        "    [\"Maria\", 1.61, 52.6],\n",
        "    [\"Douglas\", 1.91, 89.2],\n",
        "    [\"Sam\", 1.86, 86]])"
      ],
      "execution_count": 0,
      "outputs": [
        {
          "output_type": "execute_result",
          "data": {
            "text/plain": [
              "array([['Joe', '1.82', '84.2'],\n",
              "       ['Susan', '1.59', '56.3'],\n",
              "       ['Holly', '1.66', '59.1'],\n",
              "       ['Meghan', '1.61', '50.8'],\n",
              "       ['Mike', '1.79', '81.3'],\n",
              "       ['Roger', '1.85', '85.5'],\n",
              "       ['Jane', '1.65', '54.9'],\n",
              "       ['Maria', '1.61', '52.6'],\n",
              "       ['Douglas', '1.91', '89.2'],\n",
              "       ['Sam', '1.86', '86']], dtype='<U7')"
            ]
          },
          "metadata": {
            "tags": []
          },
          "execution_count": 41
        }
      ]
    },
    {
      "cell_type": "code",
      "metadata": {
        "id": "7qvsxN4z2nkg",
        "colab_type": "code",
        "outputId": "e4c579e7-84cd-4c22-9165-84e707dc67fd",
        "colab": {
          "base_uri": "https://localhost:8080/",
          "height": 190
        }
      },
      "source": [
        "import numpy as np\n",
        "\n",
        "np.array([[\"Joe\", 1.82, 84.2],\n",
        "    [\"Susan\", 1.59, 56.3],\n",
        "    [\"Holly\", 1.66, 59.1],\n",
        "    [\"Meghan\", 1.61, 50.8],\n",
        "    [\"Mike\", 1.79, 81.3],\n",
        "    [\"Roger\", 1.85, 85.5],\n",
        "    [\"Jane\", 1.65, 54.9],\n",
        "    [\"Maria\", 1.61, 52.6],\n",
        "    [\"Douglas\", 1.91, 89.2],\n",
        "    [\"Sam\", 1.86, 86]])"
      ],
      "execution_count": 0,
      "outputs": [
        {
          "output_type": "execute_result",
          "data": {
            "text/plain": [
              "array([['Joe', '1.82', '84.2'],\n",
              "       ['Susan', '1.59', '56.3'],\n",
              "       ['Holly', '1.66', '59.1'],\n",
              "       ['Meghan', '1.61', '50.8'],\n",
              "       ['Mike', '1.79', '81.3'],\n",
              "       ['Roger', '1.85', '85.5'],\n",
              "       ['Jane', '1.65', '54.9'],\n",
              "       ['Maria', '1.61', '52.6'],\n",
              "       ['Douglas', '1.91', '89.2'],\n",
              "       ['Sam', '1.86', '86']], dtype='<U7')"
            ]
          },
          "metadata": {
            "tags": []
          },
          "execution_count": 42
        }
      ]
    },
    {
      "cell_type": "markdown",
      "metadata": {
        "id": "90m1glMo4m4R",
        "colab_type": "text"
      },
      "source": [
        "What if we only wanted a specifc module from Numpy?\n",
        "\n",
        "Usually we'd import the entire library, but in certain cases that may seem like overkill. In those cases, Python allows you to select specific modules from specific libraries like this:"
      ]
    },
    {
      "cell_type": "code",
      "metadata": {
        "id": "VrNYL7To0OBa",
        "colab_type": "code",
        "outputId": "8af634d7-c2b8-4252-a696-8dffab8ab41b",
        "colab": {
          "base_uri": "https://localhost:8080/",
          "height": 190
        }
      },
      "source": [
        "from numpy import array\n",
        "\n",
        "array([[\"Joe\", 1.82, 84.2],\n",
        "    [\"Susan\", 1.59, 56.3],\n",
        "    [\"Holly\", 1.66, 59.1],\n",
        "    [\"Meghan\", 1.61, 50.8],\n",
        "    [\"Mike\", 1.79, 81.3],\n",
        "    [\"Roger\", 1.85, 85.5],\n",
        "    [\"Jane\", 1.65, 54.9],\n",
        "    [\"Maria\", 1.61, 52.6],\n",
        "    [\"Douglas\", 1.91, 89.2],\n",
        "    [\"Sam\", 1.86, 86]])"
      ],
      "execution_count": 0,
      "outputs": [
        {
          "output_type": "execute_result",
          "data": {
            "text/plain": [
              "array([['Joe', '1.82', '84.2'],\n",
              "       ['Susan', '1.59', '56.3'],\n",
              "       ['Holly', '1.66', '59.1'],\n",
              "       ['Meghan', '1.61', '50.8'],\n",
              "       ['Mike', '1.79', '81.3'],\n",
              "       ['Roger', '1.85', '85.5'],\n",
              "       ['Jane', '1.65', '54.9'],\n",
              "       ['Maria', '1.61', '52.6'],\n",
              "       ['Douglas', '1.91', '89.2'],\n",
              "       ['Sam', '1.86', '86']], dtype='<U7')"
            ]
          },
          "metadata": {
            "tags": []
          },
          "execution_count": 43
        }
      ]
    },
    {
      "cell_type": "markdown",
      "metadata": {
        "id": "SJLv04Cn0_rh",
        "colab_type": "text"
      },
      "source": [
        "### Let's cut you loose (finally!). Time to practice all of this in your assignment!"
      ]
    }
  ]
}