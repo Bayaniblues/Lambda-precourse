{
  "nbformat": 4,
  "nbformat_minor": 0,
  "metadata": {
    "colab": {
      "name": "Pandas_cleaning_data_LECTURE.ipynb",
      "provenance": [],
      "collapsed_sections": [],
      "include_colab_link": true
    },
    "kernelspec": {
      "name": "python3",
      "display_name": "Python 3"
    }
  },
  "cells": [
    {
      "cell_type": "markdown",
      "metadata": {
        "id": "view-in-github",
        "colab_type": "text"
      },
      "source": [
        "<a href=\"https://colab.research.google.com/github/Bayaniblues/Lambda-precourse/blob/master/Pandas_cleaning_data_LECTURE.ipynb\" target=\"_parent\"><img src=\"https://colab.research.google.com/assets/colab-badge.svg\" alt=\"Open In Colab\"/></a>"
      ]
    },
    {
      "cell_type": "markdown",
      "metadata": {
        "id": "ZvNsvUNNlZbi",
        "colab_type": "text"
      },
      "source": [
        "---\n",
        "# Lambda School Data Science - Intro to Pandas \n",
        "---\n",
        "# Lecture 07 - Cleaning Data \n",
        "---\n",
        "\n"
      ]
    },
    {
      "cell_type": "markdown",
      "metadata": {
        "id": "f7sGhOifhpFD",
        "colab_type": "text"
      },
      "source": [
        "### Cleaning data is an *integral part of being a data scientist*  \n",
        "In most contexts, the data you'll be using to generate insights will not be perfect. Far from it. There will be missing values. There will be incorrect values. There could be duplicate values. Columns could have data types that break your code. There could be outliers that mess things up. You may even need to merge data from different sources to do a thorough analysis. Fortunately, pandas has some really powerful methods for cleaning your data. Which is good news, because most data scientists tend to spend the bulk of their time cleaning data before they can analyze it.  \n",
        "\n",
        "*In other words, you clean your data in order to prepare it for analysis and model-building.*"
      ]
    },
    {
      "cell_type": "markdown",
      "metadata": {
        "id": "veCoTayWYvhi",
        "colab_type": "text"
      },
      "source": [
        "### Begin by importing your tools"
      ]
    },
    {
      "cell_type": "code",
      "metadata": {
        "id": "lwG232gHDwLT",
        "colab_type": "code",
        "colab": {}
      },
      "source": [
        "# Let's begin by importing pandas\n",
        "import pandas as pd"
      ],
      "execution_count": 0,
      "outputs": []
    },
    {
      "cell_type": "markdown",
      "metadata": {
        "id": "oRH-6zIAX6D4",
        "colab_type": "text"
      },
      "source": [
        "## Reading in your data"
      ]
    },
    {
      "cell_type": "code",
      "metadata": {
        "id": "2-4aaacNyNl1",
        "colab_type": "code",
        "colab": {}
      },
      "source": [
        "# We use the pandas method pandas.read_csv(\"filepath\") to create a DataFrame \n",
        "# and assign it to a variable:\n",
        "\n",
        "df = pd.read_csv(\"https://raw.githubusercontent.com/axrd/datasets/master/gdpmessy.csv\")"
      ],
      "execution_count": 0,
      "outputs": []
    },
    {
      "cell_type": "markdown",
      "metadata": {
        "id": "TXvBbG-M2BQR",
        "colab_type": "text"
      },
      "source": [
        "## Quick inspection of the data"
      ]
    },
    {
      "cell_type": "code",
      "metadata": {
        "id": "-MqrXh832FYh",
        "colab_type": "code",
        "outputId": "ad860d42-4cc3-4c82-972d-9c70302c7939",
        "colab": {
          "base_uri": "https://localhost:8080/",
          "height": 348
        }
      },
      "source": [
        "# We'll use the head() method, which by default prints out the first 5 rows. I \n",
        "# want to look at the first 10 rows:\n",
        "df.head(10)"
      ],
      "execution_count": 0,
      "outputs": [
        {
          "output_type": "execute_result",
          "data": {
            "text/html": [
              "<div>\n",
              "<style scoped>\n",
              "    .dataframe tbody tr th:only-of-type {\n",
              "        vertical-align: middle;\n",
              "    }\n",
              "\n",
              "    .dataframe tbody tr th {\n",
              "        vertical-align: top;\n",
              "    }\n",
              "\n",
              "    .dataframe thead th {\n",
              "        text-align: right;\n",
              "    }\n",
              "</style>\n",
              "<table border=\"1\" class=\"dataframe\">\n",
              "  <thead>\n",
              "    <tr style=\"text-align: right;\">\n",
              "      <th></th>\n",
              "      <th>Unnamed: 0</th>\n",
              "      <th>COUNRY</th>\n",
              "      <th>gdp</th>\n",
              "      <th>CODE</th>\n",
              "    </tr>\n",
              "  </thead>\n",
              "  <tbody>\n",
              "    <tr>\n",
              "      <th>0</th>\n",
              "      <td>0</td>\n",
              "      <td>Afghanistan</td>\n",
              "      <td>21.71</td>\n",
              "      <td>AFG</td>\n",
              "    </tr>\n",
              "    <tr>\n",
              "      <th>1</th>\n",
              "      <td>1</td>\n",
              "      <td>Albania</td>\n",
              "      <td>13.40</td>\n",
              "      <td>ALB</td>\n",
              "    </tr>\n",
              "    <tr>\n",
              "      <th>2</th>\n",
              "      <td>2</td>\n",
              "      <td>Algeria</td>\n",
              "      <td>227.80</td>\n",
              "      <td>NaN</td>\n",
              "    </tr>\n",
              "    <tr>\n",
              "      <th>3</th>\n",
              "      <td>3</td>\n",
              "      <td>American Samoa</td>\n",
              "      <td>0.75</td>\n",
              "      <td>ASM</td>\n",
              "    </tr>\n",
              "    <tr>\n",
              "      <th>4</th>\n",
              "      <td>4</td>\n",
              "      <td>Andorra</td>\n",
              "      <td>NaN</td>\n",
              "      <td>AND</td>\n",
              "    </tr>\n",
              "    <tr>\n",
              "      <th>5</th>\n",
              "      <td>5</td>\n",
              "      <td>NaN</td>\n",
              "      <td>131.40</td>\n",
              "      <td>AGO</td>\n",
              "    </tr>\n",
              "    <tr>\n",
              "      <th>6</th>\n",
              "      <td>6</td>\n",
              "      <td>Anguilla</td>\n",
              "      <td>0.18</td>\n",
              "      <td>AIA</td>\n",
              "    </tr>\n",
              "    <tr>\n",
              "      <th>7</th>\n",
              "      <td>7</td>\n",
              "      <td>Antigua and Barbuda</td>\n",
              "      <td>1.24</td>\n",
              "      <td>ATG</td>\n",
              "    </tr>\n",
              "    <tr>\n",
              "      <th>8</th>\n",
              "      <td>8</td>\n",
              "      <td>Argentina</td>\n",
              "      <td>536.20</td>\n",
              "      <td>ARG</td>\n",
              "    </tr>\n",
              "    <tr>\n",
              "      <th>9</th>\n",
              "      <td>9</td>\n",
              "      <td>Armenia</td>\n",
              "      <td>10.88</td>\n",
              "      <td>ARM</td>\n",
              "    </tr>\n",
              "  </tbody>\n",
              "</table>\n",
              "</div>"
            ],
            "text/plain": [
              "   Unnamed: 0               COUNRY     gdp CODE \n",
              "0           0          Afghanistan   21.71   AFG\n",
              "1           1              Albania   13.40   ALB\n",
              "2           2              Algeria  227.80   NaN\n",
              "3           3       American Samoa    0.75   ASM\n",
              "4           4              Andorra     NaN   AND\n",
              "5           5                  NaN  131.40   AGO\n",
              "6           6             Anguilla    0.18   AIA\n",
              "7           7  Antigua and Barbuda    1.24   ATG\n",
              "8           8            Argentina  536.20   ARG\n",
              "9           9              Armenia   10.88   ARM"
            ]
          },
          "metadata": {
            "tags": []
          },
          "execution_count": 3
        }
      ]
    },
    {
      "cell_type": "code",
      "metadata": {
        "id": "VYksX9PA6KCm",
        "colab_type": "code",
        "outputId": "5a863498-7dc0-4bcf-c376-3076074bb1e4",
        "colab": {
          "base_uri": "https://localhost:8080/",
          "height": 348
        }
      },
      "source": [
        "# Then the tail method. Also for 10 values.\n",
        "df.tail(10)"
      ],
      "execution_count": 0,
      "outputs": [
        {
          "output_type": "execute_result",
          "data": {
            "text/html": [
              "<div>\n",
              "<style scoped>\n",
              "    .dataframe tbody tr th:only-of-type {\n",
              "        vertical-align: middle;\n",
              "    }\n",
              "\n",
              "    .dataframe tbody tr th {\n",
              "        vertical-align: top;\n",
              "    }\n",
              "\n",
              "    .dataframe thead th {\n",
              "        text-align: right;\n",
              "    }\n",
              "</style>\n",
              "<table border=\"1\" class=\"dataframe\">\n",
              "  <thead>\n",
              "    <tr style=\"text-align: right;\">\n",
              "      <th></th>\n",
              "      <th>Unnamed: 0</th>\n",
              "      <th>COUNRY</th>\n",
              "      <th>gdp</th>\n",
              "      <th>CODE</th>\n",
              "    </tr>\n",
              "  </thead>\n",
              "  <tbody>\n",
              "    <tr>\n",
              "      <th>212</th>\n",
              "      <td>212</td>\n",
              "      <td>Uruguay</td>\n",
              "      <td>55.60</td>\n",
              "      <td>URY</td>\n",
              "    </tr>\n",
              "    <tr>\n",
              "      <th>213</th>\n",
              "      <td>213</td>\n",
              "      <td>Uzbekistan</td>\n",
              "      <td>63.08</td>\n",
              "      <td>UZB</td>\n",
              "    </tr>\n",
              "    <tr>\n",
              "      <th>214</th>\n",
              "      <td>214</td>\n",
              "      <td>Vanuatu</td>\n",
              "      <td>8200.00</td>\n",
              "      <td>VUT</td>\n",
              "    </tr>\n",
              "    <tr>\n",
              "      <th>215</th>\n",
              "      <td>215</td>\n",
              "      <td>Venezuela</td>\n",
              "      <td>209.20</td>\n",
              "      <td>VEN</td>\n",
              "    </tr>\n",
              "    <tr>\n",
              "      <th>216</th>\n",
              "      <td>216</td>\n",
              "      <td>Vietnam</td>\n",
              "      <td>187.80</td>\n",
              "      <td>VNM</td>\n",
              "    </tr>\n",
              "    <tr>\n",
              "      <th>217</th>\n",
              "      <td>217</td>\n",
              "      <td>Virgin Islands</td>\n",
              "      <td>5.08</td>\n",
              "      <td>VGB</td>\n",
              "    </tr>\n",
              "    <tr>\n",
              "      <th>218</th>\n",
              "      <td>218</td>\n",
              "      <td>West Bank</td>\n",
              "      <td>6.64</td>\n",
              "      <td>WBG</td>\n",
              "    </tr>\n",
              "    <tr>\n",
              "      <th>219</th>\n",
              "      <td>219</td>\n",
              "      <td>Yemen</td>\n",
              "      <td>45.45</td>\n",
              "      <td>YEM</td>\n",
              "    </tr>\n",
              "    <tr>\n",
              "      <th>220</th>\n",
              "      <td>220</td>\n",
              "      <td>Zambia</td>\n",
              "      <td>25.61</td>\n",
              "      <td>ZMB</td>\n",
              "    </tr>\n",
              "    <tr>\n",
              "      <th>221</th>\n",
              "      <td>221</td>\n",
              "      <td>Zimbabwe</td>\n",
              "      <td>13.74</td>\n",
              "      <td>ZWE</td>\n",
              "    </tr>\n",
              "  </tbody>\n",
              "</table>\n",
              "</div>"
            ],
            "text/plain": [
              "     Unnamed: 0          COUNRY      gdp CODE \n",
              "212         212         Uruguay    55.60   URY\n",
              "213         213      Uzbekistan    63.08   UZB\n",
              "214         214         Vanuatu  8200.00   VUT\n",
              "215         215       Venezuela   209.20   VEN\n",
              "216         216         Vietnam   187.80   VNM\n",
              "217         217  Virgin Islands     5.08   VGB\n",
              "218         218       West Bank     6.64   WBG\n",
              "219         219           Yemen    45.45   YEM\n",
              "220         220          Zambia    25.61   ZMB\n",
              "221         221        Zimbabwe    13.74   ZWE"
            ]
          },
          "metadata": {
            "tags": []
          },
          "execution_count": 4
        }
      ]
    },
    {
      "cell_type": "code",
      "metadata": {
        "id": "61E6pBkY6NN9",
        "colab_type": "code",
        "outputId": "6514e654-f5a0-4626-ed1f-d96b05eef5a3",
        "colab": {
          "base_uri": "https://localhost:8080/",
          "height": 35
        }
      },
      "source": [
        "# We're supposed to have 222 observations (rows) and 3 columns. Let's check:\n",
        "\n",
        "df.shape"
      ],
      "execution_count": 0,
      "outputs": [
        {
          "output_type": "execute_result",
          "data": {
            "text/plain": [
              "(222, 4)"
            ]
          },
          "metadata": {
            "tags": []
          },
          "execution_count": 5
        }
      ]
    },
    {
      "cell_type": "code",
      "metadata": {
        "id": "JZ2o7IIyuvGI",
        "colab_type": "code",
        "outputId": "a767552b-2678-4cd9-893c-4acd4a02fe15",
        "colab": {
          "base_uri": "https://localhost:8080/",
          "height": 173
        }
      },
      "source": [
        "# A great way to get an overview of our data:\n",
        "df.info()"
      ],
      "execution_count": 0,
      "outputs": [
        {
          "output_type": "stream",
          "text": [
            "<class 'pandas.core.frame.DataFrame'>\n",
            "RangeIndex: 222 entries, 0 to 221\n",
            "Data columns (total 4 columns):\n",
            "Unnamed: 0    222 non-null int64\n",
            "COUNRY        221 non-null object\n",
            "gdp           219 non-null float64\n",
            "CODE          220 non-null object\n",
            "dtypes: float64(1), int64(1), object(2)\n",
            "memory usage: 7.0+ KB\n"
          ],
          "name": "stdout"
        }
      ]
    },
    {
      "cell_type": "markdown",
      "metadata": {
        "id": "HUbASLeBwK0e",
        "colab_type": "text"
      },
      "source": [
        "**We've got some missing values! We'll address that in a minute. First, let's fix our duplicate index and rename our columns something useful and consistent.**"
      ]
    },
    {
      "cell_type": "markdown",
      "metadata": {
        "id": "P6nHX2jVwchC",
        "colab_type": "text"
      },
      "source": [
        "## Duplicate index\n",
        "**Remember how we dealt with this a few assignments ago, as we were learning about loading data?**\n"
      ]
    },
    {
      "cell_type": "code",
      "metadata": {
        "id": "3hc56xXy74NF",
        "colab_type": "code",
        "outputId": "52e7804d-c6af-45d3-92fa-7f4e9ce62e02",
        "colab": {
          "base_uri": "https://localhost:8080/",
          "height": 35
        }
      },
      "source": [
        "df.columns"
      ],
      "execution_count": 0,
      "outputs": [
        {
          "output_type": "execute_result",
          "data": {
            "text/plain": [
              "Index(['Unnamed: 0', 'COUNRY', 'gdp', 'CODE '], dtype='object')"
            ]
          },
          "metadata": {
            "tags": []
          },
          "execution_count": 7
        }
      ]
    },
    {
      "cell_type": "code",
      "metadata": {
        "id": "f28mwlOAwjjD",
        "colab_type": "code",
        "colab": {}
      },
      "source": [
        "# We need to drop the first column (axis = 1) and do it in place:\n",
        "df.drop('Unnamed: 0', axis=1, inplace=True)"
      ],
      "execution_count": 0,
      "outputs": []
    },
    {
      "cell_type": "code",
      "metadata": {
        "id": "o8ia9jfvw74T",
        "colab_type": "code",
        "outputId": "b6f9b2f2-3084-4284-fa41-8fe1382bd4d9",
        "colab": {
          "base_uri": "https://localhost:8080/",
          "height": 198
        }
      },
      "source": [
        "df.head()"
      ],
      "execution_count": 0,
      "outputs": [
        {
          "output_type": "execute_result",
          "data": {
            "text/html": [
              "<div>\n",
              "<style scoped>\n",
              "    .dataframe tbody tr th:only-of-type {\n",
              "        vertical-align: middle;\n",
              "    }\n",
              "\n",
              "    .dataframe tbody tr th {\n",
              "        vertical-align: top;\n",
              "    }\n",
              "\n",
              "    .dataframe thead th {\n",
              "        text-align: right;\n",
              "    }\n",
              "</style>\n",
              "<table border=\"1\" class=\"dataframe\">\n",
              "  <thead>\n",
              "    <tr style=\"text-align: right;\">\n",
              "      <th></th>\n",
              "      <th>COUNRY</th>\n",
              "      <th>gdp</th>\n",
              "      <th>CODE</th>\n",
              "    </tr>\n",
              "  </thead>\n",
              "  <tbody>\n",
              "    <tr>\n",
              "      <th>0</th>\n",
              "      <td>Afghanistan</td>\n",
              "      <td>21.71</td>\n",
              "      <td>AFG</td>\n",
              "    </tr>\n",
              "    <tr>\n",
              "      <th>1</th>\n",
              "      <td>Albania</td>\n",
              "      <td>13.40</td>\n",
              "      <td>ALB</td>\n",
              "    </tr>\n",
              "    <tr>\n",
              "      <th>2</th>\n",
              "      <td>Algeria</td>\n",
              "      <td>227.80</td>\n",
              "      <td>NaN</td>\n",
              "    </tr>\n",
              "    <tr>\n",
              "      <th>3</th>\n",
              "      <td>American Samoa</td>\n",
              "      <td>0.75</td>\n",
              "      <td>ASM</td>\n",
              "    </tr>\n",
              "    <tr>\n",
              "      <th>4</th>\n",
              "      <td>Andorra</td>\n",
              "      <td>NaN</td>\n",
              "      <td>AND</td>\n",
              "    </tr>\n",
              "  </tbody>\n",
              "</table>\n",
              "</div>"
            ],
            "text/plain": [
              "           COUNRY     gdp CODE \n",
              "0     Afghanistan   21.71   AFG\n",
              "1         Albania   13.40   ALB\n",
              "2         Algeria  227.80   NaN\n",
              "3  American Samoa    0.75   ASM\n",
              "4         Andorra     NaN   AND"
            ]
          },
          "metadata": {
            "tags": []
          },
          "execution_count": 9
        }
      ]
    },
    {
      "cell_type": "markdown",
      "metadata": {
        "id": "WV_IUNSuwDy9",
        "colab_type": "text"
      },
      "source": [
        "## Column names\n",
        "\n",
        "**We also covered how to rename columns. But we only showed you how to rename one at a time:**  \n",
        "\n",
        "*   COUNRY should be spelled correctly\n",
        "*   gdp is lowercase and should also communicate scale\n",
        "*   CODE has an trailing space in it  \n",
        "\n",
        "\n",
        "**Here's how we'd do it piecemeal:**\n",
        "\n",
        "`df.rename(columns={'COUNRY':'COUNTRY'}, inplace=True)`  \n",
        "`df.rename(columns={'gdp':'GDP (BILLIONS)'}, inplace=True)`  \n",
        "`df.rename(columns={'CODE ':'CODE'}, inplace=True)`\n",
        "\n",
        "**But that's not Pythonic. Let's try and change all of these column names at once.**\n"
      ]
    },
    {
      "cell_type": "code",
      "metadata": {
        "id": "06chmZrix7ce",
        "colab_type": "code",
        "outputId": "b49161ee-ced4-4b04-f343-edb875580a12",
        "colab": {
          "base_uri": "https://localhost:8080/",
          "height": 35
        }
      },
      "source": [
        "# Pandas has a way to select columns because it treats them as an index object:\n",
        "df.columns\n",
        "\n",
        "# Notice that \"CODE \" has an empty space after the last character. This happens!"
      ],
      "execution_count": 0,
      "outputs": [
        {
          "output_type": "execute_result",
          "data": {
            "text/plain": [
              "Index(['COUNRY', 'gdp', 'CODE '], dtype='object')"
            ]
          },
          "metadata": {
            "tags": []
          },
          "execution_count": 10
        }
      ]
    },
    {
      "cell_type": "code",
      "metadata": {
        "id": "ejnXwTmZ8Jhf",
        "colab_type": "code",
        "outputId": "2f47227e-ee19-48bb-9743-34a4c2e0335d",
        "colab": {
          "base_uri": "https://localhost:8080/",
          "height": 1000
        }
      },
      "source": [
        "df['CODE ']"
      ],
      "execution_count": 0,
      "outputs": [
        {
          "output_type": "execute_result",
          "data": {
            "text/plain": [
              "0      AFG\n",
              "1      ALB\n",
              "2      NaN\n",
              "3      ASM\n",
              "4      AND\n",
              "5      AGO\n",
              "6      AIA\n",
              "7      ATG\n",
              "8      ARG\n",
              "9      ARM\n",
              "10     ABW\n",
              "11     AUS\n",
              "12     AUT\n",
              "13     NaN\n",
              "14     BHM\n",
              "15     BHR\n",
              "16     BGD\n",
              "17     BRB\n",
              "18     BLR\n",
              "19     BEL\n",
              "20     BLZ\n",
              "21     BEN\n",
              "22     BMU\n",
              "23     BTN\n",
              "24     BOL\n",
              "25     BIH\n",
              "26     BWA\n",
              "27     BRA\n",
              "28     VGB\n",
              "29     BRN\n",
              "      ... \n",
              "192    SWE\n",
              "193    CHE\n",
              "194    SYR\n",
              "195    TWN\n",
              "196    TJK\n",
              "197    TZA\n",
              "198    THA\n",
              "199    TLS\n",
              "200    TGO\n",
              "201    TON\n",
              "202    TTO\n",
              "203    TUN\n",
              "204    TUR\n",
              "205    TKM\n",
              "206    TUV\n",
              "207    UGA\n",
              "208    UKR\n",
              "209    ARE\n",
              "210    GBR\n",
              "211    USA\n",
              "212    URY\n",
              "213    UZB\n",
              "214    VUT\n",
              "215    VEN\n",
              "216    VNM\n",
              "217    VGB\n",
              "218    WBG\n",
              "219    YEM\n",
              "220    ZMB\n",
              "221    ZWE\n",
              "Name: CODE , Length: 222, dtype: object"
            ]
          },
          "metadata": {
            "tags": []
          },
          "execution_count": 11
        }
      ]
    },
    {
      "cell_type": "code",
      "metadata": {
        "id": "D0OcK-SFyH5F",
        "colab_type": "code",
        "colab": {}
      },
      "source": [
        "df.columns = [\"COUNTRY\", \"GDP_BILLIONS\", \"CODE\"]"
      ],
      "execution_count": 0,
      "outputs": []
    },
    {
      "cell_type": "code",
      "metadata": {
        "id": "XQhiyLELy82J",
        "colab_type": "code",
        "outputId": "bdedfe4b-a16e-478f-cf49-29fa01a1e572",
        "colab": {
          "base_uri": "https://localhost:8080/",
          "height": 35
        }
      },
      "source": [
        "df.columns\n",
        "\n",
        "# Done."
      ],
      "execution_count": 0,
      "outputs": [
        {
          "output_type": "execute_result",
          "data": {
            "text/plain": [
              "Index(['COUNTRY', 'GDP_BILLIONS', 'CODE'], dtype='object')"
            ]
          },
          "metadata": {
            "tags": []
          },
          "execution_count": 13
        }
      ]
    },
    {
      "cell_type": "code",
      "metadata": {
        "id": "JHLGUz35K76Q",
        "colab_type": "code",
        "outputId": "1b21d802-849c-47b8-d1c9-b071273720f2",
        "colab": {
          "base_uri": "https://localhost:8080/",
          "height": 35
        }
      },
      "source": [
        "list(df.columns)"
      ],
      "execution_count": 0,
      "outputs": [
        {
          "output_type": "execute_result",
          "data": {
            "text/plain": [
              "['COUNTRY', 'GDP_BILLIONS', 'CODE']"
            ]
          },
          "metadata": {
            "tags": []
          },
          "execution_count": 14
        }
      ]
    },
    {
      "cell_type": "code",
      "metadata": {
        "id": "_SG5LXYK8gLM",
        "colab_type": "code",
        "outputId": "cac292ee-3d85-43fb-fe15-83767eeccda2",
        "colab": {
          "base_uri": "https://localhost:8080/",
          "height": 198
        }
      },
      "source": [
        "df.head()"
      ],
      "execution_count": 0,
      "outputs": [
        {
          "output_type": "execute_result",
          "data": {
            "text/html": [
              "<div>\n",
              "<style scoped>\n",
              "    .dataframe tbody tr th:only-of-type {\n",
              "        vertical-align: middle;\n",
              "    }\n",
              "\n",
              "    .dataframe tbody tr th {\n",
              "        vertical-align: top;\n",
              "    }\n",
              "\n",
              "    .dataframe thead th {\n",
              "        text-align: right;\n",
              "    }\n",
              "</style>\n",
              "<table border=\"1\" class=\"dataframe\">\n",
              "  <thead>\n",
              "    <tr style=\"text-align: right;\">\n",
              "      <th></th>\n",
              "      <th>COUNTRY</th>\n",
              "      <th>GDP_BILLIONS</th>\n",
              "      <th>CODE</th>\n",
              "    </tr>\n",
              "  </thead>\n",
              "  <tbody>\n",
              "    <tr>\n",
              "      <th>0</th>\n",
              "      <td>Afghanistan</td>\n",
              "      <td>21.71</td>\n",
              "      <td>AFG</td>\n",
              "    </tr>\n",
              "    <tr>\n",
              "      <th>1</th>\n",
              "      <td>Albania</td>\n",
              "      <td>13.40</td>\n",
              "      <td>ALB</td>\n",
              "    </tr>\n",
              "    <tr>\n",
              "      <th>2</th>\n",
              "      <td>Algeria</td>\n",
              "      <td>227.80</td>\n",
              "      <td>NaN</td>\n",
              "    </tr>\n",
              "    <tr>\n",
              "      <th>3</th>\n",
              "      <td>American Samoa</td>\n",
              "      <td>0.75</td>\n",
              "      <td>ASM</td>\n",
              "    </tr>\n",
              "    <tr>\n",
              "      <th>4</th>\n",
              "      <td>Andorra</td>\n",
              "      <td>NaN</td>\n",
              "      <td>AND</td>\n",
              "    </tr>\n",
              "  </tbody>\n",
              "</table>\n",
              "</div>"
            ],
            "text/plain": [
              "          COUNTRY  GDP_BILLIONS CODE\n",
              "0     Afghanistan         21.71  AFG\n",
              "1         Albania         13.40  ALB\n",
              "2         Algeria        227.80  NaN\n",
              "3  American Samoa          0.75  ASM\n",
              "4         Andorra           NaN  AND"
            ]
          },
          "metadata": {
            "tags": []
          },
          "execution_count": 15
        }
      ]
    },
    {
      "cell_type": "code",
      "metadata": {
        "id": "H_mabLSy8nTa",
        "colab_type": "code",
        "colab": {}
      },
      "source": [
        "df['GDP_BILLIONS']"
      ],
      "execution_count": 0,
      "outputs": []
    },
    {
      "cell_type": "markdown",
      "metadata": {
        "id": "X239QCLc1uI5",
        "colab_type": "text"
      },
      "source": [
        "## Missing values?\n",
        "We noticed immediately that we had some missing values to deal with. Every feature has at least one missing value (nulls)."
      ]
    },
    {
      "cell_type": "code",
      "metadata": {
        "id": "RoGSRkP6zxQq",
        "colab_type": "code",
        "outputId": "39cb12c2-63f0-4475-a2a6-465205daf4c1",
        "colab": {
          "base_uri": "https://localhost:8080/",
          "height": 1000
        }
      },
      "source": [
        "# Pandas has a nifty tool to check for null values. For now, you can think of \n",
        "# nulls as missing values. \n",
        "\n",
        "df.isnull()"
      ],
      "execution_count": 0,
      "outputs": [
        {
          "output_type": "execute_result",
          "data": {
            "text/html": [
              "<div>\n",
              "<style scoped>\n",
              "    .dataframe tbody tr th:only-of-type {\n",
              "        vertical-align: middle;\n",
              "    }\n",
              "\n",
              "    .dataframe tbody tr th {\n",
              "        vertical-align: top;\n",
              "    }\n",
              "\n",
              "    .dataframe thead th {\n",
              "        text-align: right;\n",
              "    }\n",
              "</style>\n",
              "<table border=\"1\" class=\"dataframe\">\n",
              "  <thead>\n",
              "    <tr style=\"text-align: right;\">\n",
              "      <th></th>\n",
              "      <th>COUNTRY</th>\n",
              "      <th>GDP_BILLIONS</th>\n",
              "      <th>CODE</th>\n",
              "    </tr>\n",
              "  </thead>\n",
              "  <tbody>\n",
              "    <tr>\n",
              "      <th>0</th>\n",
              "      <td>False</td>\n",
              "      <td>False</td>\n",
              "      <td>False</td>\n",
              "    </tr>\n",
              "    <tr>\n",
              "      <th>1</th>\n",
              "      <td>False</td>\n",
              "      <td>False</td>\n",
              "      <td>False</td>\n",
              "    </tr>\n",
              "    <tr>\n",
              "      <th>2</th>\n",
              "      <td>False</td>\n",
              "      <td>False</td>\n",
              "      <td>True</td>\n",
              "    </tr>\n",
              "    <tr>\n",
              "      <th>3</th>\n",
              "      <td>False</td>\n",
              "      <td>False</td>\n",
              "      <td>False</td>\n",
              "    </tr>\n",
              "    <tr>\n",
              "      <th>4</th>\n",
              "      <td>False</td>\n",
              "      <td>True</td>\n",
              "      <td>False</td>\n",
              "    </tr>\n",
              "    <tr>\n",
              "      <th>5</th>\n",
              "      <td>True</td>\n",
              "      <td>False</td>\n",
              "      <td>False</td>\n",
              "    </tr>\n",
              "    <tr>\n",
              "      <th>6</th>\n",
              "      <td>False</td>\n",
              "      <td>False</td>\n",
              "      <td>False</td>\n",
              "    </tr>\n",
              "    <tr>\n",
              "      <th>7</th>\n",
              "      <td>False</td>\n",
              "      <td>False</td>\n",
              "      <td>False</td>\n",
              "    </tr>\n",
              "    <tr>\n",
              "      <th>8</th>\n",
              "      <td>False</td>\n",
              "      <td>False</td>\n",
              "      <td>False</td>\n",
              "    </tr>\n",
              "    <tr>\n",
              "      <th>9</th>\n",
              "      <td>False</td>\n",
              "      <td>False</td>\n",
              "      <td>False</td>\n",
              "    </tr>\n",
              "    <tr>\n",
              "      <th>10</th>\n",
              "      <td>False</td>\n",
              "      <td>True</td>\n",
              "      <td>False</td>\n",
              "    </tr>\n",
              "    <tr>\n",
              "      <th>11</th>\n",
              "      <td>False</td>\n",
              "      <td>False</td>\n",
              "      <td>False</td>\n",
              "    </tr>\n",
              "    <tr>\n",
              "      <th>12</th>\n",
              "      <td>False</td>\n",
              "      <td>False</td>\n",
              "      <td>False</td>\n",
              "    </tr>\n",
              "    <tr>\n",
              "      <th>13</th>\n",
              "      <td>False</td>\n",
              "      <td>False</td>\n",
              "      <td>True</td>\n",
              "    </tr>\n",
              "    <tr>\n",
              "      <th>14</th>\n",
              "      <td>False</td>\n",
              "      <td>False</td>\n",
              "      <td>False</td>\n",
              "    </tr>\n",
              "    <tr>\n",
              "      <th>15</th>\n",
              "      <td>False</td>\n",
              "      <td>False</td>\n",
              "      <td>False</td>\n",
              "    </tr>\n",
              "    <tr>\n",
              "      <th>16</th>\n",
              "      <td>False</td>\n",
              "      <td>False</td>\n",
              "      <td>False</td>\n",
              "    </tr>\n",
              "    <tr>\n",
              "      <th>17</th>\n",
              "      <td>False</td>\n",
              "      <td>False</td>\n",
              "      <td>False</td>\n",
              "    </tr>\n",
              "    <tr>\n",
              "      <th>18</th>\n",
              "      <td>False</td>\n",
              "      <td>False</td>\n",
              "      <td>False</td>\n",
              "    </tr>\n",
              "    <tr>\n",
              "      <th>19</th>\n",
              "      <td>False</td>\n",
              "      <td>False</td>\n",
              "      <td>False</td>\n",
              "    </tr>\n",
              "    <tr>\n",
              "      <th>20</th>\n",
              "      <td>False</td>\n",
              "      <td>True</td>\n",
              "      <td>False</td>\n",
              "    </tr>\n",
              "    <tr>\n",
              "      <th>21</th>\n",
              "      <td>False</td>\n",
              "      <td>False</td>\n",
              "      <td>False</td>\n",
              "    </tr>\n",
              "    <tr>\n",
              "      <th>22</th>\n",
              "      <td>False</td>\n",
              "      <td>False</td>\n",
              "      <td>False</td>\n",
              "    </tr>\n",
              "    <tr>\n",
              "      <th>23</th>\n",
              "      <td>False</td>\n",
              "      <td>False</td>\n",
              "      <td>False</td>\n",
              "    </tr>\n",
              "    <tr>\n",
              "      <th>24</th>\n",
              "      <td>False</td>\n",
              "      <td>False</td>\n",
              "      <td>False</td>\n",
              "    </tr>\n",
              "    <tr>\n",
              "      <th>25</th>\n",
              "      <td>False</td>\n",
              "      <td>False</td>\n",
              "      <td>False</td>\n",
              "    </tr>\n",
              "    <tr>\n",
              "      <th>26</th>\n",
              "      <td>False</td>\n",
              "      <td>False</td>\n",
              "      <td>False</td>\n",
              "    </tr>\n",
              "    <tr>\n",
              "      <th>27</th>\n",
              "      <td>False</td>\n",
              "      <td>False</td>\n",
              "      <td>False</td>\n",
              "    </tr>\n",
              "    <tr>\n",
              "      <th>28</th>\n",
              "      <td>False</td>\n",
              "      <td>False</td>\n",
              "      <td>False</td>\n",
              "    </tr>\n",
              "    <tr>\n",
              "      <th>29</th>\n",
              "      <td>False</td>\n",
              "      <td>False</td>\n",
              "      <td>False</td>\n",
              "    </tr>\n",
              "    <tr>\n",
              "      <th>...</th>\n",
              "      <td>...</td>\n",
              "      <td>...</td>\n",
              "      <td>...</td>\n",
              "    </tr>\n",
              "    <tr>\n",
              "      <th>192</th>\n",
              "      <td>False</td>\n",
              "      <td>False</td>\n",
              "      <td>False</td>\n",
              "    </tr>\n",
              "    <tr>\n",
              "      <th>193</th>\n",
              "      <td>False</td>\n",
              "      <td>False</td>\n",
              "      <td>False</td>\n",
              "    </tr>\n",
              "    <tr>\n",
              "      <th>194</th>\n",
              "      <td>False</td>\n",
              "      <td>False</td>\n",
              "      <td>False</td>\n",
              "    </tr>\n",
              "    <tr>\n",
              "      <th>195</th>\n",
              "      <td>False</td>\n",
              "      <td>False</td>\n",
              "      <td>False</td>\n",
              "    </tr>\n",
              "    <tr>\n",
              "      <th>196</th>\n",
              "      <td>False</td>\n",
              "      <td>False</td>\n",
              "      <td>False</td>\n",
              "    </tr>\n",
              "    <tr>\n",
              "      <th>197</th>\n",
              "      <td>False</td>\n",
              "      <td>False</td>\n",
              "      <td>False</td>\n",
              "    </tr>\n",
              "    <tr>\n",
              "      <th>198</th>\n",
              "      <td>False</td>\n",
              "      <td>False</td>\n",
              "      <td>False</td>\n",
              "    </tr>\n",
              "    <tr>\n",
              "      <th>199</th>\n",
              "      <td>False</td>\n",
              "      <td>False</td>\n",
              "      <td>False</td>\n",
              "    </tr>\n",
              "    <tr>\n",
              "      <th>200</th>\n",
              "      <td>False</td>\n",
              "      <td>False</td>\n",
              "      <td>False</td>\n",
              "    </tr>\n",
              "    <tr>\n",
              "      <th>201</th>\n",
              "      <td>False</td>\n",
              "      <td>False</td>\n",
              "      <td>False</td>\n",
              "    </tr>\n",
              "    <tr>\n",
              "      <th>202</th>\n",
              "      <td>False</td>\n",
              "      <td>False</td>\n",
              "      <td>False</td>\n",
              "    </tr>\n",
              "    <tr>\n",
              "      <th>203</th>\n",
              "      <td>False</td>\n",
              "      <td>False</td>\n",
              "      <td>False</td>\n",
              "    </tr>\n",
              "    <tr>\n",
              "      <th>204</th>\n",
              "      <td>False</td>\n",
              "      <td>False</td>\n",
              "      <td>False</td>\n",
              "    </tr>\n",
              "    <tr>\n",
              "      <th>205</th>\n",
              "      <td>False</td>\n",
              "      <td>False</td>\n",
              "      <td>False</td>\n",
              "    </tr>\n",
              "    <tr>\n",
              "      <th>206</th>\n",
              "      <td>False</td>\n",
              "      <td>False</td>\n",
              "      <td>False</td>\n",
              "    </tr>\n",
              "    <tr>\n",
              "      <th>207</th>\n",
              "      <td>False</td>\n",
              "      <td>False</td>\n",
              "      <td>False</td>\n",
              "    </tr>\n",
              "    <tr>\n",
              "      <th>208</th>\n",
              "      <td>False</td>\n",
              "      <td>False</td>\n",
              "      <td>False</td>\n",
              "    </tr>\n",
              "    <tr>\n",
              "      <th>209</th>\n",
              "      <td>False</td>\n",
              "      <td>False</td>\n",
              "      <td>False</td>\n",
              "    </tr>\n",
              "    <tr>\n",
              "      <th>210</th>\n",
              "      <td>False</td>\n",
              "      <td>False</td>\n",
              "      <td>False</td>\n",
              "    </tr>\n",
              "    <tr>\n",
              "      <th>211</th>\n",
              "      <td>False</td>\n",
              "      <td>False</td>\n",
              "      <td>False</td>\n",
              "    </tr>\n",
              "    <tr>\n",
              "      <th>212</th>\n",
              "      <td>False</td>\n",
              "      <td>False</td>\n",
              "      <td>False</td>\n",
              "    </tr>\n",
              "    <tr>\n",
              "      <th>213</th>\n",
              "      <td>False</td>\n",
              "      <td>False</td>\n",
              "      <td>False</td>\n",
              "    </tr>\n",
              "    <tr>\n",
              "      <th>214</th>\n",
              "      <td>False</td>\n",
              "      <td>False</td>\n",
              "      <td>False</td>\n",
              "    </tr>\n",
              "    <tr>\n",
              "      <th>215</th>\n",
              "      <td>False</td>\n",
              "      <td>False</td>\n",
              "      <td>False</td>\n",
              "    </tr>\n",
              "    <tr>\n",
              "      <th>216</th>\n",
              "      <td>False</td>\n",
              "      <td>False</td>\n",
              "      <td>False</td>\n",
              "    </tr>\n",
              "    <tr>\n",
              "      <th>217</th>\n",
              "      <td>False</td>\n",
              "      <td>False</td>\n",
              "      <td>False</td>\n",
              "    </tr>\n",
              "    <tr>\n",
              "      <th>218</th>\n",
              "      <td>False</td>\n",
              "      <td>False</td>\n",
              "      <td>False</td>\n",
              "    </tr>\n",
              "    <tr>\n",
              "      <th>219</th>\n",
              "      <td>False</td>\n",
              "      <td>False</td>\n",
              "      <td>False</td>\n",
              "    </tr>\n",
              "    <tr>\n",
              "      <th>220</th>\n",
              "      <td>False</td>\n",
              "      <td>False</td>\n",
              "      <td>False</td>\n",
              "    </tr>\n",
              "    <tr>\n",
              "      <th>221</th>\n",
              "      <td>False</td>\n",
              "      <td>False</td>\n",
              "      <td>False</td>\n",
              "    </tr>\n",
              "  </tbody>\n",
              "</table>\n",
              "<p>222 rows × 3 columns</p>\n",
              "</div>"
            ],
            "text/plain": [
              "     COUNTRY  GDP_BILLIONS   CODE\n",
              "0      False         False  False\n",
              "1      False         False  False\n",
              "2      False         False   True\n",
              "3      False         False  False\n",
              "4      False          True  False\n",
              "5       True         False  False\n",
              "6      False         False  False\n",
              "7      False         False  False\n",
              "8      False         False  False\n",
              "9      False         False  False\n",
              "10     False          True  False\n",
              "11     False         False  False\n",
              "12     False         False  False\n",
              "13     False         False   True\n",
              "14     False         False  False\n",
              "15     False         False  False\n",
              "16     False         False  False\n",
              "17     False         False  False\n",
              "18     False         False  False\n",
              "19     False         False  False\n",
              "20     False          True  False\n",
              "21     False         False  False\n",
              "22     False         False  False\n",
              "23     False         False  False\n",
              "24     False         False  False\n",
              "25     False         False  False\n",
              "26     False         False  False\n",
              "27     False         False  False\n",
              "28     False         False  False\n",
              "29     False         False  False\n",
              "..       ...           ...    ...\n",
              "192    False         False  False\n",
              "193    False         False  False\n",
              "194    False         False  False\n",
              "195    False         False  False\n",
              "196    False         False  False\n",
              "197    False         False  False\n",
              "198    False         False  False\n",
              "199    False         False  False\n",
              "200    False         False  False\n",
              "201    False         False  False\n",
              "202    False         False  False\n",
              "203    False         False  False\n",
              "204    False         False  False\n",
              "205    False         False  False\n",
              "206    False         False  False\n",
              "207    False         False  False\n",
              "208    False         False  False\n",
              "209    False         False  False\n",
              "210    False         False  False\n",
              "211    False         False  False\n",
              "212    False         False  False\n",
              "213    False         False  False\n",
              "214    False         False  False\n",
              "215    False         False  False\n",
              "216    False         False  False\n",
              "217    False         False  False\n",
              "218    False         False  False\n",
              "219    False         False  False\n",
              "220    False         False  False\n",
              "221    False         False  False\n",
              "\n",
              "[222 rows x 3 columns]"
            ]
          },
          "metadata": {
            "tags": []
          },
          "execution_count": 17
        }
      ]
    },
    {
      "cell_type": "code",
      "metadata": {
        "id": "ztNrp_ZGvyx6",
        "colab_type": "code",
        "outputId": "7f9e2e98-3c91-4991-8cab-75a69416b5a2",
        "colab": {
          "base_uri": "https://localhost:8080/",
          "height": 86
        }
      },
      "source": [
        "# Ok, but scrolling throuh 222 rows looking for \"True\" sounds awful. There has \n",
        "# to be a better way, right? There is. Remember the sum function?\n",
        "\n",
        "df.isnull().sum()\n",
        "\n",
        "# Six targets. Let's take them one at a time. Starting with \"Country\"."
      ],
      "execution_count": 0,
      "outputs": [
        {
          "output_type": "execute_result",
          "data": {
            "text/plain": [
              "COUNTRY         1\n",
              "GDP_BILLIONS    3\n",
              "CODE            2\n",
              "dtype: int64"
            ]
          },
          "metadata": {
            "tags": []
          },
          "execution_count": 18
        }
      ]
    },
    {
      "cell_type": "code",
      "metadata": {
        "id": "hY_khdvO0G7W",
        "colab_type": "code",
        "outputId": "d45a8734-eb9b-4c92-bcba-f282d2ab3d6d",
        "colab": {
          "base_uri": "https://localhost:8080/",
          "height": 228
        }
      },
      "source": [
        "# We'll subset our data by choosing ALL the rows that have missing values.\n",
        "\n",
        "df[df.isnull().any(axis=1)]"
      ],
      "execution_count": 0,
      "outputs": [
        {
          "output_type": "execute_result",
          "data": {
            "text/html": [
              "<div>\n",
              "<style scoped>\n",
              "    .dataframe tbody tr th:only-of-type {\n",
              "        vertical-align: middle;\n",
              "    }\n",
              "\n",
              "    .dataframe tbody tr th {\n",
              "        vertical-align: top;\n",
              "    }\n",
              "\n",
              "    .dataframe thead th {\n",
              "        text-align: right;\n",
              "    }\n",
              "</style>\n",
              "<table border=\"1\" class=\"dataframe\">\n",
              "  <thead>\n",
              "    <tr style=\"text-align: right;\">\n",
              "      <th></th>\n",
              "      <th>COUNTRY</th>\n",
              "      <th>GDP_BILLIONS</th>\n",
              "      <th>CODE</th>\n",
              "    </tr>\n",
              "  </thead>\n",
              "  <tbody>\n",
              "    <tr>\n",
              "      <th>2</th>\n",
              "      <td>Algeria</td>\n",
              "      <td>227.80</td>\n",
              "      <td>NaN</td>\n",
              "    </tr>\n",
              "    <tr>\n",
              "      <th>4</th>\n",
              "      <td>Andorra</td>\n",
              "      <td>NaN</td>\n",
              "      <td>AND</td>\n",
              "    </tr>\n",
              "    <tr>\n",
              "      <th>5</th>\n",
              "      <td>NaN</td>\n",
              "      <td>131.40</td>\n",
              "      <td>AGO</td>\n",
              "    </tr>\n",
              "    <tr>\n",
              "      <th>10</th>\n",
              "      <td>Aruba</td>\n",
              "      <td>NaN</td>\n",
              "      <td>ABW</td>\n",
              "    </tr>\n",
              "    <tr>\n",
              "      <th>13</th>\n",
              "      <td>Azerbaijan</td>\n",
              "      <td>77.91</td>\n",
              "      <td>NaN</td>\n",
              "    </tr>\n",
              "    <tr>\n",
              "      <th>20</th>\n",
              "      <td>Belize</td>\n",
              "      <td>NaN</td>\n",
              "      <td>BLZ</td>\n",
              "    </tr>\n",
              "  </tbody>\n",
              "</table>\n",
              "</div>"
            ],
            "text/plain": [
              "       COUNTRY  GDP_BILLIONS CODE\n",
              "2      Algeria        227.80  NaN\n",
              "4      Andorra           NaN  AND\n",
              "5          NaN        131.40  AGO\n",
              "10       Aruba           NaN  ABW\n",
              "13  Azerbaijan         77.91  NaN\n",
              "20      Belize           NaN  BLZ"
            ]
          },
          "metadata": {
            "tags": []
          },
          "execution_count": 20
        }
      ]
    },
    {
      "cell_type": "markdown",
      "metadata": {
        "id": "Eez53JH63Fa8",
        "colab_type": "text"
      },
      "source": [
        "**Let's say we were able to identify the actual values that belong in the DataFrame as follows:**\n",
        "\n",
        "\n",
        "\n",
        "*   Algeria has an Alpha-3 code of DZA\n",
        "*   Andorra has a GDP of 4.80 billion\n",
        "*   Azerbaijan has an Alpha-3 code of AZE\n",
        "*   Aruba has a GDP of 2.52 billion\n",
        "*   Belize has a GDP of 1.67 billion\n",
        "*   Angola is the missing 'COUNTRY' value  \n",
        "\n",
        "\n",
        "We'll use the pandas [at() method to handle this.](https://pandas.pydata.org/pandas-docs/stable/reference/api/pandas.DataFrame.at.html)\n",
        "\n",
        "\n",
        "\n",
        "\n",
        "\n"
      ]
    },
    {
      "cell_type": "code",
      "metadata": {
        "id": "zhbYh4lq4aR3",
        "colab_type": "code",
        "colab": {}
      },
      "source": [
        "# We specify the row index, the column name, and the value we'd like to assign to it:\n",
        "df.at[2, \"CODE\"] = \"DZA\"\n",
        "df.at[4, \"GDP_BILLIONS\"] = 4.80\n",
        "df.at[5, \"COUNTRY\"] = \"Angola\"\n",
        "df.at[10, \"GDP_BILLIONS\"] = 2.52\n",
        "df.at[13, \"CODE\"] = \"AZE\"\n",
        "df.at[20, \"GDP_BILLIONS\"] = 1.67"
      ],
      "execution_count": 0,
      "outputs": []
    },
    {
      "cell_type": "code",
      "metadata": {
        "id": "UhXr3OYH5hX5",
        "colab_type": "code",
        "outputId": "af3e3e63-1f62-4289-fb8c-f3318ccfac07",
        "colab": {
          "base_uri": "https://localhost:8080/",
          "height": 86
        }
      },
      "source": [
        "df.isnull().sum()"
      ],
      "execution_count": 0,
      "outputs": [
        {
          "output_type": "execute_result",
          "data": {
            "text/plain": [
              "COUNTRY         0\n",
              "GDP_BILLIONS    0\n",
              "CODE            0\n",
              "dtype: int64"
            ]
          },
          "metadata": {
            "tags": []
          },
          "execution_count": 22
        }
      ]
    },
    {
      "cell_type": "code",
      "metadata": {
        "id": "U-oSMvv8-BlD",
        "colab_type": "code",
        "outputId": "006c1f58-5d15-45b6-84f7-a031ed4dc0fb",
        "colab": {
          "base_uri": "https://localhost:8080/",
          "height": 348
        }
      },
      "source": [
        "df.head(10)"
      ],
      "execution_count": 0,
      "outputs": [
        {
          "output_type": "execute_result",
          "data": {
            "text/html": [
              "<div>\n",
              "<style scoped>\n",
              "    .dataframe tbody tr th:only-of-type {\n",
              "        vertical-align: middle;\n",
              "    }\n",
              "\n",
              "    .dataframe tbody tr th {\n",
              "        vertical-align: top;\n",
              "    }\n",
              "\n",
              "    .dataframe thead th {\n",
              "        text-align: right;\n",
              "    }\n",
              "</style>\n",
              "<table border=\"1\" class=\"dataframe\">\n",
              "  <thead>\n",
              "    <tr style=\"text-align: right;\">\n",
              "      <th></th>\n",
              "      <th>COUNTRY</th>\n",
              "      <th>GDP_BILLIONS</th>\n",
              "      <th>CODE</th>\n",
              "    </tr>\n",
              "  </thead>\n",
              "  <tbody>\n",
              "    <tr>\n",
              "      <th>0</th>\n",
              "      <td>Afghanistan</td>\n",
              "      <td>21.71</td>\n",
              "      <td>AFG</td>\n",
              "    </tr>\n",
              "    <tr>\n",
              "      <th>1</th>\n",
              "      <td>Albania</td>\n",
              "      <td>13.40</td>\n",
              "      <td>ALB</td>\n",
              "    </tr>\n",
              "    <tr>\n",
              "      <th>2</th>\n",
              "      <td>Algeria</td>\n",
              "      <td>227.80</td>\n",
              "      <td>DZA</td>\n",
              "    </tr>\n",
              "    <tr>\n",
              "      <th>3</th>\n",
              "      <td>American Samoa</td>\n",
              "      <td>0.75</td>\n",
              "      <td>ASM</td>\n",
              "    </tr>\n",
              "    <tr>\n",
              "      <th>4</th>\n",
              "      <td>Andorra</td>\n",
              "      <td>4.80</td>\n",
              "      <td>AND</td>\n",
              "    </tr>\n",
              "    <tr>\n",
              "      <th>5</th>\n",
              "      <td>Angola</td>\n",
              "      <td>131.40</td>\n",
              "      <td>AGO</td>\n",
              "    </tr>\n",
              "    <tr>\n",
              "      <th>6</th>\n",
              "      <td>Anguilla</td>\n",
              "      <td>0.18</td>\n",
              "      <td>AIA</td>\n",
              "    </tr>\n",
              "    <tr>\n",
              "      <th>7</th>\n",
              "      <td>Antigua and Barbuda</td>\n",
              "      <td>1.24</td>\n",
              "      <td>ATG</td>\n",
              "    </tr>\n",
              "    <tr>\n",
              "      <th>8</th>\n",
              "      <td>Argentina</td>\n",
              "      <td>536.20</td>\n",
              "      <td>ARG</td>\n",
              "    </tr>\n",
              "    <tr>\n",
              "      <th>9</th>\n",
              "      <td>Armenia</td>\n",
              "      <td>10.88</td>\n",
              "      <td>ARM</td>\n",
              "    </tr>\n",
              "  </tbody>\n",
              "</table>\n",
              "</div>"
            ],
            "text/plain": [
              "               COUNTRY  GDP_BILLIONS CODE\n",
              "0          Afghanistan         21.71  AFG\n",
              "1              Albania         13.40  ALB\n",
              "2              Algeria        227.80  DZA\n",
              "3       American Samoa          0.75  ASM\n",
              "4              Andorra          4.80  AND\n",
              "5               Angola        131.40  AGO\n",
              "6             Anguilla          0.18  AIA\n",
              "7  Antigua and Barbuda          1.24  ATG\n",
              "8            Argentina        536.20  ARG\n",
              "9              Armenia         10.88  ARM"
            ]
          },
          "metadata": {
            "tags": []
          },
          "execution_count": 24
        }
      ]
    },
    {
      "cell_type": "markdown",
      "metadata": {
        "id": "TR0Y4x49XyY4",
        "colab_type": "text"
      },
      "source": [
        "## Less obvious things:\n",
        "We checked for missing values, but now we need to worry about duplicate or incorrect values. Let's look for duplicates.  \n",
        "\n",
        "We'll use the value_counts() method, sorted to see where any values appear more than once. The head() at the end of the chain limits our output to five observations to keep things manageable. If any of them have multiple values beyond the first five observations, we'll expand the head until we account for all duplicates. "
      ]
    },
    {
      "cell_type": "code",
      "metadata": {
        "id": "2SdLd42Q83w8",
        "colab_type": "code",
        "outputId": "65cb4dea-c0ab-4def-e4b4-8f56d499c5c1",
        "colab": {
          "base_uri": "https://localhost:8080/",
          "height": 121
        }
      },
      "source": [
        "df[\"COUNTRY\"].value_counts(sort=True).head()"
      ],
      "execution_count": 0,
      "outputs": [
        {
          "output_type": "execute_result",
          "data": {
            "text/plain": [
              "Togo          1\n",
              "Tanzania      1\n",
              "Tonga         1\n",
              "Macau         1\n",
              "Tajikistan    1\n",
              "Name: COUNTRY, dtype: int64"
            ]
          },
          "metadata": {
            "tags": []
          },
          "execution_count": 27
        }
      ]
    },
    {
      "cell_type": "markdown",
      "metadata": {
        "id": "i0VhKP-u9qlO",
        "colab_type": "text"
      },
      "source": [
        "That one's good to go. No duplicates (we wouldn't expect any here)."
      ]
    },
    {
      "cell_type": "code",
      "metadata": {
        "id": "CutlqXqu84W8",
        "colab_type": "code",
        "outputId": "4378a0cf-8718-49e0-c58f-31acaa129aeb",
        "colab": {
          "base_uri": "https://localhost:8080/",
          "height": 121
        }
      },
      "source": [
        "df[\"GDP_BILLIONS\"].value_counts(sort=True).head(5)"
      ],
      "execution_count": 0,
      "outputs": [
        {
          "output_type": "execute_result",
          "data": {
            "text/plain": [
              "0.18     3\n",
              "0.75     2\n",
              "0.16     2\n",
              "70.03    1\n",
              "10.92    1\n",
              "Name: GDP_BILLIONS, dtype: int64"
            ]
          },
          "metadata": {
            "tags": []
          },
          "execution_count": 30
        }
      ]
    },
    {
      "cell_type": "markdown",
      "metadata": {
        "id": "Jz0Xio0N9vQg",
        "colab_type": "text"
      },
      "source": [
        "Ok. Several duplicates. But we'd expect some in GDP since we're using billions and only two decimal places. In terms of preparing our data, next steps here would be to double-check those values with official records. Alternatively, we could add decimal places for greater precision. "
      ]
    },
    {
      "cell_type": "code",
      "metadata": {
        "id": "jai2Bb6FsSiI",
        "colab_type": "code",
        "outputId": "b9f9c26b-3a60-4932-edd2-3b57da47aaea",
        "colab": {
          "base_uri": "https://localhost:8080/",
          "height": 121
        }
      },
      "source": [
        "df[\"CODE\"].value_counts(sort=True).head()"
      ],
      "execution_count": 0,
      "outputs": [
        {
          "output_type": "execute_result",
          "data": {
            "text/plain": [
              "VGB    2\n",
              "HKG    2\n",
              "FLK    1\n",
              "ZWE    1\n",
              "CHN    1\n",
              "Name: CODE, dtype: int64"
            ]
          },
          "metadata": {
            "tags": []
          },
          "execution_count": 31
        }
      ]
    },
    {
      "cell_type": "markdown",
      "metadata": {
        "id": "w5k7Mlpf-D-C",
        "colab_type": "text"
      },
      "source": [
        "This one's dangerous. Like \"COUNTRY\" we wouldn't expect any duplicate values here, but we've got two. Let's see what's going on:"
      ]
    },
    {
      "cell_type": "code",
      "metadata": {
        "id": "B04twRrdX_D2",
        "colab_type": "code",
        "outputId": "bebd7e1f-2338-4f4e-aeb1-07b0f7228852",
        "colab": {
          "base_uri": "https://localhost:8080/",
          "height": 108
        }
      },
      "source": [
        "df[df['CODE'] == \"VGB\"]"
      ],
      "execution_count": 0,
      "outputs": [
        {
          "output_type": "execute_result",
          "data": {
            "text/html": [
              "<div>\n",
              "<style scoped>\n",
              "    .dataframe tbody tr th:only-of-type {\n",
              "        vertical-align: middle;\n",
              "    }\n",
              "\n",
              "    .dataframe tbody tr th {\n",
              "        vertical-align: top;\n",
              "    }\n",
              "\n",
              "    .dataframe thead th {\n",
              "        text-align: right;\n",
              "    }\n",
              "</style>\n",
              "<table border=\"1\" class=\"dataframe\">\n",
              "  <thead>\n",
              "    <tr style=\"text-align: right;\">\n",
              "      <th></th>\n",
              "      <th>COUNTRY</th>\n",
              "      <th>GDP_BILLIONS</th>\n",
              "      <th>CODE</th>\n",
              "    </tr>\n",
              "  </thead>\n",
              "  <tbody>\n",
              "    <tr>\n",
              "      <th>28</th>\n",
              "      <td>British Virgin Islands</td>\n",
              "      <td>1.10</td>\n",
              "      <td>VGB</td>\n",
              "    </tr>\n",
              "    <tr>\n",
              "      <th>217</th>\n",
              "      <td>Virgin Islands</td>\n",
              "      <td>5.08</td>\n",
              "      <td>VGB</td>\n",
              "    </tr>\n",
              "  </tbody>\n",
              "</table>\n",
              "</div>"
            ],
            "text/plain": [
              "                    COUNTRY  GDP_BILLIONS CODE\n",
              "28   British Virgin Islands          1.10  VGB\n",
              "217          Virgin Islands          5.08  VGB"
            ]
          },
          "metadata": {
            "tags": []
          },
          "execution_count": 32
        }
      ]
    },
    {
      "cell_type": "markdown",
      "metadata": {
        "id": "D40uNstM-e9V",
        "colab_type": "text"
      },
      "source": [
        "So there's the British Virgin Islands and the American Virgin Islands. The latter has an A-3 code of VIR, not VGB. Let's fix it:"
      ]
    },
    {
      "cell_type": "code",
      "metadata": {
        "id": "_pYartEJ-n0C",
        "colab_type": "code",
        "colab": {}
      },
      "source": [
        "df.at[217, \"CODE\"] = \"VIR\""
      ],
      "execution_count": 0,
      "outputs": []
    },
    {
      "cell_type": "code",
      "metadata": {
        "id": "owclShNA-wAP",
        "colab_type": "code",
        "outputId": "c29de168-2431-41ab-a9d9-5041aed58b24",
        "colab": {
          "base_uri": "https://localhost:8080/",
          "height": 108
        }
      },
      "source": [
        "df[df['CODE'] == \"HKG\"]"
      ],
      "execution_count": 0,
      "outputs": [
        {
          "output_type": "execute_result",
          "data": {
            "text/html": [
              "<div>\n",
              "<style scoped>\n",
              "    .dataframe tbody tr th:only-of-type {\n",
              "        vertical-align: middle;\n",
              "    }\n",
              "\n",
              "    .dataframe tbody tr th {\n",
              "        vertical-align: top;\n",
              "    }\n",
              "\n",
              "    .dataframe thead th {\n",
              "        text-align: right;\n",
              "    }\n",
              "</style>\n",
              "<table border=\"1\" class=\"dataframe\">\n",
              "  <thead>\n",
              "    <tr style=\"text-align: right;\">\n",
              "      <th></th>\n",
              "      <th>COUNTRY</th>\n",
              "      <th>GDP_BILLIONS</th>\n",
              "      <th>CODE</th>\n",
              "    </tr>\n",
              "  </thead>\n",
              "  <tbody>\n",
              "    <tr>\n",
              "      <th>89</th>\n",
              "      <td>Hong Kong</td>\n",
              "      <td>292.7</td>\n",
              "      <td>HKG</td>\n",
              "    </tr>\n",
              "    <tr>\n",
              "      <th>90</th>\n",
              "      <td>Hungary</td>\n",
              "      <td>129.7</td>\n",
              "      <td>HKG</td>\n",
              "    </tr>\n",
              "  </tbody>\n",
              "</table>\n",
              "</div>"
            ],
            "text/plain": [
              "      COUNTRY  GDP_BILLIONS CODE\n",
              "89  Hong Kong         292.7  HKG\n",
              "90    Hungary         129.7  HKG"
            ]
          },
          "metadata": {
            "tags": []
          },
          "execution_count": 34
        }
      ]
    },
    {
      "cell_type": "markdown",
      "metadata": {
        "id": "dQgk8dFS-1OZ",
        "colab_type": "text"
      },
      "source": [
        "Hungary is supposed to be HUN. Let's change it: "
      ]
    },
    {
      "cell_type": "code",
      "metadata": {
        "id": "L16RGE5G-0LH",
        "colab_type": "code",
        "colab": {}
      },
      "source": [
        "df.at[90, \"CODE\"] = \"HUN\""
      ],
      "execution_count": 0,
      "outputs": []
    },
    {
      "cell_type": "markdown",
      "metadata": {
        "id": "X2nqI5Uc_Am_",
        "colab_type": "text"
      },
      "source": [
        "To be thorough, let's make sure our changes didn't create any new duplicates in the \"CODE\" column:"
      ]
    },
    {
      "cell_type": "code",
      "metadata": {
        "id": "e4KGpNxcYWY4",
        "colab_type": "code",
        "outputId": "8f960ed5-6e78-4c0e-ed53-ae40c03f69e6",
        "colab": {
          "base_uri": "https://localhost:8080/",
          "height": 121
        }
      },
      "source": [
        "df[\"CODE\"].value_counts(sort=True).head()"
      ],
      "execution_count": 0,
      "outputs": [
        {
          "output_type": "execute_result",
          "data": {
            "text/plain": [
              "FLK    1\n",
              "BGD    1\n",
              "KEN    1\n",
              "BLZ    1\n",
              "CHN    1\n",
              "Name: CODE, dtype: int64"
            ]
          },
          "metadata": {
            "tags": []
          },
          "execution_count": 36
        }
      ]
    },
    {
      "cell_type": "markdown",
      "metadata": {
        "id": "7BqbpyNyzxqk",
        "colab_type": "text"
      },
      "source": [
        "## Even less obvious things"
      ]
    },
    {
      "cell_type": "code",
      "metadata": {
        "id": "u49qzTU-_UD7",
        "colab_type": "code",
        "outputId": "a6e16988-dfdb-4ed9-8c1b-0be6affd78e0",
        "colab": {
          "base_uri": "https://localhost:8080/",
          "height": 348
        }
      },
      "source": [
        "df.sort_values(by='GDP_BILLIONS', ascending=False).head(10)"
      ],
      "execution_count": 0,
      "outputs": [
        {
          "output_type": "execute_result",
          "data": {
            "text/html": [
              "<div>\n",
              "<style scoped>\n",
              "    .dataframe tbody tr th:only-of-type {\n",
              "        vertical-align: middle;\n",
              "    }\n",
              "\n",
              "    .dataframe tbody tr th {\n",
              "        vertical-align: top;\n",
              "    }\n",
              "\n",
              "    .dataframe thead th {\n",
              "        text-align: right;\n",
              "    }\n",
              "</style>\n",
              "<table border=\"1\" class=\"dataframe\">\n",
              "  <thead>\n",
              "    <tr style=\"text-align: right;\">\n",
              "      <th></th>\n",
              "      <th>COUNTRY</th>\n",
              "      <th>GDP_BILLIONS</th>\n",
              "      <th>CODE</th>\n",
              "    </tr>\n",
              "  </thead>\n",
              "  <tbody>\n",
              "    <tr>\n",
              "      <th>211</th>\n",
              "      <td>United States</td>\n",
              "      <td>17420.0</td>\n",
              "      <td>USA</td>\n",
              "    </tr>\n",
              "    <tr>\n",
              "      <th>42</th>\n",
              "      <td>China</td>\n",
              "      <td>10360.0</td>\n",
              "      <td>CHN</td>\n",
              "    </tr>\n",
              "    <tr>\n",
              "      <th>214</th>\n",
              "      <td>Vanuatu</td>\n",
              "      <td>8200.0</td>\n",
              "      <td>VUT</td>\n",
              "    </tr>\n",
              "    <tr>\n",
              "      <th>101</th>\n",
              "      <td>Japan</td>\n",
              "      <td>4770.0</td>\n",
              "      <td>JPN</td>\n",
              "    </tr>\n",
              "    <tr>\n",
              "      <th>75</th>\n",
              "      <td>Germany</td>\n",
              "      <td>3820.0</td>\n",
              "      <td>DEU</td>\n",
              "    </tr>\n",
              "    <tr>\n",
              "      <th>70</th>\n",
              "      <td>France</td>\n",
              "      <td>2902.0</td>\n",
              "      <td>FRA</td>\n",
              "    </tr>\n",
              "    <tr>\n",
              "      <th>210</th>\n",
              "      <td>United Kingdom</td>\n",
              "      <td>2848.0</td>\n",
              "      <td>GBR</td>\n",
              "    </tr>\n",
              "    <tr>\n",
              "      <th>27</th>\n",
              "      <td>Brazil</td>\n",
              "      <td>2244.0</td>\n",
              "      <td>BRA</td>\n",
              "    </tr>\n",
              "    <tr>\n",
              "      <th>99</th>\n",
              "      <td>Italy</td>\n",
              "      <td>2129.0</td>\n",
              "      <td>ITA</td>\n",
              "    </tr>\n",
              "    <tr>\n",
              "      <th>164</th>\n",
              "      <td>Russia</td>\n",
              "      <td>2057.0</td>\n",
              "      <td>RUS</td>\n",
              "    </tr>\n",
              "  </tbody>\n",
              "</table>\n",
              "</div>"
            ],
            "text/plain": [
              "            COUNTRY  GDP_BILLIONS CODE\n",
              "211   United States       17420.0  USA\n",
              "42            China       10360.0  CHN\n",
              "214         Vanuatu        8200.0  VUT\n",
              "101           Japan        4770.0  JPN\n",
              "75          Germany        3820.0  DEU\n",
              "70           France        2902.0  FRA\n",
              "210  United Kingdom        2848.0  GBR\n",
              "27           Brazil        2244.0  BRA\n",
              "99            Italy        2129.0  ITA\n",
              "164          Russia        2057.0  RUS"
            ]
          },
          "metadata": {
            "tags": []
          },
          "execution_count": 37
        }
      ]
    },
    {
      "cell_type": "markdown",
      "metadata": {
        "id": "Hd4Oz-QnAGq8",
        "colab_type": "text"
      },
      "source": [
        "Clearly, Vanuatu isn't the 3rd largest economy in the world. Its GDP is actually supposed to be 0.82 billion."
      ]
    },
    {
      "cell_type": "code",
      "metadata": {
        "id": "jnD5BL1VAUOa",
        "colab_type": "code",
        "colab": {}
      },
      "source": [
        "df.at[214, \"GDP (BILLIONS)\"] = 0.82"
      ],
      "execution_count": 0,
      "outputs": []
    },
    {
      "cell_type": "markdown",
      "metadata": {
        "id": "pNtfYCk-_VBw",
        "colab_type": "text"
      },
      "source": [
        "\n",
        "\n",
        "---\n",
        "\n",
        "\n",
        "## Assignment time!"
      ]
    }
  ]
}