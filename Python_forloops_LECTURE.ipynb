{
  "nbformat": 4,
  "nbformat_minor": 0,
  "metadata": {
    "colab": {
      "name": "Python_forloops_LECTURE.ipynb",
      "provenance": [],
      "collapsed_sections": [],
      "include_colab_link": true
    },
    "kernelspec": {
      "name": "python3",
      "display_name": "Python 3"
    }
  },
  "cells": [
    {
      "cell_type": "markdown",
      "metadata": {
        "id": "view-in-github",
        "colab_type": "text"
      },
      "source": [
        "<a href=\"https://colab.research.google.com/github/Bayaniblues/Lambda-precourse/blob/master/Python_forloops_LECTURE.ipynb\" target=\"_parent\"><img src=\"https://colab.research.google.com/assets/colab-badge.svg\" alt=\"Open In Colab\"/></a>"
      ]
    },
    {
      "cell_type": "markdown",
      "metadata": {
        "id": "ZvNsvUNNlZbi",
        "colab_type": "text"
      },
      "source": [
        "---\n",
        "# Lambda School Data Science - Intro to Python  \n",
        "---\n",
        "# Lecture 2A - Python For Loops\n",
        "---\n",
        "\n"
      ]
    },
    {
      "cell_type": "markdown",
      "metadata": {
        "id": "1z0tw5PXQWd0",
        "colab_type": "text"
      },
      "source": [
        "## Running blocks of code repeatedly (iteration)"
      ]
    },
    {
      "cell_type": "markdown",
      "metadata": {
        "id": "K-zPKPSTKGzi",
        "colab_type": "text"
      },
      "source": [
        "Loops in Python provide a way for us to run the same block of code over and over again. This repetition is called ***iteration***. There are many ways to iterate in Python, but we're going to focus on the most popular: For Loops.\n",
        "\n",
        "For Loops are a type of \"definitive\" iteration. This just means that we have to specify beforehand how many times we want our block of code to run."
      ]
    },
    {
      "cell_type": "markdown",
      "metadata": {
        "id": "agkrtqvAMcEH",
        "colab_type": "text"
      },
      "source": [
        "### How do we tell a For Loop how many times to run?\n",
        "\n",
        "The way that we tell a For Loop how many times to run is by providing it an \"iterable.\" Iterables are a category of data structures that hold multiple items in them (this actually isn't 100% correct but is an OK way to think about it as you're getting started). A list is an iterable! \n",
        "\n",
        "If I provide a list to a For Loop, the loop will run once for each item in the list. \n"
      ]
    },
    {
      "cell_type": "code",
      "metadata": {
        "id": "aBWTv9jOLsrP",
        "colab_type": "code",
        "outputId": "6b5986c9-4866-4154-dfd6-e29d45e7bd94",
        "colab": {
          "base_uri": "https://localhost:8080/",
          "height": 108
        }
      },
      "source": [
        "for item in [1,2,3,4,5]:\n",
        "  print(\"Hello!\")"
      ],
      "execution_count": 0,
      "outputs": [
        {
          "output_type": "stream",
          "text": [
            "Hello!\n",
            "Hello!\n",
            "Hello!\n",
            "Hello!\n",
            "Hello!\n"
          ],
          "name": "stdout"
        }
      ]
    },
    {
      "cell_type": "code",
      "metadata": {
        "id": "Nr8l3zXPMCyr",
        "colab_type": "code",
        "outputId": "be2c97ea-6d99-481d-bd73-02020ec5a844",
        "colab": {
          "base_uri": "https://localhost:8080/",
          "height": 108
        }
      },
      "source": [
        "for value in [1,2,3,4,5]:\n",
        "  print(value)"
      ],
      "execution_count": 0,
      "outputs": [
        {
          "output_type": "stream",
          "text": [
            "1\n",
            "2\n",
            "3\n",
            "4\n",
            "5\n"
          ],
          "name": "stdout"
        }
      ]
    },
    {
      "cell_type": "markdown",
      "metadata": {
        "id": "evaHGbNmS-vl",
        "colab_type": "text"
      },
      "source": [
        "### For Loop Syntax"
      ]
    },
    {
      "cell_type": "markdown",
      "metadata": {
        "id": "ncSDh-qlNlRw",
        "colab_type": "text"
      },
      "source": [
        "Notice that I start a for loop off with the keyword `for` and then provide a variable whose value will change based on each iteration of the for loop. \n",
        "\n",
        "I use the keyword `in` to indicate that this variable will represent items from the following iterable, and then I provide an iterable. In the above examples I simply used a list. \n",
        "\n",
        "The declaration of any for loop ends with a colon `:`, this tells the Python interpreter that I'm done with that statement and that the code block that I want to repeat is coming next.\n",
        "\n",
        "When providing the block that I want to be repeated I have to indent each line in order to designate that the code block is within the for loop. If I want to write additional code after the for loop, then I just don't indent it."
      ]
    },
    {
      "cell_type": "code",
      "metadata": {
        "id": "XOrh2TiZOZE9",
        "colab_type": "code",
        "outputId": "d3e6b95a-a558-483e-f027-7fba798e3b76",
        "colab": {
          "base_uri": "https://localhost:8080/",
          "height": 326
        }
      },
      "source": [
        "animal_list = ['cat', 'dog', 'fish', 'bird']\n",
        "\n",
        "for animal in animal_list:\n",
        "  # Indent to put things inside the For Loop\n",
        "  print('-------------------')\n",
        "  print(\"*****\", animal, \"*****\")\n",
        "  print('-------------------\\n')\n",
        "\n",
        "# Unindent to put code outside of the for loop\n",
        "print(\"Are some of my favorite animals.\")"
      ],
      "execution_count": 0,
      "outputs": [
        {
          "output_type": "stream",
          "text": [
            "-------------------\n",
            "***** cat *****\n",
            "-------------------\n",
            "\n",
            "-------------------\n",
            "***** dog *****\n",
            "-------------------\n",
            "\n",
            "-------------------\n",
            "***** fish *****\n",
            "-------------------\n",
            "\n",
            "-------------------\n",
            "***** bird *****\n",
            "-------------------\n",
            "\n",
            "Are some of my favorite animals.\n"
          ],
          "name": "stdout"
        }
      ]
    },
    {
      "cell_type": "markdown",
      "metadata": {
        "id": "O3i4ozrMQkNG",
        "colab_type": "text"
      },
      "source": [
        "### The range() Iterable\n",
        "\n",
        "What if I wanted a block of code to run 20 times, but I didn't have a list handy out to use as the iterable? Well, there's a really easy way to make iterables in python using the `range()` function.\n",
        "\n",
        "In order to make an iterable of a certain size simply pass in two arguments to the range function:\n",
        "\n",
        "1.   The number you want it to start at (inclusive).\n",
        "2.   The number you want it to end at (exclusive)."
      ]
    },
    {
      "cell_type": "code",
      "metadata": {
        "id": "K6aKDfYtQ1wv",
        "colab_type": "code",
        "outputId": "835700ad-4c9b-4e42-cbe2-d1fdd89ee625",
        "colab": {
          "base_uri": "https://localhost:8080/",
          "height": 381
        }
      },
      "source": [
        "for item in range(1, 21):\n",
        "  print(item)"
      ],
      "execution_count": 0,
      "outputs": [
        {
          "output_type": "stream",
          "text": [
            "1\n",
            "2\n",
            "3\n",
            "4\n",
            "5\n",
            "6\n",
            "7\n",
            "8\n",
            "9\n",
            "10\n",
            "11\n",
            "12\n",
            "13\n",
            "14\n",
            "15\n",
            "16\n",
            "17\n",
            "18\n",
            "19\n",
            "20\n"
          ],
          "name": "stdout"
        }
      ]
    },
    {
      "cell_type": "markdown",
      "metadata": {
        "id": "GPBEz2vSRtEi",
        "colab_type": "text"
      },
      "source": [
        "If I only pass one argument into the range function, then it will just start at 0 and count up to one less than that number.\n",
        "\n",
        "In this case it becomes kind of nice that the range function starts at 0 and that the second argument of the range function is exclusive, because if I want a loop to run 5 times then I can just pass in exactly then number 5 to the range function and use that as my iterable and I'll get a loop that runs 5 times."
      ]
    },
    {
      "cell_type": "code",
      "metadata": {
        "id": "ahdpNB2XSJlf",
        "colab_type": "code",
        "outputId": "cbf2663e-981c-4cae-90c7-a46284ad76c1",
        "colab": {
          "base_uri": "https://localhost:8080/",
          "height": 108
        }
      },
      "source": [
        "for item in range(5):\n",
        "  print(item)"
      ],
      "execution_count": 0,
      "outputs": [
        {
          "output_type": "stream",
          "text": [
            "0\n",
            "1\n",
            "2\n",
            "3\n",
            "4\n"
          ],
          "name": "stdout"
        }
      ]
    },
    {
      "cell_type": "code",
      "metadata": {
        "id": "FobWPtPzR0kL",
        "colab_type": "code",
        "outputId": "caae8fd5-24a5-4219-d979-a46bea908836",
        "colab": {
          "base_uri": "https://localhost:8080/",
          "height": 108
        }
      },
      "source": [
        "for item in range(5):\n",
        "  print('This code has run', item+1, 'times')"
      ],
      "execution_count": 0,
      "outputs": [
        {
          "output_type": "stream",
          "text": [
            "This code has run 1 times\n",
            "This code has run 2 times\n",
            "This code has run 3 times\n",
            "This code has run 4 times\n",
            "This code has run 5 times\n"
          ],
          "name": "stdout"
        }
      ]
    },
    {
      "cell_type": "markdown",
      "metadata": {
        "id": "bRJlLliUR3zd",
        "colab_type": "text"
      },
      "source": [
        "The range function is a great way to tell a for loop how many times to run when you don't have an iterable data structure handy to provide to the loop. "
      ]
    },
    {
      "cell_type": "markdown",
      "metadata": {
        "id": "6S6SE5NpUBCV",
        "colab_type": "text"
      },
      "source": [
        "### Manipulating Lists as we iterate over them\n",
        "\n",
        "One of the most powerful uses of For Loops is using them in combination with lists in order to run different code based on each individual value in a list. For example, I can write a for loop that squares each value in a list"
      ]
    },
    {
      "cell_type": "code",
      "metadata": {
        "id": "gknEoGrqUQdJ",
        "colab_type": "code",
        "outputId": "5ed4e41b-b8c6-41ae-d9a6-551ff0fca7b3",
        "colab": {
          "base_uri": "https://localhost:8080/",
          "height": 108
        }
      },
      "source": [
        "numbers_to_square = [1,2,3,4,5]\n",
        "\n",
        "for number in numbers_to_square:\n",
        "  print(number**2)\n"
      ],
      "execution_count": 0,
      "outputs": [
        {
          "output_type": "stream",
          "text": [
            "1\n",
            "4\n",
            "9\n",
            "16\n",
            "25\n"
          ],
          "name": "stdout"
        }
      ]
    },
    {
      "cell_type": "markdown",
      "metadata": {
        "id": "u9bttc8IUzjB",
        "colab_type": "text"
      },
      "source": [
        "I can create a new list that holds the squared values by creating an empty list and appending these new values to the empty list"
      ]
    },
    {
      "cell_type": "code",
      "metadata": {
        "id": "JkrwobfGU7xh",
        "colab_type": "code",
        "outputId": "ac8d8ff6-9d78-44e8-f0cf-a55ca9d6b4f6",
        "colab": {
          "base_uri": "https://localhost:8080/",
          "height": 54
        }
      },
      "source": [
        "numbers_to_square = [1,2,3,4]\n",
        "\n",
        "squared_numbers = []\n",
        "for number in numbers_to_square:\n",
        "  squared_numbers.append(number**2)\n",
        "\n",
        "print(numbers_to_square)\n",
        "print(squared_numbers)"
      ],
      "execution_count": 0,
      "outputs": [
        {
          "output_type": "stream",
          "text": [
            "[1, 2, 3, 4]\n",
            "[1, 4, 9, 16]\n"
          ],
          "name": "stdout"
        }
      ]
    },
    {
      "cell_type": "markdown",
      "metadata": {
        "id": "QZWwkdwiVDQG",
        "colab_type": "text"
      },
      "source": [
        "I can also keep track of the number of iterations that the for loop is on by using the `enumerate()` function. When I use the enumerate function I can add a second variable to the beginning of the for loop. The first variable will represent the specific iteration of the for loop, and the second variable will change to represent the each item in the list."
      ]
    },
    {
      "cell_type": "code",
      "metadata": {
        "id": "ONqnxN1qVJLy",
        "colab_type": "code",
        "outputId": "983bfe0d-c7ab-4586-9f38-fb6ef577c4f1",
        "colab": {
          "base_uri": "https://localhost:8080/",
          "height": 90
        }
      },
      "source": [
        "for i, number in enumerate(numbers_to_square):\n",
        "  print(\"index:\", i, \"-- item in original list:\", number, \"-- item in original list squared:\", number**2)"
      ],
      "execution_count": 0,
      "outputs": [
        {
          "output_type": "stream",
          "text": [
            "index: 0 -- item in original list: 1 -- item in original list squared: 1\n",
            "index: 1 -- item in original list: 2 -- item in original list squared: 4\n",
            "index: 2 -- item in original list: 3 -- item in original list squared: 9\n",
            "index: 3 -- item in original list: 4 -- item in original list squared: 16\n"
          ],
          "name": "stdout"
        }
      ]
    },
    {
      "cell_type": "markdown",
      "metadata": {
        "id": "nP0vzEaHjadN",
        "colab_type": "text"
      },
      "source": [
        "Now not only can I use this `i` variable in combination with the `enumerate()` function to track the iteration that my loop is on, I can use it to overwrite values in the original list as well."
      ]
    },
    {
      "cell_type": "code",
      "metadata": {
        "id": "3mbTusxZjZZy",
        "colab_type": "code",
        "outputId": "52af9b8e-4cc1-470d-9a18-f64d65a89963",
        "colab": {
          "base_uri": "https://localhost:8080/",
          "height": 35
        }
      },
      "source": [
        "for i, number in enumerate(numbers_to_square):\n",
        "  numbers_to_square[i] = number**2\n",
        "\n",
        "print(numbers_to_square)"
      ],
      "execution_count": 0,
      "outputs": [
        {
          "output_type": "stream",
          "text": [
            "[1, 4, 9, 16]\n"
          ],
          "name": "stdout"
        }
      ]
    },
    {
      "cell_type": "markdown",
      "metadata": {
        "id": "fimEGSQcXiAk",
        "colab_type": "text"
      },
      "source": [
        "### Using For Loops to modify the list that we are looping (iterating) over"
      ]
    },
    {
      "cell_type": "markdown",
      "metadata": {
        "id": "EO0-trJ3XChL",
        "colab_type": "text"
      },
      "source": [
        "I can now use this \"index\" value not only to access items in the original list but to modify the previous list as I am looping over it. Lets write a loop that subtracts one from each item in the list that we are iterating over."
      ]
    },
    {
      "cell_type": "code",
      "metadata": {
        "id": "fIBeN0-EXP4G",
        "colab_type": "code",
        "outputId": "6d1c08d2-1ac8-4b71-d3cf-def53547bc71",
        "colab": {
          "base_uri": "https://localhost:8080/",
          "height": 35
        }
      },
      "source": [
        "my_list = [5,6,7,8,9,10]\n",
        "\n",
        "for i, num in enumerate(my_list):\n",
        "  my_list[i] = my_list[i]-1\n",
        "\n",
        "print(my_list)"
      ],
      "execution_count": 0,
      "outputs": [
        {
          "output_type": "stream",
          "text": [
            "[4, 5, 6, 7, 8, 9]\n"
          ],
          "name": "stdout"
        }
      ]
    },
    {
      "cell_type": "markdown",
      "metadata": {
        "id": "leNkJNhXXqs4",
        "colab_type": "text"
      },
      "source": [
        "Please notice that we did not create a new list as we did this, but we modified the original list itself. Lets run it again."
      ]
    },
    {
      "cell_type": "code",
      "metadata": {
        "id": "D74piJTQXosh",
        "colab_type": "code",
        "outputId": "2cbbc147-ca4f-409a-d43d-978548c6a034",
        "colab": {
          "base_uri": "https://localhost:8080/",
          "height": 35
        }
      },
      "source": [
        "for i, num in enumerate(my_list):\n",
        "  my_list[i] = my_list[i]-1\n",
        "\n",
        "print(my_list)"
      ],
      "execution_count": 0,
      "outputs": [
        {
          "output_type": "stream",
          "text": [
            "[3, 4, 5, 6, 7, 8]\n"
          ],
          "name": "stdout"
        }
      ]
    },
    {
      "cell_type": "markdown",
      "metadata": {
        "id": "exxBKi8HXsad",
        "colab_type": "text"
      },
      "source": [
        "and again"
      ]
    },
    {
      "cell_type": "code",
      "metadata": {
        "id": "ak_dVnNKXo_A",
        "colab_type": "code",
        "outputId": "0cc238b9-994f-492a-b83f-f23a78c11e78",
        "colab": {
          "base_uri": "https://localhost:8080/",
          "height": 35
        }
      },
      "source": [
        "for i, num in enumerate(my_list):\n",
        "  my_list[i] = my_list[i]-1\n",
        "\n",
        "print(my_list)"
      ],
      "execution_count": 0,
      "outputs": [
        {
          "output_type": "stream",
          "text": [
            "[2, 3, 4, 5, 6, 7]\n"
          ],
          "name": "stdout"
        }
      ]
    },
    {
      "cell_type": "code",
      "metadata": {
        "id": "KBOjfBXAq0Vz",
        "colab_type": "code",
        "colab": {}
      },
      "source": [
        "# This is what we would have to do in order to replicate\n",
        "# by hand what our for loop above was doing in just 2 lines.\n",
        "\n",
        "# my_list[0] = my_list[0]-1\n",
        "# my_list[1] = my_list[1]-1\n",
        "# my_list[2] = my_list[2]-1\n",
        "# my_list[3] = my_list[3]-1\n",
        "# my_list[4] = my_list[4]-1\n",
        "# my_list[5] = my_list[5]-1\n",
        "\n",
        "# my_list"
      ],
      "execution_count": 0,
      "outputs": []
    },
    {
      "cell_type": "markdown",
      "metadata": {
        "id": "mX2vddVaXeuL",
        "colab_type": "text"
      },
      "source": [
        "Now we're beginning to see how combining lists and for loops can be very powerful for helping us to manipulate lots of pieces of information in a consistent way without having to repeat our code many times. "
      ]
    },
    {
      "cell_type": "markdown",
      "metadata": {
        "id": "1iSKczwpX-0O",
        "colab_type": "text"
      },
      "source": [
        "### Looping over two-dimensional lists\n",
        "\n",
        "If we have lists inside of lists then we can loop through them by putting for loops inside of for loops. These are called \"nested\" for loops.\n",
        "\n",
        "Lets look at our two-dimensional list from the previous lesson and see if we can access the values inside of it in an orderly manner.\n"
      ]
    },
    {
      "cell_type": "code",
      "metadata": {
        "id": "3RCic2KQYa9e",
        "colab_type": "code",
        "colab": {}
      },
      "source": [
        "students = [           \n",
        "    [\"Popeye\", 24],  \n",
        "    [\"Tabatha\", 23], \n",
        "    [\"Jerry\", 25],\n",
        "    [\"Flynn\", 23],    \n",
        "    [\"Sally\", 40],\n",
        "    [\"Michael\", 46],\n",
        "    [\"Susie\", 19],\n",
        "    [\"Amanda\", 34]\n",
        "]           "
      ],
      "execution_count": 0,
      "outputs": []
    },
    {
      "cell_type": "code",
      "metadata": {
        "id": "U23VSUn_XNTQ",
        "colab_type": "code",
        "outputId": "1564159a-84f1-4c29-ea34-33e32ac3f1c1",
        "colab": {
          "base_uri": "https://localhost:8080/",
          "height": 308
        }
      },
      "source": [
        "for student in students:\n",
        "  for value in student:\n",
        "    print(value)"
      ],
      "execution_count": 0,
      "outputs": [
        {
          "output_type": "stream",
          "text": [
            "Popeye\n",
            "24\n",
            "Tabatha\n",
            "23\n",
            "Jerry\n",
            "25\n",
            "Flynn\n",
            "23\n",
            "Sally\n",
            "40\n",
            "Michael\n",
            "46\n",
            "Susie\n",
            "19\n",
            "Amanda\n",
            "34\n"
          ],
          "name": "stdout"
        }
      ]
    },
    {
      "cell_type": "markdown",
      "metadata": {
        "id": "-Ua3SRxNYu44",
        "colab_type": "text"
      },
      "source": [
        "Lets say that the above list represents our database of student information. A new school year is starting and we want to increment the ages of all of the students by 1, how might we do this?"
      ]
    },
    {
      "cell_type": "code",
      "metadata": {
        "id": "CIr_lugSY3Ph",
        "colab_type": "code",
        "outputId": "0a791221-3f6a-43ce-b23c-52d87fffa452",
        "colab": {
          "base_uri": "https://localhost:8080/",
          "height": 35
        }
      },
      "source": [
        "for i, student in enumerate(students):\n",
        "  students[i][1] = students[i][1] + 1\n",
        "\n",
        "print(students)"
      ],
      "execution_count": 0,
      "outputs": [
        {
          "output_type": "stream",
          "text": [
            "[['Popeye', 25], ['Tabatha', 24], ['Jerry', 26], ['Flynn', 24], ['Sally', 41], ['Michael', 47], ['Susie', 20], ['Amanda', 35]]\n"
          ],
          "name": "stdout"
        }
      ]
    },
    {
      "cell_type": "markdown",
      "metadata": {
        "id": "r_K1J3WdZWjI",
        "colab_type": "text"
      },
      "source": [
        "What if we only wanted to print out the ages of the students?"
      ]
    },
    {
      "cell_type": "code",
      "metadata": {
        "id": "wTrsvc_EZbta",
        "colab_type": "code",
        "outputId": "15c8df57-56a3-4cdf-b50a-4190024e2f0a",
        "colab": {
          "base_uri": "https://localhost:8080/",
          "height": 163
        }
      },
      "source": [
        "for student in students:\n",
        "  print(student[1])"
      ],
      "execution_count": 0,
      "outputs": [
        {
          "output_type": "stream",
          "text": [
            "25\n",
            "24\n",
            "26\n",
            "24\n",
            "41\n",
            "47\n",
            "20\n",
            "35\n"
          ],
          "name": "stdout"
        }
      ]
    },
    {
      "cell_type": "markdown",
      "metadata": {
        "id": "fu3l5F1JZk56",
        "colab_type": "text"
      },
      "source": [
        "What if we wanted to calculate the average age of students in the class?"
      ]
    },
    {
      "cell_type": "code",
      "metadata": {
        "id": "IuzxQOJ2ZnTn",
        "colab_type": "code",
        "outputId": "8e15c415-393c-46a8-a2b8-96aab965d976",
        "colab": {
          "base_uri": "https://localhost:8080/",
          "height": 35
        }
      },
      "source": [
        "total_age = 0\n",
        "for student in students:\n",
        "  total_age = total_age + student[1]\n",
        "\n",
        "print(\"Average age of class:\", total_age/len(students))"
      ],
      "execution_count": 0,
      "outputs": [
        {
          "output_type": "stream",
          "text": [
            "Average age of class: 30.25\n"
          ],
          "name": "stdout"
        }
      ]
    }
  ]
}