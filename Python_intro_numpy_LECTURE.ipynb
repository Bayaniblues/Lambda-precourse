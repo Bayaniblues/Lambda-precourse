{
  "nbformat": 4,
  "nbformat_minor": 0,
  "metadata": {
    "colab": {
      "name": "Python_intro_numpy_LECTURE.ipynb",
      "provenance": [],
      "collapsed_sections": [],
      "include_colab_link": true
    },
    "kernelspec": {
      "name": "python3",
      "display_name": "Python 3"
    }
  },
  "cells": [
    {
      "cell_type": "markdown",
      "metadata": {
        "id": "view-in-github",
        "colab_type": "text"
      },
      "source": [
        "<a href=\"https://colab.research.google.com/github/Bayaniblues/Lambda-precourse/blob/master/Python_intro_numpy_LECTURE.ipynb\" target=\"_parent\"><img src=\"https://colab.research.google.com/assets/colab-badge.svg\" alt=\"Open In Colab\"/></a>"
      ]
    },
    {
      "cell_type": "markdown",
      "metadata": {
        "id": "ZvNsvUNNlZbi",
        "colab_type": "text"
      },
      "source": [
        "---\n",
        "# Lambda School Data Science - Intro to Python  \n",
        "---\n",
        "# 07 - Intro to `numpy`\n",
        "---\n",
        "\n"
      ]
    },
    {
      "cell_type": "markdown",
      "metadata": {
        "id": "o57NvhYkBjKH",
        "colab_type": "text"
      },
      "source": [
        "## What is Numpy, anyway?\n",
        "\n",
        "Numpy, short for Numerical Python, is a staple in every data scientist's tool kit. It's a powerful Python library that comes in handy when doing complex calculations on lots of data.\n",
        "\n",
        "## Why am I learning it?\n",
        "A couple of reasons:  \n",
        "\n",
        "1.   **It's fast** - Numpy is designed to work incredibly fast. Made possible by an object we mentioned briefly at the end of the last module: an *array*. Think of it as a more powerful Python list.\n",
        "2.   **Python lists are limited** - Python can't handle certain operations on lists without requiring you to write some annoyingly complex functions. As we've already learned, however, that's where libraries come in! Numpy is a perfect example. \n"
      ]
    },
    {
      "cell_type": "code",
      "metadata": {
        "id": "lwG232gHDwLT",
        "colab_type": "code",
        "outputId": "a7e2782a-bc1b-42e9-d622-9f49d799f98a",
        "colab": {
          "base_uri": "https://localhost:8080/",
          "height": 197
        }
      },
      "source": [
        "# Let's illustrate with an example. \n",
        "# We have a list of weights in kgs, but we want to turn them into lbs.\n",
        "# In order to do so, we need to multiply the values by 2.205.\n",
        "\n",
        "kgs = [70, 22.2, 59, 86, 68.8]\n",
        "constant = 2.205\n",
        "\n",
        "kgs * constant"
      ],
      "execution_count": 0,
      "outputs": [
        {
          "output_type": "error",
          "ename": "TypeError",
          "evalue": "ignored",
          "traceback": [
            "\u001b[0;31m---------------------------------------------------------------------------\u001b[0m",
            "\u001b[0;31mTypeError\u001b[0m                                 Traceback (most recent call last)",
            "\u001b[0;32m<ipython-input-1-dd5883ab8ae3>\u001b[0m in \u001b[0;36m<module>\u001b[0;34m()\u001b[0m\n\u001b[1;32m      3\u001b[0m \u001b[0mconstant\u001b[0m \u001b[0;34m=\u001b[0m \u001b[0;36m2.205\u001b[0m\u001b[0;34m\u001b[0m\u001b[0;34m\u001b[0m\u001b[0m\n\u001b[1;32m      4\u001b[0m \u001b[0;34m\u001b[0m\u001b[0m\n\u001b[0;32m----> 5\u001b[0;31m \u001b[0mkgs\u001b[0m \u001b[0;34m*\u001b[0m \u001b[0mconstant\u001b[0m\u001b[0;34m\u001b[0m\u001b[0;34m\u001b[0m\u001b[0m\n\u001b[0m",
            "\u001b[0;31mTypeError\u001b[0m: can't multiply sequence by non-int of type 'float'"
          ]
        }
      ]
    },
    {
      "cell_type": "code",
      "metadata": {
        "id": "hm8wkn4ST86z",
        "colab_type": "code",
        "outputId": "ea8ef98f-13b7-4218-e49d-994680952419",
        "colab": {
          "base_uri": "https://localhost:8080/",
          "height": 34
        }
      },
      "source": [
        "# Now let's see what Numpy can do!\n",
        "import numpy as np\n",
        "\n",
        "np_kgs = np.array([70, 22.2, 59, 86, 68.8])\n",
        "\n",
        "np_kgs * constant"
      ],
      "execution_count": 0,
      "outputs": [
        {
          "output_type": "execute_result",
          "data": {
            "text/plain": [
              "array([154.35 ,  48.951, 130.095, 189.63 , 151.704])"
            ]
          },
          "metadata": {
            "tags": []
          },
          "execution_count": 23
        }
      ]
    },
    {
      "cell_type": "markdown",
      "metadata": {
        "id": "zOSQf7q_VWds",
        "colab_type": "text"
      },
      "source": [
        "### That's not all. What if we want to do calculations with multiple lists?\n",
        "Let's try and calculate the basal metabolic rate (BMR) of five men. Here's the formula:  \n",
        "\n",
        "88.362 + (13.397 x Weight in kg) + (4.799 x Height in cm) - (5.677 x Age in years)"
      ]
    },
    {
      "cell_type": "code",
      "metadata": {
        "id": "XuQX4257VeVw",
        "colab_type": "code",
        "outputId": "8adb4674-687d-4ce9-e8cf-507fe2855d81",
        "colab": {
          "base_uri": "https://localhost:8080/",
          "height": 196
        }
      },
      "source": [
        "# Let's create lists for weight, height, and age:\n",
        "\n",
        "weights = [70.2, 85.6, 75.9, 79.0, 82.7]\n",
        "heights = [170.9, 188.5, 181.2, 179.9, 174.3]\n",
        "ages = [23, 35, 31, 28, 43]\n",
        "\n",
        "\n",
        "# You'll notice that if we use python lists the following code will throw an error\n",
        "88.362 + (13.397 * weights) + (4.799 * heights) - (5.677 * ages)"
      ],
      "execution_count": 0,
      "outputs": [
        {
          "output_type": "error",
          "ename": "TypeError",
          "evalue": "ignored",
          "traceback": [
            "\u001b[0;31m---------------------------------------------------------------------------\u001b[0m",
            "\u001b[0;31mTypeError\u001b[0m                                 Traceback (most recent call last)",
            "\u001b[0;32m<ipython-input-6-83ac7fe00464>\u001b[0m in \u001b[0;36m<module>\u001b[0;34m()\u001b[0m\n\u001b[1;32m      6\u001b[0m \u001b[0;34m\u001b[0m\u001b[0m\n\u001b[1;32m      7\u001b[0m \u001b[0;31m# You'll notice that if we use python lists the following code will throw an error\u001b[0m\u001b[0;34m\u001b[0m\u001b[0;34m\u001b[0m\u001b[0;34m\u001b[0m\u001b[0m\n\u001b[0;32m----> 8\u001b[0;31m \u001b[0;36m88.362\u001b[0m \u001b[0;34m+\u001b[0m \u001b[0;34m(\u001b[0m\u001b[0;36m13.397\u001b[0m \u001b[0;34m*\u001b[0m \u001b[0mweights\u001b[0m\u001b[0;34m)\u001b[0m \u001b[0;34m+\u001b[0m \u001b[0;34m(\u001b[0m\u001b[0;36m4.799\u001b[0m \u001b[0;34m*\u001b[0m \u001b[0mheights\u001b[0m\u001b[0;34m)\u001b[0m \u001b[0;34m-\u001b[0m \u001b[0;34m(\u001b[0m\u001b[0;36m5.677\u001b[0m \u001b[0;34m*\u001b[0m \u001b[0mages\u001b[0m\u001b[0;34m)\u001b[0m\u001b[0;34m\u001b[0m\u001b[0;34m\u001b[0m\u001b[0m\n\u001b[0m",
            "\u001b[0;31mTypeError\u001b[0m: can't multiply sequence by non-int of type 'float'"
          ]
        }
      ]
    },
    {
      "cell_type": "code",
      "metadata": {
        "id": "ug9CVpckWqc2",
        "colab_type": "code",
        "outputId": "32a70f8f-11cf-4436-a23d-a01e24a0281c",
        "colab": {
          "base_uri": "https://localhost:8080/",
          "height": 34
        }
      },
      "source": [
        "# Numpy has a nifty method to convert regular Python lists into Numpy arrays:\n",
        "np_weights = np.asarray(weights)\n",
        "np_heights = np.asarray(heights)\n",
        "np_ages = np.asarray(ages)\n",
        "\n",
        "88.362 + (13.397 * np_weights) + (4.799 * np_heights) - (5.677 * np_ages)"
      ],
      "execution_count": 0,
      "outputs": [
        {
          "output_type": "execute_result",
          "data": {
            "text/plain": [
              "array([1718.4095, 1941.0617, 1798.7861, 1851.1091, 1788.6486])"
            ]
          },
          "metadata": {
            "tags": []
          },
          "execution_count": 7
        }
      ]
    },
    {
      "cell_type": "markdown",
      "metadata": {
        "id": "SyNqsoKNXXYo",
        "colab_type": "text"
      },
      "source": [
        "### To Recap:\n",
        "Numpy is designed for mathematical operations that Python normally can't handle without special functions. Moreover, it's super-duper fast!\n"
      ]
    },
    {
      "cell_type": "markdown",
      "metadata": {
        "id": "oRH-6zIAX6D4",
        "colab_type": "text"
      },
      "source": [
        "## Different type. Different behavior.\n",
        "Numpy is great, but it's not perfect. Think of Numpy arrays as a new type of object with their own methods and behavior.  "
      ]
    },
    {
      "cell_type": "code",
      "metadata": {
        "id": "V6AZQw3cX4AU",
        "colab_type": "code",
        "outputId": "43e76d6e-19a3-4139-bbd3-7c318ce64591",
        "colab": {
          "base_uri": "https://localhost:8080/",
          "height": 34
        }
      },
      "source": [
        "# For example, check out these two operations:\n",
        "ages + ages"
      ],
      "execution_count": 0,
      "outputs": [
        {
          "output_type": "execute_result",
          "data": {
            "text/plain": [
              "[23, 35, 31, 28, 43, 23, 35, 31, 28, 43]"
            ]
          },
          "metadata": {
            "tags": []
          },
          "execution_count": 8
        }
      ]
    },
    {
      "cell_type": "code",
      "metadata": {
        "id": "IjLXs1JoYuOq",
        "colab_type": "code",
        "outputId": "6475dcd1-254a-4a84-9bb1-deb19bfda6ee",
        "colab": {
          "base_uri": "https://localhost:8080/",
          "height": 34
        }
      },
      "source": [
        "np_ages + np_ages"
      ],
      "execution_count": 0,
      "outputs": [
        {
          "output_type": "execute_result",
          "data": {
            "text/plain": [
              "array([46, 70, 62, 56, 86])"
            ]
          },
          "metadata": {
            "tags": []
          },
          "execution_count": 9
        }
      ]
    },
    {
      "cell_type": "markdown",
      "metadata": {
        "id": "W6C13KhgYyas",
        "colab_type": "text"
      },
      "source": [
        "In the first example, using regular lists, they are concatenated (joined) together.  \n",
        "\n",
        "In the second example, Python performs an element-wise addition."
      ]
    },
    {
      "cell_type": "markdown",
      "metadata": {
        "id": "-hYaHc6nZ2PV",
        "colab_type": "text"
      },
      "source": [
        "## Subsetting & Numpy Arrays\n",
        "How can we retrieve certain values from our arrays?"
      ]
    },
    {
      "cell_type": "markdown",
      "metadata": {
        "id": "n3YR4iTkZ-Ev",
        "colab_type": "text"
      },
      "source": [
        "Using the index is the same for lists and arrays:"
      ]
    },
    {
      "cell_type": "code",
      "metadata": {
        "id": "3vAPl17HYwJR",
        "colab_type": "code",
        "outputId": "33c9602e-540e-4835-a2e9-8716de2fffae",
        "colab": {
          "base_uri": "https://localhost:8080/",
          "height": 34
        }
      },
      "source": [
        "ages[1]"
      ],
      "execution_count": 0,
      "outputs": [
        {
          "output_type": "execute_result",
          "data": {
            "text/plain": [
              "35"
            ]
          },
          "metadata": {
            "tags": []
          },
          "execution_count": 10
        }
      ]
    },
    {
      "cell_type": "code",
      "metadata": {
        "id": "a0aTS1S_Zv7S",
        "colab_type": "code",
        "outputId": "d2b99a29-7135-430d-fe01-2fa8b87f73ca",
        "colab": {
          "base_uri": "https://localhost:8080/",
          "height": 34
        }
      },
      "source": [
        "np_ages[1]"
      ],
      "execution_count": 0,
      "outputs": [
        {
          "output_type": "execute_result",
          "data": {
            "text/plain": [
              "35"
            ]
          },
          "metadata": {
            "tags": []
          },
          "execution_count": 11
        }
      ]
    },
    {
      "cell_type": "markdown",
      "metadata": {
        "id": "xjvqdYUJaCk-",
        "colab_type": "text"
      },
      "source": [
        "But arrays also accept what's known as **boolean indexing**.\n",
        "Remember booleans? Booleans are a binary data type (as in, True or False). "
      ]
    },
    {
      "cell_type": "code",
      "metadata": {
        "id": "h8x94y1nZx0I",
        "colab_type": "code",
        "outputId": "0e5ebe83-6abf-465e-c52e-a2af93e81ecd",
        "colab": {
          "base_uri": "https://localhost:8080/",
          "height": 34
        }
      },
      "source": [
        "# Let's declare an array to hold our BMR values:\n",
        "bmr = 88.362 + (13.397 * np_weights) + (4.799 * np_heights) - (5.677 * np_ages)\n",
        "bmr"
      ],
      "execution_count": 0,
      "outputs": [
        {
          "output_type": "execute_result",
          "data": {
            "text/plain": [
              "array([1718.4095, 1941.0617, 1798.7861, 1851.1091, 1788.6486])"
            ]
          },
          "metadata": {
            "tags": []
          },
          "execution_count": 12
        }
      ]
    },
    {
      "cell_type": "code",
      "metadata": {
        "id": "9zXMpRNraVUo",
        "colab_type": "code",
        "outputId": "05e48d57-a697-4563-8390-58d25c25d0dd",
        "colab": {
          "base_uri": "https://localhost:8080/",
          "height": 34
        }
      },
      "source": [
        "# Tells us which BMRs meet the condition \"Greater than 1900\"\n",
        "# by returning an array with boolean values\n",
        "bmr > 1900"
      ],
      "execution_count": 0,
      "outputs": [
        {
          "output_type": "execute_result",
          "data": {
            "text/plain": [
              "array([False,  True, False, False, False])"
            ]
          },
          "metadata": {
            "tags": []
          },
          "execution_count": 13
        }
      ]
    },
    {
      "cell_type": "code",
      "metadata": {
        "id": "LAo1gU6x4EAN",
        "colab_type": "code",
        "outputId": "287ba554-74fd-4c68-cc3a-ff7201719c03",
        "colab": {
          "base_uri": "https://localhost:8080/",
          "height": 34
        }
      },
      "source": [
        "condition = bmr > 1850\n",
        "print(condition)"
      ],
      "execution_count": 0,
      "outputs": [
        {
          "output_type": "stream",
          "text": [
            "[False  True False  True False]\n"
          ],
          "name": "stdout"
        }
      ]
    },
    {
      "cell_type": "code",
      "metadata": {
        "id": "GviBXqLj4H6C",
        "colab_type": "code",
        "outputId": "18ad8c95-40a8-446d-c73f-646898663cd3",
        "colab": {
          "base_uri": "https://localhost:8080/",
          "height": 34
        }
      },
      "source": [
        "bmr[condition]"
      ],
      "execution_count": 0,
      "outputs": [
        {
          "output_type": "execute_result",
          "data": {
            "text/plain": [
              "array([1941.0617, 1851.1091])"
            ]
          },
          "metadata": {
            "tags": []
          },
          "execution_count": 16
        }
      ]
    },
    {
      "cell_type": "code",
      "metadata": {
        "id": "ekAy6mGVaYC4",
        "colab_type": "code",
        "outputId": "41ced837-9193-42b9-dccf-222ac6c0bfbb",
        "colab": {
          "base_uri": "https://localhost:8080/",
          "height": 34
        }
      },
      "source": [
        "# Similar, but the square brackets translate to this: \"In bmr, return the element(s) that\n",
        "# are greater than 1900.\"\n",
        "bmr[bmr > 1850]"
      ],
      "execution_count": 0,
      "outputs": [
        {
          "output_type": "execute_result",
          "data": {
            "text/plain": [
              "array([1941.0617, 1851.1091])"
            ]
          },
          "metadata": {
            "tags": []
          },
          "execution_count": 14
        }
      ]
    },
    {
      "cell_type": "markdown",
      "metadata": {
        "id": "WOxuoCfncE4v",
        "colab_type": "text"
      },
      "source": [
        "## Dimensionality\n",
        "\n",
        "Nested lists are helpful for organizing our values in the form of a grid. Using grid-like forms to hold our data can be extremely valuable. Think about spreadsheets that have rows and columns, if we organized our data in a similar way then we could do operations with python that are very similar to what we could do with spreadsheets or even matrices."
      ]
    },
    {
      "cell_type": "code",
      "metadata": {
        "id": "IRffFX0vcNkv",
        "colab_type": "code",
        "outputId": "eacd5f38-fd03-4261-8555-586a8fcc4d38",
        "colab": {
          "base_uri": "https://localhost:8080/",
          "height": 34
        }
      },
      "source": [
        "## What are the dimensions of this list?\n",
        "heights"
      ],
      "execution_count": 0,
      "outputs": [
        {
          "output_type": "execute_result",
          "data": {
            "text/plain": [
              "[170.9, 188.5, 181.2, 179.9, 174.3]"
            ]
          },
          "metadata": {
            "tags": []
          },
          "execution_count": 19
        }
      ]
    },
    {
      "cell_type": "markdown",
      "metadata": {
        "id": "t4SYeVgEcVEF",
        "colab_type": "text"
      },
      "source": [
        "There's only one dimension, or 1D for short. "
      ]
    },
    {
      "cell_type": "code",
      "metadata": {
        "id": "RFyBOy5zcPqo",
        "colab_type": "code",
        "outputId": "5e554f62-d7d5-44c5-a9df-21f85a5e794a",
        "colab": {
          "base_uri": "https://localhost:8080/",
          "height": 34
        }
      },
      "source": [
        "## How about this nested list?\n",
        "\n",
        "x = [\n",
        "    [4, 8, 16],\n",
        "    [5, 10, 20]\n",
        "]\n",
        "\n",
        "x"
      ],
      "execution_count": 0,
      "outputs": [
        {
          "output_type": "execute_result",
          "data": {
            "text/plain": [
              "[[4, 8, 16], [5, 10, 20]]"
            ]
          },
          "metadata": {
            "tags": []
          },
          "execution_count": 20
        }
      ]
    },
    {
      "cell_type": "markdown",
      "metadata": {
        "id": "zrR83CP8c0IY",
        "colab_type": "text"
      },
      "source": [
        "This is a list inside of a list, or a nested list (or even a list of lists). That's two dimensions, or 2D for short."
      ]
    },
    {
      "cell_type": "code",
      "metadata": {
        "id": "zmA17jYncmu4",
        "colab_type": "code",
        "outputId": "4651713c-b561-4653-fa05-e286bcf8dbe9",
        "colab": {
          "base_uri": "https://localhost:8080/",
          "height": 50
        }
      },
      "source": [
        "np_x = np.asarray(x)\n",
        "np_x"
      ],
      "execution_count": 0,
      "outputs": [
        {
          "output_type": "execute_result",
          "data": {
            "text/plain": [
              "array([[ 4,  8, 16],\n",
              "       [ 5, 10, 20]])"
            ]
          },
          "metadata": {
            "tags": []
          },
          "execution_count": 21
        }
      ]
    },
    {
      "cell_type": "code",
      "metadata": {
        "id": "BmzD8jupdUB4",
        "colab_type": "code",
        "outputId": "84ed6877-fc94-459a-d84b-cca2d95e6b69",
        "colab": {
          "base_uri": "https://localhost:8080/",
          "height": 34
        }
      },
      "source": [
        "type(np_x)"
      ],
      "execution_count": 0,
      "outputs": [
        {
          "output_type": "execute_result",
          "data": {
            "text/plain": [
              "numpy.ndarray"
            ]
          },
          "metadata": {
            "tags": []
          },
          "execution_count": 24
        }
      ]
    },
    {
      "cell_type": "markdown",
      "metadata": {
        "id": "18YVsd9MdI8k",
        "colab_type": "text"
      },
      "source": [
        "\"ndarray\" refers to N-dimensional array."
      ]
    },
    {
      "cell_type": "code",
      "metadata": {
        "id": "TP_00LTzc_cY",
        "colab_type": "code",
        "outputId": "a708b1eb-8503-4fbe-a504-d8adf0651ef4",
        "colab": {
          "base_uri": "https://localhost:8080/",
          "height": 34
        }
      },
      "source": [
        "np_x.shape"
      ],
      "execution_count": 0,
      "outputs": [
        {
          "output_type": "execute_result",
          "data": {
            "text/plain": [
              "(2, 3)"
            ]
          },
          "metadata": {
            "tags": []
          },
          "execution_count": 25
        }
      ]
    },
    {
      "cell_type": "markdown",
      "metadata": {
        "id": "TxgglKDzdfa6",
        "colab_type": "text"
      },
      "source": [
        "Two rows, three columns!"
      ]
    },
    {
      "cell_type": "markdown",
      "metadata": {
        "id": "6Rh0hpWMeQ-N",
        "colab_type": "text"
      },
      "source": [
        "Wait...so is **shape** a method?\n",
        "\n",
        "No! Shape is an _attribute_. Think of attributes as features of a data structure. And remember that methods have () at the end.\n",
        "\n",
        "*  np.asarray() is a numpy method that turns a regulary python list into a numpy array\n",
        "*  np.shape is  an ndarray attribute that returns the dimensions of said ndarray"
      ]
    },
    {
      "cell_type": "markdown",
      "metadata": {
        "id": "yy-t4LFMe6OT",
        "colab_type": "text"
      },
      "source": [
        "## Subsetting, continued"
      ]
    },
    {
      "cell_type": "code",
      "metadata": {
        "id": "-skXGonvdEP3",
        "colab_type": "code",
        "outputId": "44fae346-3447-40c1-8f40-5a5bc316b847",
        "colab": {
          "base_uri": "https://localhost:8080/",
          "height": 50
        }
      },
      "source": [
        "# Numpy also has really awesome random number generators:\n",
        "np.random.randint(5, size=(2, 4))\n",
        "\n",
        "# Every time you run this cell, it'll output different numbers.\n",
        "\n",
        "# Confused about what that was? Remember the built-in help() function!"
      ],
      "execution_count": 0,
      "outputs": [
        {
          "output_type": "execute_result",
          "data": {
            "text/plain": [
              "array([[1, 3, 4, 2],\n",
              "       [4, 3, 0, 0]])"
            ]
          },
          "metadata": {
            "tags": []
          },
          "execution_count": 28
        }
      ]
    },
    {
      "cell_type": "code",
      "metadata": {
        "id": "fow7ASYzfANw",
        "colab_type": "code",
        "colab": {}
      },
      "source": [
        "# Let's create a random (3,6) array and assign it to a variable to keep its values.\n",
        "\n",
        "# I'm going to set a \"random seed\" so that I get the *same* random numbers every time.\n",
        "np.random.seed(42)\n",
        "\n",
        "y = np.random.randint(5, size=(3, 6))"
      ],
      "execution_count": 0,
      "outputs": []
    },
    {
      "cell_type": "code",
      "metadata": {
        "id": "lsEb_gawgFCX",
        "colab_type": "code",
        "outputId": "30ead461-1164-4167-f5bd-88bd00f855de",
        "colab": {
          "base_uri": "https://localhost:8080/",
          "height": 67
        }
      },
      "source": [
        "y"
      ],
      "execution_count": 0,
      "outputs": [
        {
          "output_type": "execute_result",
          "data": {
            "text/plain": [
              "array([[3, 4, 2, 4, 4, 1],\n",
              "       [2, 2, 2, 4, 3, 2],\n",
              "       [4, 1, 3, 1, 3, 4]])"
            ]
          },
          "metadata": {
            "tags": []
          },
          "execution_count": 45
        }
      ]
    },
    {
      "cell_type": "markdown",
      "metadata": {
        "id": "lrjfq3bWgKS_",
        "colab_type": "text"
      },
      "source": [
        "So we have three rows and six columns. How might we subset a specific value now?\n",
        "\n",
        "Let's say we want the value in the 3rd row and the 2nd column (value is 1)."
      ]
    },
    {
      "cell_type": "code",
      "metadata": {
        "id": "AJRP1IxxgFjX",
        "colab_type": "code",
        "outputId": "dfb73462-41fd-4080-f1f4-0b8fd770473f",
        "colab": {
          "base_uri": "https://localhost:8080/",
          "height": 34
        }
      },
      "source": [
        "y[2,1]"
      ],
      "execution_count": 0,
      "outputs": [
        {
          "output_type": "execute_result",
          "data": {
            "text/plain": [
              "1"
            ]
          },
          "metadata": {
            "tags": []
          },
          "execution_count": 46
        }
      ]
    },
    {
      "cell_type": "markdown",
      "metadata": {
        "id": "0Q7g6RuIgY18",
        "colab_type": "text"
      },
      "source": [
        "Remember that Python is 0-indexed! (Since it starts at 0, the 3rd element is at index position 2.)"
      ]
    },
    {
      "cell_type": "code",
      "metadata": {
        "id": "x-mQ-j91gTe2",
        "colab_type": "code",
        "outputId": "3663fba1-0850-4bbe-ace9-e3edc466aad7",
        "colab": {
          "base_uri": "https://localhost:8080/",
          "height": 34
        }
      },
      "source": [
        "# Alternatively, we could also do...\n",
        "y[2][1]"
      ],
      "execution_count": 0,
      "outputs": [
        {
          "output_type": "execute_result",
          "data": {
            "text/plain": [
              "1"
            ]
          },
          "metadata": {
            "tags": []
          },
          "execution_count": 47
        }
      ]
    },
    {
      "cell_type": "markdown",
      "metadata": {
        "id": "TKQOCXRUg-9Z",
        "colab_type": "text"
      },
      "source": [
        "### Slicing, revisited!"
      ]
    },
    {
      "cell_type": "code",
      "metadata": {
        "id": "bmETFnjBgzAH",
        "colab_type": "code",
        "outputId": "3a028dfb-254b-4925-bc32-9247fd2db3b4",
        "colab": {
          "base_uri": "https://localhost:8080/",
          "height": 67
        }
      },
      "source": [
        "# Ok, let's say we want only the first two columns of each row:\n",
        "y[:,0:2]"
      ],
      "execution_count": 0,
      "outputs": [
        {
          "output_type": "execute_result",
          "data": {
            "text/plain": [
              "array([[3, 4],\n",
              "       [2, 2],\n",
              "       [4, 1]])"
            ]
          },
          "metadata": {
            "tags": []
          },
          "execution_count": 48
        }
      ]
    },
    {
      "cell_type": "markdown",
      "metadata": {
        "id": "8ODTsh3yhXAe",
        "colab_type": "text"
      },
      "source": [
        "Remember that slicing ranges have an inclusive start and an exclusive end. Meaning the start value is included in the slicing, but the end value is not.  \n",
        "\n",
        "At the same time, a colon will include the entire range of that row/column."
      ]
    },
    {
      "cell_type": "code",
      "metadata": {
        "id": "WPvsNbZjhIXO",
        "colab_type": "code",
        "outputId": "34ca2c6e-ee4e-4971-c304-af352bd23f3d",
        "colab": {
          "base_uri": "https://localhost:8080/",
          "height": 34
        }
      },
      "source": [
        "# Now let's just get the third row:\n",
        "y[2,:]"
      ],
      "execution_count": 0,
      "outputs": [
        {
          "output_type": "execute_result",
          "data": {
            "text/plain": [
              "array([4, 1, 3, 1, 3, 4])"
            ]
          },
          "metadata": {
            "tags": []
          },
          "execution_count": 49
        }
      ]
    },
    {
      "cell_type": "markdown",
      "metadata": {
        "id": "LCUT3Qo9iOJl",
        "colab_type": "text"
      },
      "source": [
        "## Summary Statistics\n",
        "A numerical library wouldn't be much good if it couldn't give us some basic stats about our data, now would it?"
      ]
    },
    {
      "cell_type": "code",
      "metadata": {
        "id": "xCdERmtDhLAm",
        "colab_type": "code",
        "outputId": "fe6288d5-e2d3-4f35-b614-3be147108c00",
        "colab": {
          "base_uri": "https://localhost:8080/",
          "height": 34
        }
      },
      "source": [
        "# Calculate the average of an array\n",
        "\n",
        "np.mean(bmr)"
      ],
      "execution_count": 0,
      "outputs": [
        {
          "output_type": "execute_result",
          "data": {
            "text/plain": [
              "1819.6030000000003"
            ]
          },
          "metadata": {
            "tags": []
          },
          "execution_count": 50
        }
      ]
    },
    {
      "cell_type": "code",
      "metadata": {
        "id": "ZQgidcTciZU2",
        "colab_type": "code",
        "outputId": "d3b1c39d-68fa-473e-bb47-55d7fab34ceb",
        "colab": {
          "base_uri": "https://localhost:8080/",
          "height": 34
        }
      },
      "source": [
        "# Median\n",
        "np.median(bmr)"
      ],
      "execution_count": 0,
      "outputs": [
        {
          "output_type": "execute_result",
          "data": {
            "text/plain": [
              "1798.7861"
            ]
          },
          "metadata": {
            "tags": []
          },
          "execution_count": 51
        }
      ]
    },
    {
      "cell_type": "code",
      "metadata": {
        "id": "6rVejuwIinvG",
        "colab_type": "code",
        "outputId": "f7c995c0-1fe9-4fe7-8806-f230f0aee70c",
        "colab": {
          "base_uri": "https://localhost:8080/",
          "height": 34
        }
      },
      "source": [
        "# Standard Deviation\n",
        "np.std(bmr)"
      ],
      "execution_count": 0,
      "outputs": [
        {
          "output_type": "execute_result",
          "data": {
            "text/plain": [
              "73.99526037540505"
            ]
          },
          "metadata": {
            "tags": []
          },
          "execution_count": 52
        }
      ]
    },
    {
      "cell_type": "markdown",
      "metadata": {
        "id": "hjv8rbFjiyde",
        "colab_type": "text"
      },
      "source": [
        "Don't worry if you don't know what some of those statistics are. We'll go over them in depth later on."
      ]
    },
    {
      "cell_type": "markdown",
      "metadata": {
        "id": "iVKwj2C-jFBa",
        "colab_type": "text"
      },
      "source": [
        "### Now let's put it all together in practice. Time for your ASSIGNMENT!"
      ]
    }
  ]
}