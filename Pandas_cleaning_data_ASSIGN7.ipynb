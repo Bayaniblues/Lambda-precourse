{
  "nbformat": 4,
  "nbformat_minor": 0,
  "metadata": {
    "colab": {
      "name": "Pandas_cleaning_data_ASSIGN7.ipynb",
      "provenance": [],
      "collapsed_sections": [],
      "include_colab_link": true
    },
    "kernelspec": {
      "name": "python3",
      "display_name": "Python 3"
    }
  },
  "cells": [
    {
      "cell_type": "markdown",
      "metadata": {
        "id": "view-in-github",
        "colab_type": "text"
      },
      "source": [
        "<a href=\"https://colab.research.google.com/github/Bayaniblues/Lambda-precourse/blob/master/Pandas_cleaning_data_ASSIGN7.ipynb\" target=\"_parent\"><img src=\"https://colab.research.google.com/assets/colab-badge.svg\" alt=\"Open In Colab\"/></a>"
      ]
    },
    {
      "cell_type": "markdown",
      "metadata": {
        "id": "ZvNsvUNNlZbi",
        "colab_type": "text"
      },
      "source": [
        "---\n",
        "# Lambda School Data Science - Intro to Pandas\n",
        "---\n",
        "# Assignment 07 - Cleaning Data\n",
        "---\n",
        "\n"
      ]
    },
    {
      "cell_type": "markdown",
      "metadata": {
        "id": "y8HUQb0OOztX",
        "colab_type": "text"
      },
      "source": [
        "##STOP! BEFORE GOING ANY FURTHER...  \n",
        "\n",
        "\n",
        "1. Click \"File\" at the top.\n",
        "2. Then, \"Save a Copy in Drive.\"\n",
        "3. Change the file name to \"FIRSTNAME_LASTNAME_assign7\"  \n",
        "\n",
        "Now you have a copy of this notebook in your Drive account. This is the copy you'll edit and submit. Be sure to do this for ***every*** assignment!\n",
        "\n",
        "---\n"
      ]
    },
    {
      "cell_type": "markdown",
      "metadata": {
        "id": "AIv6IyXqyujM",
        "colab_type": "text"
      },
      "source": [
        "## Set up the data with `pandas`"
      ]
    },
    {
      "cell_type": "markdown",
      "metadata": {
        "id": "xMq6Of2Gt24o",
        "colab_type": "text"
      },
      "source": [
        "### 1.1 - Import pandas"
      ]
    },
    {
      "cell_type": "code",
      "metadata": {
        "id": "h3r0IvHVuGJb",
        "colab_type": "code",
        "colab": {}
      },
      "source": [
        "# Import pandas with the standard alias\n",
        "\n"
      ],
      "execution_count": 0,
      "outputs": []
    },
    {
      "cell_type": "markdown",
      "metadata": {
        "id": "DvYie7qokbDH",
        "colab_type": "text"
      },
      "source": [
        "### 1.2 - Import the data contained in the CSV file\n",
        "You can find the data [here](https://raw.githubusercontent.com/axrd/datasets/master/gdpmessy2.csv).\n",
        "\n",
        "We'll use this [resource](https://www.iban.com/country-codes) (a list of country names and codes) later to \"clean\" values correctly."
      ]
    },
    {
      "cell_type": "code",
      "metadata": {
        "id": "UNJo_50VktRs",
        "colab_type": "code",
        "colab": {}
      },
      "source": [
        "# Read in the data\n",
        "\n"
      ],
      "execution_count": 0,
      "outputs": []
    },
    {
      "cell_type": "markdown",
      "metadata": {
        "id": "CYy4Zp5pk7tS",
        "colab_type": "text"
      },
      "source": [
        "### 1.3 - Quickly inspect the head"
      ]
    },
    {
      "cell_type": "code",
      "metadata": {
        "id": "lIxLoTfGl910",
        "colab_type": "code",
        "colab": {}
      },
      "source": [
        "# Look at the first 5-10 rows of the DataFrame\n",
        "\n"
      ],
      "execution_count": 0,
      "outputs": []
    },
    {
      "cell_type": "markdown",
      "metadata": {
        "id": "125CV0jpQ5vT",
        "colab_type": "text"
      },
      "source": [
        "### 1. 4 - Inspect the tail"
      ]
    },
    {
      "cell_type": "code",
      "metadata": {
        "id": "lMafok6zoGB-",
        "colab_type": "code",
        "colab": {}
      },
      "source": [
        "# Look at the tail\n",
        "\n"
      ],
      "execution_count": 0,
      "outputs": []
    },
    {
      "cell_type": "markdown",
      "metadata": {
        "id": "CfUYIGiuQ-o0",
        "colab_type": "text"
      },
      "source": [
        "### 1.5 - What is the shape of the DataFrame? \n",
        "\n",
        "Pay close attention to the column names; it looks like there may be an extra index column."
      ]
    },
    {
      "cell_type": "code",
      "metadata": {
        "id": "hQGGcDNYQ-_b",
        "colab_type": "code",
        "colab": {}
      },
      "source": [
        "# Look at the shape of df\n",
        "\n"
      ],
      "execution_count": 0,
      "outputs": []
    },
    {
      "cell_type": "markdown",
      "metadata": {
        "id": "OPzmCwizHi2C",
        "colab_type": "text"
      },
      "source": [
        "### 1.6 - Index change\n",
        "\n",
        "It's easy to just drop a column rather than doing an index_set. Let's use the `df.drop()` method to remove that extra column."
      ]
    },
    {
      "cell_type": "code",
      "metadata": {
        "id": "PnwCHiUoHjLl",
        "colab_type": "code",
        "colab": {}
      },
      "source": [
        "# Drop the additional column\n",
        "\n"
      ],
      "execution_count": 0,
      "outputs": []
    },
    {
      "cell_type": "code",
      "metadata": {
        "id": "7gBNaRXdJShw",
        "colab_type": "code",
        "colab": {}
      },
      "source": [
        "# Look at the head of the DataFrame to verify the extra column has been dropped\n",
        "\n"
      ],
      "execution_count": 0,
      "outputs": []
    },
    {
      "cell_type": "markdown",
      "metadata": {
        "id": "ewDBGBDH5OdT",
        "colab_type": "text"
      },
      "source": [
        "### 1.7 - Correct column names\n",
        "\n",
        "Remember from lecture that we changed the column names, to correct for mispelling and formatting? We'll do that here. You can follow the method from lecture using the `.columns()` method."
      ]
    },
    {
      "cell_type": "code",
      "metadata": {
        "id": "gTEIEx7_5fyX",
        "colab_type": "code",
        "colab": {}
      },
      "source": [
        "# Rename the columns to: country, GDP, CODE (no space!)\n",
        "\n"
      ],
      "execution_count": 0,
      "outputs": []
    },
    {
      "cell_type": "markdown",
      "metadata": {
        "id": "7ecnTkAIQ_MW",
        "colab_type": "text"
      },
      "source": [
        "### 1.8 - Missing values\n",
        "\n",
        "Missing values are something that you will deal with often when cleaning data. Let's find all of the missing values first, to see how many there are. Remember to use the method which 'sums' the null values."
      ]
    },
    {
      "cell_type": "code",
      "metadata": {
        "id": "_1U2esBGQ_XF",
        "colab_type": "code",
        "colab": {}
      },
      "source": [
        "# Find the missing values (we'll subset in the next cell)\n",
        "\n"
      ],
      "execution_count": 0,
      "outputs": []
    },
    {
      "cell_type": "code",
      "metadata": {
        "id": "KsjvOTizFoam",
        "colab_type": "code",
        "colab": {}
      },
      "source": [
        "# Subset the df to look at the null values\n",
        "\n"
      ],
      "execution_count": 0,
      "outputs": []
    },
    {
      "cell_type": "markdown",
      "metadata": {
        "id": "Ew6PzVyAZGq0",
        "colab_type": "text"
      },
      "source": [
        "### 1.9 - Cleaning up the data: Country codes\n",
        "\n",
        "Similar to lecture, we can see that we still have missing country codes. Use this [link](https://www.iban.com/country-codes) to find the codes and country names that are missing. Remember to use the `df.at` method to replace these codes."
      ]
    },
    {
      "cell_type": "code",
      "metadata": {
        "id": "25xPIbf4Foja",
        "colab_type": "code",
        "colab": {}
      },
      "source": [
        "# Fix the country codes first\n",
        "# Use 'at' if you only need to get or set a single value in a DataFrame or Series.\n",
        "\n",
        "\n"
      ],
      "execution_count": 0,
      "outputs": []
    },
    {
      "cell_type": "code",
      "metadata": {
        "id": "XcubbeYdTyXN",
        "colab_type": "code",
        "colab": {}
      },
      "source": [
        "# Check to make sure all the codes have been replaced.\n",
        "# (remember to subset the df so it only shows rows with NaN)\n",
        "\n"
      ],
      "execution_count": 0,
      "outputs": []
    },
    {
      "cell_type": "code",
      "metadata": {
        "id": "NMvLiQuFdWfP",
        "colab_type": "code",
        "colab": {}
      },
      "source": [
        "# Next fix the missing country names\n",
        "\n",
        "\n",
        "\n"
      ],
      "execution_count": 0,
      "outputs": []
    },
    {
      "cell_type": "code",
      "metadata": {
        "id": "jyheMmSseO2m",
        "colab_type": "code",
        "colab": {}
      },
      "source": [
        "# Check to make sure all the codes and country names have been replaced.\n",
        "# (remember to subset the df so it only shows rows with NaN)\n",
        "\n"
      ],
      "execution_count": 0,
      "outputs": []
    },
    {
      "cell_type": "markdown",
      "metadata": {
        "id": "77ibCDqHfrnY",
        "colab_type": "text"
      },
      "source": [
        "### 1.10 - Missing GDP values\n",
        "\n",
        "Now, it looks like we only have three GDP values missing. Using the information below, let's fix up those values.\n",
        "\n",
        "*   France has a GDP of 2902.0 billion\n",
        "*   Ireland has a GDP of 245.80 billion\n",
        "*   Bangladesh has a GDP of 186.60 billion"
      ]
    },
    {
      "cell_type": "code",
      "metadata": {
        "id": "DU7UG2yYFpD9",
        "colab_type": "code",
        "colab": {}
      },
      "source": [
        "# Fix missing GDP values\n",
        "\n",
        "\n",
        "\n"
      ],
      "execution_count": 0,
      "outputs": []
    },
    {
      "cell_type": "markdown",
      "metadata": {
        "id": "Y7arWL1sblgY",
        "colab_type": "text"
      },
      "source": [
        "### Verify the change persisted!\n",
        "\n",
        "Run one final check to see how many missing values there are. If you still have more than zero, then go through the above celss again to fill them in."
      ]
    },
    {
      "cell_type": "code",
      "metadata": {
        "id": "Rr6fwMaygYhq",
        "colab_type": "code",
        "colab": {}
      },
      "source": [
        "# Do a final check for missing values\n",
        "\n"
      ],
      "execution_count": 0,
      "outputs": []
    },
    {
      "cell_type": "markdown",
      "metadata": {
        "id": "WXECm2x7hxeI",
        "colab_type": "text"
      },
      "source": [
        "### Solution 1.10\n",
        "\n",
        "We'll do a test on the DataFrame to check that all the missing values have been filled in."
      ]
    },
    {
      "cell_type": "code",
      "metadata": {
        "id": "UzHNcA6DiuzM",
        "colab_type": "code",
        "colab": {}
      },
      "source": [
        "# DO NOT EDIT THIS CELL\n",
        "# SOLUTION to 1.10\n",
        "\n",
        "# Check that df has no missing values\n",
        "assert df.all(axis=None) == True, \"You still have null values in your DataFrame.\""
      ],
      "execution_count": 0,
      "outputs": []
    },
    {
      "cell_type": "markdown",
      "metadata": {
        "id": "D3B3Z8GvcY4Q",
        "colab_type": "text"
      },
      "source": [
        "### Submit your assignment notebook! (Make sure you've changed the name to FIRSTNAME_LASTNAME_assign7): \n",
        "\n",
        "1.  Click the Share button in the upper-right hand corner of the notebook.\n",
        "2.  Get the shareable link.\n",
        "3.  Set condition to: \"Anyone with the link can comment.\"\n",
        "\n",
        "\n",
        "---\n"
      ]
    }
  ]
}