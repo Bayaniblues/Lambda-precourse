{
  "nbformat": 4,
  "nbformat_minor": 0,
  "metadata": {
    "colab": {
      "name": "Python_lists_LECTURE.ipynb",
      "provenance": [],
      "collapsed_sections": [],
      "include_colab_link": true
    },
    "kernelspec": {
      "name": "python3",
      "display_name": "Python 3"
    }
  },
  "cells": [
    {
      "cell_type": "markdown",
      "metadata": {
        "id": "view-in-github",
        "colab_type": "text"
      },
      "source": [
        "<a href=\"https://colab.research.google.com/github/Bayaniblues/Lambda-precourse/blob/master/Python_lists_LECTURE.ipynb\" target=\"_parent\"><img src=\"https://colab.research.google.com/assets/colab-badge.svg\" alt=\"Open In Colab\"/></a>"
      ]
    },
    {
      "cell_type": "markdown",
      "metadata": {
        "id": "ZvNsvUNNlZbi",
        "colab_type": "text"
      },
      "source": [
        "---\n",
        "# Lambda School Data Science - Intro to Python  \n",
        "---\n",
        "# Lecture 2A - Python Lists\n",
        "---\n",
        "\n"
      ]
    },
    {
      "cell_type": "markdown",
      "metadata": {
        "id": "o57NvhYkBjKH",
        "colab_type": "text"
      },
      "source": [
        "## Lists: Storing Ordered Collections of Values\n",
        "\n",
        "### What is a list?\n",
        "Variables are used to store a specfic value with a specific data type, but as a data scientist you'll be working with A LOT of data points. For example, in the previous assignment we calculated the BMI of two people. Imagine if we'd asked you to do it for twenty people. Updating the variables twenty times or creating twenty different variables would have been tedious and repetitive.\n",
        "\n",
        "In this lesson we're going to introduce a new Python \"data structure\" that will allow us to store *multiple* values to a *single* variable. This data structure is called a ***list***. \n"
      ]
    },
    {
      "cell_type": "markdown",
      "metadata": {
        "id": "vmo-hC5HXpPf",
        "colab_type": "text"
      },
      "source": [
        "### List Syntax:\n",
        "\n",
        "Every list is wrapped in square brackets: `[ ]` and each value within the list is separated by commas: `,`. Lists are particularly useful because the **order** of items within the list is always maintained. This allows us to reliably store and retrieve specific values within a list. \n",
        "\n",
        "Let's make our first list from the ages of some previous students."
      ]
    },
    {
      "cell_type": "code",
      "metadata": {
        "id": "gTg4J-jCExcZ",
        "colab_type": "code",
        "colab": {}
      },
      "source": [
        "# You can create a list simply by using brackets [ ] and separating elements with a comma\n",
        "ages = [24, 23, True, 23, 'Cat', 46, 19, 34]"
      ],
      "execution_count": 0,
      "outputs": []
    },
    {
      "cell_type": "markdown",
      "metadata": {
        "id": "DLYBzDQDm0ME",
        "colab_type": "text"
      },
      "source": [
        "We can store our list of values to a variable just like we would a single value using the assignment operator (equals sign): `=`.\n",
        "\n",
        "But this variable will then not have a type of 'float', 'int', 'string', or 'boolean' like we have practiced in previous lessons, but it will have a data type of \"list\" because that's what we have stored to it."
      ]
    },
    {
      "cell_type": "code",
      "metadata": {
        "id": "bZqaqznhmnwR",
        "colab_type": "code",
        "outputId": "479ee844-ee4d-418a-a301-7820afe0fafc",
        "colab": {
          "base_uri": "https://localhost:8080/",
          "height": 35
        }
      },
      "source": [
        "type(ages)"
      ],
      "execution_count": 0,
      "outputs": [
        {
          "output_type": "execute_result",
          "data": {
            "text/plain": [
              "list"
            ]
          },
          "metadata": {
            "tags": []
          },
          "execution_count": 2
        }
      ]
    },
    {
      "cell_type": "markdown",
      "metadata": {
        "id": "EEo49XronX4-",
        "colab_type": "text"
      },
      "source": [
        "We can access our list by using the variable that it is saved to just like we would any other variable. "
      ]
    },
    {
      "cell_type": "code",
      "metadata": {
        "id": "pD32Px_Bmtng",
        "colab_type": "code",
        "outputId": "0f80eab2-864a-49c0-952b-d215e0ffb463",
        "colab": {
          "base_uri": "https://localhost:8080/",
          "height": 35
        }
      },
      "source": [
        "ages"
      ],
      "execution_count": 0,
      "outputs": [
        {
          "output_type": "execute_result",
          "data": {
            "text/plain": [
              "[24, 23, True, 23, 'Cat', 46, 19, 34]"
            ]
          },
          "metadata": {
            "tags": []
          },
          "execution_count": 3
        }
      ]
    },
    {
      "cell_type": "markdown",
      "metadata": {
        "id": "zkMXNWwKDN6I",
        "colab_type": "text"
      },
      "source": [
        "We can also have empty lists that don't have any items in them. Sometimes we will create an empty list first just so that our variable has something saved to it and then add values to it later."
      ]
    },
    {
      "cell_type": "code",
      "metadata": {
        "id": "1x8MpAU6DUZO",
        "colab_type": "code",
        "colab": {}
      },
      "source": [
        "empty_list = []"
      ],
      "execution_count": 0,
      "outputs": []
    },
    {
      "cell_type": "code",
      "metadata": {
        "id": "2-HY3FncDWyF",
        "colab_type": "code",
        "outputId": "73af6f2f-b54a-4aac-8e37-1c82b72b1165",
        "colab": {
          "base_uri": "https://localhost:8080/",
          "height": 35
        }
      },
      "source": [
        "empty_list"
      ],
      "execution_count": 0,
      "outputs": [
        {
          "output_type": "execute_result",
          "data": {
            "text/plain": [
              "[]"
            ]
          },
          "metadata": {
            "tags": []
          },
          "execution_count": 5
        }
      ]
    },
    {
      "cell_type": "markdown",
      "metadata": {
        "id": "Kc8WR6NfYiL3",
        "colab_type": "text"
      },
      "source": [
        "### Lists can hold different types of values\n",
        "\n",
        "A list doesn't just have to hold integers, or floats or booleans, etc. But can hold all different types of values. This means that we can use a single list to hold lots of improtant information. \n",
        "\n",
        "Let's add some names to our ages list as well. "
      ]
    },
    {
      "cell_type": "code",
      "metadata": {
        "id": "VHwqAkBXYGyE",
        "colab_type": "code",
        "outputId": "f89c58d9-38ae-4440-c836-7266e107ce3a",
        "colab": {
          "base_uri": "https://localhost:8080/",
          "height": 35
        }
      },
      "source": [
        "names_and_ages = [\"Popeye\", 24, \"Tabatha\", 23, \"Jerry\", 25, \"Flynn\", 23, \"Sally\", 40, \"Michael\", 46, \"Susie\", 19, \"Amanda\", 34]\n",
        "\n",
        "# Notice there are both ints and strings in there. No problem!\n",
        "type(names_and_ages)"
      ],
      "execution_count": 0,
      "outputs": [
        {
          "output_type": "execute_result",
          "data": {
            "text/plain": [
              "list"
            ]
          },
          "metadata": {
            "tags": []
          },
          "execution_count": 6
        }
      ]
    },
    {
      "cell_type": "code",
      "metadata": {
        "id": "8kp9aj_Foev3",
        "colab_type": "code",
        "outputId": "d65e3ef2-cde1-4296-ee51-eef3f8c934dd",
        "colab": {
          "base_uri": "https://localhost:8080/",
          "height": 308
        }
      },
      "source": [
        "names_and_ages"
      ],
      "execution_count": 0,
      "outputs": [
        {
          "output_type": "execute_result",
          "data": {
            "text/plain": [
              "['Popeye',\n",
              " 24,\n",
              " 'Tabatha',\n",
              " 23,\n",
              " 'Jerry',\n",
              " 25,\n",
              " 'Flynn',\n",
              " 23,\n",
              " 'Sally',\n",
              " 40,\n",
              " 'Michael',\n",
              " 46,\n",
              " 'Susie',\n",
              " 19,\n",
              " 'Amanda',\n",
              " 34]"
            ]
          },
          "metadata": {
            "tags": []
          },
          "execution_count": 7
        }
      ]
    },
    {
      "cell_type": "markdown",
      "metadata": {
        "id": "7GoXW2hXZih0",
        "colab_type": "text"
      },
      "source": [
        "### Lists can also hold other lists! \n",
        "\n",
        "In the list above you'll notice that there's no way to associate a name with a specific name with a specific age besides their position in the list, we can make this a little bit easier by storing lists inside of our list. A list that itself contains lists is sometime called a \"nested\" list or a \"two-dimensional\" list.\n",
        "\n",
        "We an better associate a name with an age by holding them each within a smaller list and then saving all of those to a larger list. \n"
      ]
    },
    {
      "cell_type": "code",
      "metadata": {
        "id": "XpMzPwSHYG4-",
        "colab_type": "code",
        "outputId": "ff610e45-cd44-406c-ac6a-0824ea4f1ead",
        "colab": {
          "base_uri": "https://localhost:8080/",
          "height": 35
        }
      },
      "source": [
        "# Same idea, declare lists with []'s and separate elements with commas. Even if those elements are other lists.\n",
        "\n",
        "students = [           # Start with an open bracket\n",
        "    [\"Popeye\", 24],  # Each element is a list with 2 elements [name, age]\n",
        "    [\"Tabatha\", 23], # We still have to separate each item in our large list with commas\n",
        "    [\"Jerry\", 25],\n",
        "    [\"Flynn\", 23],    \n",
        "    [\"Sally\", 40],\n",
        "    [\"Michael\", 46],\n",
        "    [\"Susie\", 19],\n",
        "    [\"Amanda\", 34]\n",
        "]                   # End with a close bracket\n",
        "\n",
        "\n",
        "type(students)"
      ],
      "execution_count": 0,
      "outputs": [
        {
          "output_type": "execute_result",
          "data": {
            "text/plain": [
              "list"
            ]
          },
          "metadata": {
            "tags": []
          },
          "execution_count": 8
        }
      ]
    },
    {
      "cell_type": "code",
      "metadata": {
        "id": "lQLv-4rcYG7v",
        "colab_type": "code",
        "colab": {}
      },
      "source": [
        "# The code below is equivalent to the above code but with different whitespace.\n",
        "students = [[\"Popeye\", 24],[\"Tabatha\", 23],[\"Jerry\", 25],[\"Flynn\", 23],\n",
        "            [\"Sally\", 40],[\"Michael\", 46],[\"Susie\", 19],[\"Amanda\", 34]]\n",
        "\n",
        "# It's just a bit easier to take in the other way. "
      ],
      "execution_count": 0,
      "outputs": []
    },
    {
      "cell_type": "code",
      "metadata": {
        "id": "Os0sncrJrAvP",
        "colab_type": "code",
        "outputId": "b3bd253d-d0cb-4be1-fa0a-13eeac0e1c56",
        "colab": {
          "base_uri": "https://localhost:8080/",
          "height": 163
        }
      },
      "source": [
        "students"
      ],
      "execution_count": 0,
      "outputs": [
        {
          "output_type": "execute_result",
          "data": {
            "text/plain": [
              "[['Popeye', 24],\n",
              " ['Tabatha', 23],\n",
              " ['Jerry', 25],\n",
              " ['Flynn', 23],\n",
              " ['Sally', 40],\n",
              " ['Michael', 46],\n",
              " ['Susie', 19],\n",
              " ['Amanda', 34]]"
            ]
          },
          "metadata": {
            "tags": []
          },
          "execution_count": 10
        }
      ]
    },
    {
      "cell_type": "markdown",
      "metadata": {
        "id": "tXouWM5PbdG4",
        "colab_type": "text"
      },
      "source": [
        "### Accessing Specific Items Within a List \n",
        "\n",
        "Like the other data types you've learned about, lists have their own behaviors and functionality.\n",
        "\n",
        "A list is no good to you if you can't access the elements inside it. Python uses something called \"indexing\" to keep track of where values are inside of a list. This means that each elemenet in a list is associated with an integer value that represents its position in a list. The tricky part about list indexing is that the index values start at 0 and not at 1 like the traditional counting numbers. This means that the item in the first position in the list is at index 0, the second item in the list is at index 1, the third item is at index position 2, etc. \n",
        "\n",
        "Let's practice accessing specific items within the lists we have created.\n",
        "\n",
        "To access a specific item within a list simply write the varaible name with square brackets on the end and then \"pass in\" -put inside of the square brackets- the index of the item that you want to retrieve. \n",
        "\n"
      ]
    },
    {
      "cell_type": "code",
      "metadata": {
        "id": "sw5M6CsrwKS4",
        "colab_type": "code",
        "outputId": "4034b7f8-1cfa-467a-fe0a-02740bc229e6",
        "colab": {
          "base_uri": "https://localhost:8080/",
          "height": 35
        }
      },
      "source": [
        "ages"
      ],
      "execution_count": 0,
      "outputs": [
        {
          "output_type": "execute_result",
          "data": {
            "text/plain": [
              "[24, 23, True, 23, 'Cat', 46, 19, 34]"
            ]
          },
          "metadata": {
            "tags": []
          },
          "execution_count": 11
        }
      ]
    },
    {
      "cell_type": "code",
      "metadata": {
        "id": "pehIApJFwVG3",
        "colab_type": "code",
        "outputId": "8ff4694a-944c-4352-adf0-2aa1d668f35c",
        "colab": {
          "base_uri": "https://localhost:8080/",
          "height": 35
        }
      },
      "source": [
        "'''By adding brackets to the end of the list name and passing in an index value, \n",
        "Python will return the element that is at that particular index position in \n",
        "the given list. The first value is index 0 so...'''\n",
        "\n",
        "ages[0]"
      ],
      "execution_count": 0,
      "outputs": [
        {
          "output_type": "execute_result",
          "data": {
            "text/plain": [
              "24"
            ]
          },
          "metadata": {
            "tags": []
          },
          "execution_count": 12
        }
      ]
    },
    {
      "cell_type": "code",
      "metadata": {
        "id": "g7kBgdwgekCM",
        "colab_type": "code",
        "outputId": "19540bef-e7bc-4ac3-93b7-5b125fe502e5",
        "colab": {
          "base_uri": "https://localhost:8080/",
          "height": 35
        }
      },
      "source": [
        "# If we want the 5th element in the list, we use index 4.\n",
        "ages[4]"
      ],
      "execution_count": 0,
      "outputs": [
        {
          "output_type": "execute_result",
          "data": {
            "text/plain": [
              "'Cat'"
            ]
          },
          "metadata": {
            "tags": []
          },
          "execution_count": 13
        }
      ]
    },
    {
      "cell_type": "markdown",
      "metadata": {
        "id": "OTzqnaHsv5A4",
        "colab_type": "text"
      },
      "source": [
        "### Use negative index values to start from the back of the list"
      ]
    },
    {
      "cell_type": "code",
      "metadata": {
        "id": "k1GoJAIfeQDK",
        "colab_type": "code",
        "outputId": "d53667c1-47d1-416c-f205-3718eaf18fee",
        "colab": {
          "base_uri": "https://localhost:8080/",
          "height": 35
        }
      },
      "source": [
        "# To access the LAST element in the list, we can use -1.\n",
        "ages[-1]"
      ],
      "execution_count": 0,
      "outputs": [
        {
          "output_type": "execute_result",
          "data": {
            "text/plain": [
              "34"
            ]
          },
          "metadata": {
            "tags": []
          },
          "execution_count": 14
        }
      ]
    },
    {
      "cell_type": "code",
      "metadata": {
        "id": "q3eyzy_DebS2",
        "colab_type": "code",
        "outputId": "616481e9-2ea4-4e99-8688-60519df9b851",
        "colab": {
          "base_uri": "https://localhost:8080/",
          "height": 35
        }
      },
      "source": [
        "# So let's say we want the 2nd to last element in the list:\n",
        "ages[-2]"
      ],
      "execution_count": 0,
      "outputs": [
        {
          "output_type": "execute_result",
          "data": {
            "text/plain": [
              "19"
            ]
          },
          "metadata": {
            "tags": []
          },
          "execution_count": 15
        }
      ]
    },
    {
      "cell_type": "markdown",
      "metadata": {
        "id": "pqsrXHFewqO9",
        "colab_type": "text"
      },
      "source": [
        "### Accessing items in two-dimensional lists.\n",
        "\n",
        "We can retrieve the lists (items) inside of a two-dimenaional list as if they were any other piece of information. No matter what we've stored in the list, the list indexing works the same."
      ]
    },
    {
      "cell_type": "code",
      "metadata": {
        "id": "WbBVlwXwxOzK",
        "colab_type": "code",
        "outputId": "00a25d82-8412-424f-aaff-cefc0f8a6701",
        "colab": {
          "base_uri": "https://localhost:8080/",
          "height": 163
        }
      },
      "source": [
        "students"
      ],
      "execution_count": 0,
      "outputs": [
        {
          "output_type": "execute_result",
          "data": {
            "text/plain": [
              "[['Popeye', 24],\n",
              " ['Tabatha', 23],\n",
              " ['Jerry', 25],\n",
              " ['Flynn', 23],\n",
              " ['Sally', 40],\n",
              " ['Michael', 46],\n",
              " ['Susie', 19],\n",
              " ['Amanda', 34]]"
            ]
          },
          "metadata": {
            "tags": []
          },
          "execution_count": 16
        }
      ]
    },
    {
      "cell_type": "markdown",
      "metadata": {
        "id": "E2uDZHSEH37I",
        "colab_type": "text"
      },
      "source": [
        "Lets access Sally's age, her list is in index position 4. "
      ]
    },
    {
      "cell_type": "code",
      "metadata": {
        "id": "QYuDKeDcH1LU",
        "colab_type": "code",
        "outputId": "19ec305f-8efa-4c4d-dbef-81b8e305238e",
        "colab": {
          "base_uri": "https://localhost:8080/",
          "height": 35
        }
      },
      "source": [
        "students[4]"
      ],
      "execution_count": 0,
      "outputs": [
        {
          "output_type": "execute_result",
          "data": {
            "text/plain": [
              "['Sally', 40]"
            ]
          },
          "metadata": {
            "tags": []
          },
          "execution_count": 17
        }
      ]
    },
    {
      "cell_type": "markdown",
      "metadata": {
        "id": "255hEDgfIBnZ",
        "colab_type": "text"
      },
      "source": [
        "You'll see above that by indexing into the outer list was able to access Sally's inner list. I can then access items inside of Sally's inner list by adding another set of square brackets with the index corresponding to the value that I want to retrieve from the inner list."
      ]
    },
    {
      "cell_type": "code",
      "metadata": {
        "id": "sY-0GpGTIAx1",
        "colab_type": "code",
        "outputId": "41165d51-b0f9-4a97-b38c-568275228e7c",
        "colab": {
          "base_uri": "https://localhost:8080/",
          "height": 35
        }
      },
      "source": [
        "# Get the item at index position 4 in the outer list\n",
        "# then get the item at index position 0 of that item.\n",
        "students[4][0]"
      ],
      "execution_count": 0,
      "outputs": [
        {
          "output_type": "execute_result",
          "data": {
            "text/plain": [
              "'Sally'"
            ]
          },
          "metadata": {
            "tags": []
          },
          "execution_count": 18
        }
      ]
    },
    {
      "cell_type": "code",
      "metadata": {
        "id": "zWs5XPtgIZV8",
        "colab_type": "code",
        "outputId": "84e4eb5b-62f5-435e-d5db-543825333728",
        "colab": {
          "base_uri": "https://localhost:8080/",
          "height": 35
        }
      },
      "source": [
        "students[4][1]"
      ],
      "execution_count": 0,
      "outputs": [
        {
          "output_type": "execute_result",
          "data": {
            "text/plain": [
              "40"
            ]
          },
          "metadata": {
            "tags": []
          },
          "execution_count": 19
        }
      ]
    },
    {
      "cell_type": "markdown",
      "metadata": {
        "id": "ut2-8J-7IcF9",
        "colab_type": "text"
      },
      "source": [
        "We can nest lists inside of lists and go as deep as we need to with it, however in practice, we typically won't go further than a three-dimensional list. "
      ]
    },
    {
      "cell_type": "code",
      "metadata": {
        "id": "nu89ImIXImjA",
        "colab_type": "code",
        "colab": {}
      },
      "source": [
        "three_dimensional_list = ['cat', ['fish', 'shark', ['octopus', 'squid']], 'dog']"
      ],
      "execution_count": 0,
      "outputs": []
    },
    {
      "cell_type": "code",
      "metadata": {
        "id": "_jqAhWhFI4ZU",
        "colab_type": "code",
        "outputId": "cdd855ee-cdf8-46c8-be87-7ff9edf75823",
        "colab": {
          "base_uri": "https://localhost:8080/",
          "height": 35
        }
      },
      "source": [
        "three_dimensional_list"
      ],
      "execution_count": 0,
      "outputs": [
        {
          "output_type": "execute_result",
          "data": {
            "text/plain": [
              "['cat', ['fish', 'shark', ['octopus', 'squid']], 'dog']"
            ]
          },
          "metadata": {
            "tags": []
          },
          "execution_count": 21
        }
      ]
    },
    {
      "cell_type": "code",
      "metadata": {
        "id": "kiAkSgj9JAKZ",
        "colab_type": "code",
        "outputId": "d42d4a83-374b-4dac-f8a8-e5e37bf11afb",
        "colab": {
          "base_uri": "https://localhost:8080/",
          "height": 35
        }
      },
      "source": [
        "three_dimensional_list[1]"
      ],
      "execution_count": 0,
      "outputs": [
        {
          "output_type": "execute_result",
          "data": {
            "text/plain": [
              "['fish', 'shark', ['octopus', 'squid']]"
            ]
          },
          "metadata": {
            "tags": []
          },
          "execution_count": 22
        }
      ]
    },
    {
      "cell_type": "code",
      "metadata": {
        "id": "Iouz5rJ2JE4M",
        "colab_type": "code",
        "outputId": "b2eec8c5-db3d-4ec5-e8f7-feae9990f073",
        "colab": {
          "base_uri": "https://localhost:8080/",
          "height": 35
        }
      },
      "source": [
        "three_dimensional_list[1][0]"
      ],
      "execution_count": 0,
      "outputs": [
        {
          "output_type": "execute_result",
          "data": {
            "text/plain": [
              "'fish'"
            ]
          },
          "metadata": {
            "tags": []
          },
          "execution_count": 23
        }
      ]
    },
    {
      "cell_type": "code",
      "metadata": {
        "id": "GgiVNw4uJGje",
        "colab_type": "code",
        "outputId": "25be6642-47fd-4031-9a2d-d0b2295a1fc0",
        "colab": {
          "base_uri": "https://localhost:8080/",
          "height": 35
        }
      },
      "source": [
        "three_dimensional_list[1][1]"
      ],
      "execution_count": 0,
      "outputs": [
        {
          "output_type": "execute_result",
          "data": {
            "text/plain": [
              "'shark'"
            ]
          },
          "metadata": {
            "tags": []
          },
          "execution_count": 24
        }
      ]
    },
    {
      "cell_type": "code",
      "metadata": {
        "id": "ltRHWIdrJHqQ",
        "colab_type": "code",
        "outputId": "b6bf4578-4d59-4da4-982a-f331e1ef05aa",
        "colab": {
          "base_uri": "https://localhost:8080/",
          "height": 35
        }
      },
      "source": [
        "three_dimensional_list[1][2]"
      ],
      "execution_count": 0,
      "outputs": [
        {
          "output_type": "execute_result",
          "data": {
            "text/plain": [
              "['octopus', 'squid']"
            ]
          },
          "metadata": {
            "tags": []
          },
          "execution_count": 25
        }
      ]
    },
    {
      "cell_type": "code",
      "metadata": {
        "id": "X1eRhIw_JJio",
        "colab_type": "code",
        "outputId": "d43f368d-ad88-4e76-b031-6bb78e25fc98",
        "colab": {
          "base_uri": "https://localhost:8080/",
          "height": 35
        }
      },
      "source": [
        "three_dimensional_list[1][2][0]"
      ],
      "execution_count": 0,
      "outputs": [
        {
          "output_type": "execute_result",
          "data": {
            "text/plain": [
              "'octopus'"
            ]
          },
          "metadata": {
            "tags": []
          },
          "execution_count": 26
        }
      ]
    },
    {
      "cell_type": "code",
      "metadata": {
        "id": "tfT5iNLPJMRm",
        "colab_type": "code",
        "outputId": "daede079-dc27-4790-c1a7-3e1fe5bd517b",
        "colab": {
          "base_uri": "https://localhost:8080/",
          "height": 35
        }
      },
      "source": [
        "three_dimensional_list[1][2][1]"
      ],
      "execution_count": 0,
      "outputs": [
        {
          "output_type": "execute_result",
          "data": {
            "text/plain": [
              "'squid'"
            ]
          },
          "metadata": {
            "tags": []
          },
          "execution_count": 27
        }
      ]
    },
    {
      "cell_type": "markdown",
      "metadata": {
        "id": "9kzcyheyfp1k",
        "colab_type": "text"
      },
      "source": [
        "### Slicing Lists (subsetting)\n",
        "\n",
        "We can use list *slicing* techniques in order to retrieve multiple items. Instead of passing in a single index value we will pass in a start index and an end index separated by a colon to retrieve any items within that range.\n",
        "\n",
        "The basic structure is my_list[start:end] where the start index is inclusive, and the end index is exclusive. In other words, from the start, up to (but not including) the end. \n",
        "\n",
        "Let's try it:"
      ]
    },
    {
      "cell_type": "code",
      "metadata": {
        "id": "i7o9BappebVo",
        "colab_type": "code",
        "outputId": "8beebc04-1f26-43be-9a0b-ae99a23fccfa",
        "colab": {
          "base_uri": "https://localhost:8080/",
          "height": 163
        }
      },
      "source": [
        "students"
      ],
      "execution_count": 0,
      "outputs": [
        {
          "output_type": "execute_result",
          "data": {
            "text/plain": [
              "[['Popeye', 24],\n",
              " ['Tabatha', 23],\n",
              " ['Jerry', 25],\n",
              " ['Flynn', 23],\n",
              " ['Sally', 40],\n",
              " ['Michael', 46],\n",
              " ['Susie', 19],\n",
              " ['Amanda', 34]]"
            ]
          },
          "metadata": {
            "tags": []
          },
          "execution_count": 28
        }
      ]
    },
    {
      "cell_type": "code",
      "metadata": {
        "id": "VuC3PtgRebYj",
        "colab_type": "code",
        "outputId": "030dfbea-f7c5-48e0-f366-334f6074bee6",
        "colab": {
          "base_uri": "https://localhost:8080/",
          "height": 35
        }
      },
      "source": [
        "# Let's say we want Tabatha and Jerry's information:\n",
        "\n",
        "students[1:3]"
      ],
      "execution_count": 0,
      "outputs": [
        {
          "output_type": "execute_result",
          "data": {
            "text/plain": [
              "[['Tabatha', 23], ['Jerry', 25]]"
            ]
          },
          "metadata": {
            "tags": []
          },
          "execution_count": 29
        }
      ]
    },
    {
      "cell_type": "code",
      "metadata": {
        "id": "QSyy_r2Zg5et",
        "colab_type": "code",
        "outputId": "8a516f98-0c2f-4145-8879-f4d3455bd4f6",
        "colab": {
          "base_uri": "https://localhost:8080/",
          "height": 35
        }
      },
      "source": [
        "# Now let's say we want Sally and Michael's information but want to access it \n",
        "# by indexing from the back of the list:\n",
        "students[-4:-2]"
      ],
      "execution_count": 0,
      "outputs": [
        {
          "output_type": "execute_result",
          "data": {
            "text/plain": [
              "[['Sally', 40], ['Michael', 46]]"
            ]
          },
          "metadata": {
            "tags": []
          },
          "execution_count": 30
        }
      ]
    },
    {
      "cell_type": "markdown",
      "metadata": {
        "id": "5P0bwwOHhCSz",
        "colab_type": "text"
      },
      "source": [
        "If we don't provide a start or end position, then Python will assume that we meant the start or end of the list. \n",
        "\n"
      ]
    },
    {
      "cell_type": "code",
      "metadata": {
        "id": "-lm-p2ashVef",
        "colab_type": "code",
        "outputId": "f299131a-fc3e-4a3c-eb3a-addc15d3a756",
        "colab": {
          "base_uri": "https://localhost:8080/",
          "height": 35
        }
      },
      "source": [
        "# From the beginning of the list to the third element (not including the third)\n",
        "students[:3]\n",
        "\n",
        "# Remember, we're actually getting elements 0, 1  and 2.\n",
        "## The element at index 3 would be Flynn's info, but because slicing returns\n",
        "## up to by not including include whatever index is provided second."
      ],
      "execution_count": 0,
      "outputs": [
        {
          "output_type": "execute_result",
          "data": {
            "text/plain": [
              "[['Popeye', 24], ['Tabatha', 23], ['Jerry', 25]]"
            ]
          },
          "metadata": {
            "tags": []
          },
          "execution_count": 31
        }
      ]
    },
    {
      "cell_type": "code",
      "metadata": {
        "id": "9dGufdrJ1tty",
        "colab_type": "code",
        "outputId": "addfdf5f-bf1a-4d5e-ac25-7bfcca9dc47c",
        "colab": {
          "base_uri": "https://localhost:8080/",
          "height": 35
        }
      },
      "source": [
        "# From index 4 to the end of the list\n",
        "students[4:]"
      ],
      "execution_count": 0,
      "outputs": [
        {
          "output_type": "execute_result",
          "data": {
            "text/plain": [
              "[['Sally', 40], ['Michael', 46], ['Susie', 19], ['Amanda', 34]]"
            ]
          },
          "metadata": {
            "tags": []
          },
          "execution_count": 32
        }
      ]
    },
    {
      "cell_type": "markdown",
      "metadata": {
        "id": "tAs3ctpC5Ht7",
        "colab_type": "text"
      },
      "source": [
        "### Adding Elements to a List"
      ]
    },
    {
      "cell_type": "markdown",
      "metadata": {
        "id": "u6QDb2Wk5Vzg",
        "colab_type": "text"
      },
      "source": [
        "One of the easiest ways to add elements to a list is by using the `.append()` method. We can call this method on any list variable and pass in (put inside of the parenthesis) the value that we want to *append* to the end of the list"
      ]
    },
    {
      "cell_type": "code",
      "metadata": {
        "id": "KlhePJ085N_M",
        "colab_type": "code",
        "colab": {}
      },
      "source": [
        "ages = [24, 23, 25, 23, 40, 46, 19, 34]"
      ],
      "execution_count": 0,
      "outputs": []
    },
    {
      "cell_type": "code",
      "metadata": {
        "id": "wkeuMpLq5Pjw",
        "colab_type": "code",
        "colab": {}
      },
      "source": [
        "ages.append(30)"
      ],
      "execution_count": 0,
      "outputs": []
    },
    {
      "cell_type": "code",
      "metadata": {
        "id": "insDGHOg5rjO",
        "colab_type": "code",
        "outputId": "84203a95-0a5e-40b5-ac52-8f29c98f8bd2",
        "colab": {
          "base_uri": "https://localhost:8080/",
          "height": 35
        }
      },
      "source": [
        "ages"
      ],
      "execution_count": 0,
      "outputs": [
        {
          "output_type": "execute_result",
          "data": {
            "text/plain": [
              "[24, 23, 25, 23, 40, 46, 19, 34, 30]"
            ]
          },
          "metadata": {
            "tags": []
          },
          "execution_count": 35
        }
      ]
    },
    {
      "cell_type": "markdown",
      "metadata": {
        "id": "zDEUUpML5z_M",
        "colab_type": "text"
      },
      "source": [
        "You can append anything that you want to the end of a list. Remember, that lists can hold any datatype so Python won't stop me if I add something silly to the end of my list of ages."
      ]
    },
    {
      "cell_type": "code",
      "metadata": {
        "id": "ubLchPDY5645",
        "colab_type": "code",
        "colab": {}
      },
      "source": [
        "ages.append(\"Lambda School\")"
      ],
      "execution_count": 0,
      "outputs": []
    },
    {
      "cell_type": "code",
      "metadata": {
        "id": "H4HDihtW5-Ma",
        "colab_type": "code",
        "outputId": "f44004cd-cd99-4adc-f4ef-472b39055f70",
        "colab": {
          "base_uri": "https://localhost:8080/",
          "height": 35
        }
      },
      "source": [
        "ages"
      ],
      "execution_count": 0,
      "outputs": [
        {
          "output_type": "execute_result",
          "data": {
            "text/plain": [
              "[24, 23, 25, 23, 40, 46, 19, 34, 30, 'Lambda School']"
            ]
          },
          "metadata": {
            "tags": []
          },
          "execution_count": 37
        }
      ]
    },
    {
      "cell_type": "markdown",
      "metadata": {
        "id": "Q4oSTEkO6FtL",
        "colab_type": "text"
      },
      "source": [
        "I can *insert* values into a specific place within a list using the `.insert()` method. We have to pass in two arguments to the insert method. The first is the index where we want to insert the new item, and the second is the item that we want to put into the list."
      ]
    },
    {
      "cell_type": "code",
      "metadata": {
        "id": "NIuwglS56YT3",
        "colab_type": "code",
        "colab": {}
      },
      "source": [
        "ages.insert(4, 3.141592)"
      ],
      "execution_count": 0,
      "outputs": []
    },
    {
      "cell_type": "code",
      "metadata": {
        "id": "301kW7GU6e-1",
        "colab_type": "code",
        "outputId": "c755c3ef-f975-48e3-85de-df296d416ccb",
        "colab": {
          "base_uri": "https://localhost:8080/",
          "height": 35
        }
      },
      "source": [
        "ages"
      ],
      "execution_count": 0,
      "outputs": [
        {
          "output_type": "execute_result",
          "data": {
            "text/plain": [
              "[24, 23, 25, 23, 3.141592, 40, 46, 19, 34, 30, 'Lambda School']"
            ]
          },
          "metadata": {
            "tags": []
          },
          "execution_count": 39
        }
      ]
    },
    {
      "cell_type": "markdown",
      "metadata": {
        "id": "RPOT1Q7GgcVA",
        "colab_type": "text"
      },
      "source": [
        "### Changing Elements Within a List\n",
        "\n",
        "We can change an element within a list by accessing that element via its index and then reassigning that index to a new value\n"
      ]
    },
    {
      "cell_type": "code",
      "metadata": {
        "id": "ulO3eysqBbtT",
        "colab_type": "code",
        "outputId": "15b8037e-3574-4c12-98fa-95c687769ab4",
        "colab": {
          "base_uri": "https://localhost:8080/",
          "height": 35
        }
      },
      "source": [
        "# The third age in our ages list is 25\n",
        "ages[2]"
      ],
      "execution_count": 0,
      "outputs": [
        {
          "output_type": "execute_result",
          "data": {
            "text/plain": [
              "25"
            ]
          },
          "metadata": {
            "tags": []
          },
          "execution_count": 40
        }
      ]
    },
    {
      "cell_type": "code",
      "metadata": {
        "id": "f5slxw2pBhGT",
        "colab_type": "code",
        "colab": {}
      },
      "source": [
        "# Let's change it to 26\n",
        "ages[2] = 26"
      ],
      "execution_count": 0,
      "outputs": []
    },
    {
      "cell_type": "code",
      "metadata": {
        "id": "wzXK-7sOBlVY",
        "colab_type": "code",
        "outputId": "2677bd9a-56f2-4f3d-823b-d7f8d84e528c",
        "colab": {
          "base_uri": "https://localhost:8080/",
          "height": 35
        }
      },
      "source": [
        "# Look at Ages List\n",
        "ages"
      ],
      "execution_count": 0,
      "outputs": [
        {
          "output_type": "execute_result",
          "data": {
            "text/plain": [
              "[24, 23, 26, 23, 3.141592, 40, 46, 19, 34, 30, 'Lambda School']"
            ]
          },
          "metadata": {
            "tags": []
          },
          "execution_count": 42
        }
      ]
    },
    {
      "cell_type": "markdown",
      "metadata": {
        "id": "uRzNXPHhBVlF",
        "colab_type": "text"
      },
      "source": [
        "### Deleting Elements from a List\n",
        "\n",
        "We can remove an item at a specific index in a list using the `.pop()` method. This method will also return the value that we have removed from the list."
      ]
    },
    {
      "cell_type": "code",
      "metadata": {
        "id": "KfAeXsNBCHB9",
        "colab_type": "code",
        "outputId": "945d048f-4400-43a9-b1fb-873b4338affc",
        "colab": {
          "base_uri": "https://localhost:8080/",
          "height": 35
        }
      },
      "source": [
        "pi = ages.pop(4)\n",
        "pi"
      ],
      "execution_count": 0,
      "outputs": [
        {
          "output_type": "execute_result",
          "data": {
            "text/plain": [
              "3.141592"
            ]
          },
          "metadata": {
            "tags": []
          },
          "execution_count": 43
        }
      ]
    },
    {
      "cell_type": "code",
      "metadata": {
        "id": "yAp6ufsFCIIB",
        "colab_type": "code",
        "outputId": "67a6dfef-9d15-425b-9244-2227f52d391d",
        "colab": {
          "base_uri": "https://localhost:8080/",
          "height": 35
        }
      },
      "source": [
        "ages"
      ],
      "execution_count": 0,
      "outputs": [
        {
          "output_type": "execute_result",
          "data": {
            "text/plain": [
              "[24, 23, 26, 23, 40, 46, 19, 34, 30, 'Lambda School']"
            ]
          },
          "metadata": {
            "tags": []
          },
          "execution_count": 44
        }
      ]
    },
    {
      "cell_type": "markdown",
      "metadata": {
        "id": "SHnecru0CNEF",
        "colab_type": "text"
      },
      "source": [
        "If we call the `.pop()` method without passing in an index it will remove the last item in the list.\n",
        "\n"
      ]
    },
    {
      "cell_type": "code",
      "metadata": {
        "id": "xdvzPByzCMjS",
        "colab_type": "code",
        "outputId": "c5090cc2-b7f7-4156-9143-60fe4008fc25",
        "colab": {
          "base_uri": "https://localhost:8080/",
          "height": 35
        }
      },
      "source": [
        "ages.pop()"
      ],
      "execution_count": 0,
      "outputs": [
        {
          "output_type": "execute_result",
          "data": {
            "text/plain": [
              "'Lambda School'"
            ]
          },
          "metadata": {
            "tags": []
          },
          "execution_count": 45
        }
      ]
    },
    {
      "cell_type": "code",
      "metadata": {
        "id": "wD2QDSDnCI0_",
        "colab_type": "code",
        "outputId": "3fff887a-b983-41a2-d73a-e7ba472133c3",
        "colab": {
          "base_uri": "https://localhost:8080/",
          "height": 35
        }
      },
      "source": [
        "ages"
      ],
      "execution_count": 0,
      "outputs": [
        {
          "output_type": "execute_result",
          "data": {
            "text/plain": [
              "[24, 23, 26, 23, 40, 46, 19, 34, 30]"
            ]
          },
          "metadata": {
            "tags": []
          },
          "execution_count": 46
        }
      ]
    },
    {
      "cell_type": "markdown",
      "metadata": {
        "id": "Lhhg8B6WC-nt",
        "colab_type": "text"
      },
      "source": [
        "If you want to remove an element by its value but not by its index you can use the `.remove()` function."
      ]
    },
    {
      "cell_type": "code",
      "metadata": {
        "id": "zqy2g6U2C1Tn",
        "colab_type": "code",
        "colab": {}
      },
      "source": [
        "ages.remove(46)"
      ],
      "execution_count": 0,
      "outputs": []
    },
    {
      "cell_type": "code",
      "metadata": {
        "id": "dojmuGOyDFKf",
        "colab_type": "code",
        "outputId": "918bd1b7-38bf-4f5b-d903-418f5899f010",
        "colab": {
          "base_uri": "https://localhost:8080/",
          "height": 35
        }
      },
      "source": [
        "ages"
      ],
      "execution_count": 0,
      "outputs": [
        {
          "output_type": "execute_result",
          "data": {
            "text/plain": [
              "[24, 23, 26, 23, 40, 19, 34, 30]"
            ]
          },
          "metadata": {
            "tags": []
          },
          "execution_count": 48
        }
      ]
    },
    {
      "cell_type": "code",
      "metadata": {
        "id": "Budtws5bgt0s",
        "colab_type": "code",
        "colab": {}
      },
      "source": [
        "funny_list = ['cat', 'cat', 'dog', 'dog', 'fish']"
      ],
      "execution_count": 0,
      "outputs": []
    },
    {
      "cell_type": "code",
      "metadata": {
        "id": "gnaRrT8Pgysq",
        "colab_type": "code",
        "colab": {}
      },
      "source": [
        "funny_list.remove('dog')"
      ],
      "execution_count": 0,
      "outputs": []
    },
    {
      "cell_type": "code",
      "metadata": {
        "id": "B6C3DrLzg2_6",
        "colab_type": "code",
        "outputId": "8d4ad966-a722-472d-921e-74abf5819f52",
        "colab": {
          "base_uri": "https://localhost:8080/",
          "height": 35
        }
      },
      "source": [
        "funny_list"
      ],
      "execution_count": 0,
      "outputs": [
        {
          "output_type": "execute_result",
          "data": {
            "text/plain": [
              "['cat', 'cat', 'dog', 'fish']"
            ]
          },
          "metadata": {
            "tags": []
          },
          "execution_count": 51
        }
      ]
    },
    {
      "cell_type": "code",
      "metadata": {
        "id": "jTfSZKVGg3vK",
        "colab_type": "code",
        "colab": {}
      },
      "source": [
        "funny_list.remove('dog')"
      ],
      "execution_count": 0,
      "outputs": []
    },
    {
      "cell_type": "code",
      "metadata": {
        "id": "brnG0m_Sg70l",
        "colab_type": "code",
        "outputId": "2ed0dd26-a92b-4c49-d0e9-6eecd302f207",
        "colab": {
          "base_uri": "https://localhost:8080/",
          "height": 35
        }
      },
      "source": [
        "funny_list"
      ],
      "execution_count": 0,
      "outputs": [
        {
          "output_type": "execute_result",
          "data": {
            "text/plain": [
              "['cat', 'cat', 'fish']"
            ]
          },
          "metadata": {
            "tags": []
          },
          "execution_count": 53
        }
      ]
    },
    {
      "cell_type": "code",
      "metadata": {
        "id": "8Mbu2G1Sg8uU",
        "colab_type": "code",
        "outputId": "be413dcb-2efe-40a5-8e24-02e25a5a5ea2",
        "colab": {
          "base_uri": "https://localhost:8080/",
          "height": 171
        }
      },
      "source": [
        "funny_list.remove('dog')"
      ],
      "execution_count": 0,
      "outputs": [
        {
          "output_type": "error",
          "ename": "ValueError",
          "evalue": "ignored",
          "traceback": [
            "\u001b[0;31m---------------------------------------------------------------------------\u001b[0m",
            "\u001b[0;31mValueError\u001b[0m                                Traceback (most recent call last)",
            "\u001b[0;32m<ipython-input-54-33642febe35a>\u001b[0m in \u001b[0;36m<module>\u001b[0;34m()\u001b[0m\n\u001b[0;32m----> 1\u001b[0;31m \u001b[0mfunny_list\u001b[0m\u001b[0;34m.\u001b[0m\u001b[0mremove\u001b[0m\u001b[0;34m(\u001b[0m\u001b[0;34m'dog'\u001b[0m\u001b[0;34m)\u001b[0m\u001b[0;34m\u001b[0m\u001b[0;34m\u001b[0m\u001b[0m\n\u001b[0m",
            "\u001b[0;31mValueError\u001b[0m: list.remove(x): x not in list"
          ]
        }
      ]
    },
    {
      "cell_type": "code",
      "metadata": {
        "id": "ZH27CWQMg_mV",
        "colab_type": "code",
        "colab": {}
      },
      "source": [
        ""
      ],
      "execution_count": 0,
      "outputs": []
    }
  ]
}