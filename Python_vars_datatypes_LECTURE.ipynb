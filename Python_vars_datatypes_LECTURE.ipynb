{
  "nbformat": 4,
  "nbformat_minor": 0,
  "metadata": {
    "colab": {
      "name": "Python_vars_datatypes_LECTURE.ipynb",
      "provenance": [],
      "collapsed_sections": [],
      "include_colab_link": true
    },
    "kernelspec": {
      "name": "python3",
      "display_name": "Python 3"
    }
  },
  "cells": [
    {
      "cell_type": "markdown",
      "metadata": {
        "id": "view-in-github",
        "colab_type": "text"
      },
      "source": [
        "<a href=\"https://colab.research.google.com/github/Bayaniblues/Lambda-precourse/blob/master/Python_vars_datatypes_LECTURE.ipynb\" target=\"_parent\"><img src=\"https://colab.research.google.com/assets/colab-badge.svg\" alt=\"Open In Colab\"/></a>"
      ]
    },
    {
      "cell_type": "markdown",
      "metadata": {
        "id": "ZvNsvUNNlZbi",
        "colab_type": "text"
      },
      "source": [
        "---\n",
        "# Lambda School Data Science - Intro to Python  \n",
        "---\n",
        "# Lecture - Python Variables & Data Types\n",
        "---\n",
        "\n"
      ]
    },
    {
      "cell_type": "markdown",
      "metadata": {
        "id": "o57NvhYkBjKH",
        "colab_type": "text"
      },
      "source": [
        "## Variables: The building blocks of Python\n",
        "\n",
        "### What is a variable?\n",
        "We saw in the previous module that Python is one heck of a calculator. But you can imagine how more complex calculations would require us to remember a lot of values. That's where ***variables*** come in!  \n",
        "\n",
        "A variable is a storage unit for different values like numbers or text. Variables must be specific and case sensitive because you call up the value of a variable by using its name. \n",
        "\n"
      ]
    },
    {
      "cell_type": "code",
      "metadata": {
        "id": "gTg4J-jCExcZ",
        "colab_type": "code",
        "outputId": "da47d63c-7092-40b1-ef9a-0ffcf51dcf93",
        "colab": {
          "base_uri": "https://localhost:8080/",
          "height": 35
        }
      },
      "source": [
        "# Remember this cell from the previous module? Meet ints. \n",
        "\n",
        "x = 23\n",
        "y = 17\n",
        "\n",
        "x + y"
      ],
      "execution_count": 0,
      "outputs": [
        {
          "output_type": "execute_result",
          "data": {
            "text/plain": [
              "40"
            ]
          },
          "metadata": {
            "tags": []
          },
          "execution_count": 1
        }
      ]
    },
    {
      "cell_type": "code",
      "metadata": {
        "id": "OF21ttOZ2Xv1",
        "colab_type": "code",
        "outputId": "0c191c59-a9d7-47ca-8fbe-5cfddc6e9eed",
        "colab": {
          "base_uri": "https://localhost:8080/",
          "height": 35
        }
      },
      "source": [
        "type(x)"
      ],
      "execution_count": 0,
      "outputs": [
        {
          "output_type": "execute_result",
          "data": {
            "text/plain": [
              "int"
            ]
          },
          "metadata": {
            "tags": []
          },
          "execution_count": 2
        }
      ]
    },
    {
      "cell_type": "markdown",
      "metadata": {
        "id": "kRT5Xl0wTWvR",
        "colab_type": "text"
      },
      "source": [
        "In the above cell we created (or *declared*) two variables: *x* and *y*. We did this by simply using an **=** sign much like we would in algebra.  \n",
        "In this example we only used numerical values (these are called ***integers*** or ***ints***). So what happens when you use text values?\n"
      ]
    },
    {
      "cell_type": "code",
      "metadata": {
        "id": "MfndtviVcgaO",
        "colab_type": "code",
        "outputId": "016fe8de-59b3-4f80-b7a7-40f1093e9980",
        "colab": {
          "base_uri": "https://localhost:8080/",
          "height": 35
        }
      },
      "source": [
        "# These are called strings:\n",
        "\n",
        "z = 'Dennis is '\n",
        "w = \"running late, again!\"\n",
        "\n",
        "z + w"
      ],
      "execution_count": 0,
      "outputs": [
        {
          "output_type": "execute_result",
          "data": {
            "text/plain": [
              "'Dennis is running late, again!'"
            ]
          },
          "metadata": {
            "tags": []
          },
          "execution_count": 3
        }
      ]
    },
    {
      "cell_type": "code",
      "metadata": {
        "id": "HYIbaIAI34Bb",
        "colab_type": "code",
        "outputId": "9a18106e-9d09-4235-9560-e589f38bb2f9",
        "colab": {
          "base_uri": "https://localhost:8080/",
          "height": 54
        }
      },
      "source": [
        "print(type(z))\n",
        "print(type(w))"
      ],
      "execution_count": 0,
      "outputs": [
        {
          "output_type": "stream",
          "text": [
            "<class 'str'>\n",
            "<class 'str'>\n"
          ],
          "name": "stdout"
        }
      ]
    },
    {
      "cell_type": "markdown",
      "metadata": {
        "id": "ejTRW_41ccek",
        "colab_type": "text"
      },
      "source": [
        "Something different happened!\n",
        "\n",
        "When **ints** are added together, Python returns their sum as another int. Text values are referred to as ***strings***. These can be denoted using 'single' or \"double\" quotation marks as you can see above.  \n",
        "\n",
        "When strings are added together, that's called *concatenation*. They're basically just pushed up against together. But remember, spaces are also counted. If you notice, there's no space at the end of the first string. Try adding a space after \"is\" and see what happens.  \n",
        "\n",
        "This is a key principle of Python. *Different* types have *different* behavior.   \n",
        "\n",
        "\n"
      ]
    },
    {
      "cell_type": "markdown",
      "metadata": {
        "id": "RS0x6FysdX3p",
        "colab_type": "text"
      },
      "source": [
        "Let's try something a bit more realistic. \n",
        "\n",
        "Let's say we're working with personal financial data and we're trying to figure out a budget."
      ]
    },
    {
      "cell_type": "code",
      "metadata": {
        "id": "PweN-CTws2EV",
        "colab_type": "code",
        "colab": {}
      },
      "source": [
        "# Let's put some numbers together:\n",
        "\n",
        "# Income:\n",
        "monthly_income = 5000\n",
        "\n",
        "# Taxes:\n",
        "tax_rate = 0.184\n",
        "\n",
        "# Expenses\n",
        "rent = 1200\n",
        "food = 320\n",
        "wifi = 100\n",
        "transport = 300\n",
        "misc = 400"
      ],
      "execution_count": 0,
      "outputs": []
    },
    {
      "cell_type": "code",
      "metadata": {
        "id": "8cLKflFz46wd",
        "colab_type": "code",
        "outputId": "0d1c7a42-1089-4321-c2a8-869f64c0d800",
        "colab": {
          "base_uri": "https://localhost:8080/",
          "height": 35
        }
      },
      "source": [
        "type(tax_rate)"
      ],
      "execution_count": 0,
      "outputs": [
        {
          "output_type": "execute_result",
          "data": {
            "text/plain": [
              "float"
            ]
          },
          "metadata": {
            "tags": []
          },
          "execution_count": 6
        }
      ]
    },
    {
      "cell_type": "markdown",
      "metadata": {
        "id": "YVJNY8_NY240",
        "colab_type": "text"
      },
      "source": [
        "Notice how that cell didn't have an output? Even though we ran the cell, it had no commands other than assigning values to different variables. If we tried to add something (like in the original example), then there would be an output."
      ]
    },
    {
      "cell_type": "markdown",
      "metadata": {
        "id": "NruI-jojYCLK",
        "colab_type": "text"
      },
      "source": [
        "Ok. We've created seven variables and assigned each a different numeric value to represent our income, taxes, and expenses for a given month. Let's see how much we have left over after we pay Uncle Sam and cover our expenses. "
      ]
    },
    {
      "cell_type": "code",
      "metadata": {
        "id": "cnJ-ZG34YBSl",
        "colab_type": "code",
        "outputId": "fb5bce3c-811f-4fd9-befe-386499e90cb8",
        "colab": {
          "base_uri": "https://localhost:8080/",
          "height": 35
        }
      },
      "source": [
        "# Income, after taxes:\n",
        "AT_income = monthly_income * (1-tax_rate)\n",
        "print(AT_income)"
      ],
      "execution_count": 0,
      "outputs": [
        {
          "output_type": "stream",
          "text": [
            "4080.0000000000005\n"
          ],
          "name": "stdout"
        }
      ]
    },
    {
      "cell_type": "code",
      "metadata": {
        "id": "PGWhJpBYYv4X",
        "colab_type": "code",
        "outputId": "13c84b91-ab0f-4f0d-f2e6-e08fc755e2da",
        "colab": {
          "base_uri": "https://localhost:8080/",
          "height": 35
        }
      },
      "source": [
        "# Total expenses\n",
        "expenses = rent + food + wifi + transport + misc\n",
        "print(expenses)"
      ],
      "execution_count": 0,
      "outputs": [
        {
          "output_type": "stream",
          "text": [
            "2320\n"
          ],
          "name": "stdout"
        }
      ]
    },
    {
      "cell_type": "code",
      "metadata": {
        "id": "nIyXoC5IZOO5",
        "colab_type": "code",
        "outputId": "aa86bb40-7dc8-470a-c174-1586e65f4ead",
        "colab": {
          "base_uri": "https://localhost:8080/",
          "height": 35
        }
      },
      "source": [
        "# What's left?\n",
        "\n",
        "AT_income - expenses"
      ],
      "execution_count": 0,
      "outputs": [
        {
          "output_type": "execute_result",
          "data": {
            "text/plain": [
              "1760.0000000000005"
            ]
          },
          "metadata": {
            "tags": []
          },
          "execution_count": 9
        }
      ]
    },
    {
      "cell_type": "markdown",
      "metadata": {
        "id": "HYVyx-3-aDYH",
        "colab_type": "text"
      },
      "source": [
        "Not bad. Assuming we saved all of that every month, how long would it take us to have six months of expenses covered in case of an emergency?"
      ]
    },
    {
      "cell_type": "code",
      "metadata": {
        "id": "CrEfWg4iZW5x",
        "colab_type": "code",
        "outputId": "892e87d9-79a9-4746-b0ba-a9501f533e43",
        "colab": {
          "base_uri": "https://localhost:8080/",
          "height": 35
        }
      },
      "source": [
        "# Let's declare a new variable to store that value:\n",
        "max_savings = AT_income - expenses\n",
        "\n",
        "# Now let's calculate how long it would take:\n",
        "(expenses * 6) / max_savings"
      ],
      "execution_count": 0,
      "outputs": [
        {
          "output_type": "execute_result",
          "data": {
            "text/plain": [
              "7.909090909090907"
            ]
          },
          "metadata": {
            "tags": []
          },
          "execution_count": 10
        }
      ]
    },
    {
      "cell_type": "markdown",
      "metadata": {
        "id": "v5drj3Gka1aj",
        "colab_type": "text"
      },
      "source": [
        "Huh...nearly eight months! Guess we better start saving then. "
      ]
    },
    {
      "cell_type": "markdown",
      "metadata": {
        "id": "kugVj2BybgNx",
        "colab_type": "text"
      },
      "source": [
        "### Operators\n",
        "We just used Python ***operators*** to make those calculations.  \n",
        "\n",
        "*   ***+*** to add\n",
        "*   ***-*** to subtract\n",
        "*   ***/*** to divide\n",
        "\n",
        "\n",
        "There are dozens of operators in Python. These are the more common arithmetic operators. But don't let that scare you. It's all just practice."
      ]
    },
    {
      "cell_type": "markdown",
      "metadata": {
        "id": "7Ztd7VIXeGnD",
        "colab_type": "text"
      },
      "source": [
        "Now what do you think would happen if you tried to add a string to a number?"
      ]
    },
    {
      "cell_type": "code",
      "metadata": {
        "id": "I2MG0L5NeHSC",
        "colab_type": "code",
        "outputId": "e577648f-6192-4109-b675-a4fd827efba0",
        "colab": {
          "base_uri": "https://localhost:8080/",
          "height": 207
        }
      },
      "source": [
        "# Let's try it:\n",
        "# z holds the string \"Dennis is\" and x holds the integer \"23\".\n",
        "# So by combining them with the + operator, we should get...\n",
        "# 'Dennis is23', right?\n",
        "\n",
        "x = 23\n",
        "z = 'Dennis is '\n",
        "\n",
        "z + x"
      ],
      "execution_count": 0,
      "outputs": [
        {
          "output_type": "error",
          "ename": "TypeError",
          "evalue": "ignored",
          "traceback": [
            "\u001b[0;31m---------------------------------------------------------------------------\u001b[0m",
            "\u001b[0;31mTypeError\u001b[0m                                 Traceback (most recent call last)",
            "\u001b[0;32m<ipython-input-12-0788fab6572b>\u001b[0m in \u001b[0;36m<module>\u001b[0;34m()\u001b[0m\n\u001b[1;32m      3\u001b[0m \u001b[0mz\u001b[0m \u001b[0;34m=\u001b[0m \u001b[0;34m'Dennis is '\u001b[0m\u001b[0;34m\u001b[0m\u001b[0;34m\u001b[0m\u001b[0m\n\u001b[1;32m      4\u001b[0m \u001b[0;34m\u001b[0m\u001b[0m\n\u001b[0;32m----> 5\u001b[0;31m \u001b[0mz\u001b[0m \u001b[0;34m+\u001b[0m \u001b[0mx\u001b[0m\u001b[0;34m\u001b[0m\u001b[0;34m\u001b[0m\u001b[0m\n\u001b[0m",
            "\u001b[0;31mTypeError\u001b[0m: must be str, not int"
          ]
        }
      ]
    },
    {
      "cell_type": "markdown",
      "metadata": {
        "id": "G70K_DVoGv41",
        "colab_type": "text"
      },
      "source": [
        "Wrong. We get a **Type**Error. The error complains that it was expecting a *string*, not an *int*.   \n",
        "We'll need to convert *x* into a string. Here's the easiest way to do it:\n"
      ]
    },
    {
      "cell_type": "code",
      "metadata": {
        "id": "VecDocuUGusu",
        "colab_type": "code",
        "outputId": "2eceee2a-45bf-4276-a38c-28540c743a21",
        "colab": {
          "base_uri": "https://localhost:8080/",
          "height": 35
        }
      },
      "source": [
        "# We use Python's built-in str() method!\n",
        "\n",
        "z + str(x)"
      ],
      "execution_count": 0,
      "outputs": [
        {
          "output_type": "execute_result",
          "data": {
            "text/plain": [
              "'Dennis is 23'"
            ]
          },
          "metadata": {
            "tags": []
          },
          "execution_count": 13
        }
      ]
    },
    {
      "cell_type": "markdown",
      "metadata": {
        "id": "5pFlLAIEIbqo",
        "colab_type": "text"
      },
      "source": [
        "Now we get what we wanted! \n",
        "\n",
        "This was just a preview; we'll review *methods* in more depth later on, don't worry.  "
      ]
    },
    {
      "cell_type": "markdown",
      "metadata": {
        "id": "WsBnIKlXI-w4",
        "colab_type": "text"
      },
      "source": [
        "## Python Data Types\n",
        "\n",
        "### Strings and ints\n",
        "\n",
        "Let's discuss the different data types in Python. We've covered the first two already:  \n",
        "\n",
        "\n",
        "*   **Strings** - Strings of characters that denote text\n",
        "*   **Integers** - Positive or negative whole numbers with no decimal point\n",
        "\n",
        "\n",
        "But what if we wanted to use decimal points, like in the tax rate example above?\n"
      ]
    },
    {
      "cell_type": "code",
      "metadata": {
        "id": "_NSQOMpKIAsr",
        "colab_type": "code",
        "outputId": "a8732580-f45f-4976-818f-d1b4d0e12d48",
        "colab": {
          "base_uri": "https://localhost:8080/",
          "height": 35
        }
      },
      "source": [
        "# Python can handle it!\n",
        "# If you pass a variable to the built-in function type(), it will return that variable's data type\n",
        "type(tax_rate)\n",
        "\n",
        "my_float = 0.000003\n",
        "type(my_float)"
      ],
      "execution_count": 0,
      "outputs": [
        {
          "output_type": "execute_result",
          "data": {
            "text/plain": [
              "float"
            ]
          },
          "metadata": {
            "tags": []
          },
          "execution_count": 14
        }
      ]
    },
    {
      "cell_type": "markdown",
      "metadata": {
        "id": "Mji-CmWiNYUz",
        "colab_type": "text"
      },
      "source": [
        "\n",
        "\n",
        "*   **Floats** - A number that can have an integer part and a fractional part. In other words, a decimal!\n",
        "\n"
      ]
    },
    {
      "cell_type": "code",
      "metadata": {
        "id": "IoW6Cw45M-t1",
        "colab_type": "code",
        "outputId": "73ceaf71-a2e0-48ae-f9eb-d0fb4e9877cb",
        "colab": {
          "base_uri": "https://localhost:8080/",
          "height": 35
        }
      },
      "source": [
        "# Then there are booleans:\n",
        "\n",
        "a = True\n",
        "b = False\n",
        "\n",
        "type(a), type(b)"
      ],
      "execution_count": 0,
      "outputs": [
        {
          "output_type": "execute_result",
          "data": {
            "text/plain": [
              "(bool, bool)"
            ]
          },
          "metadata": {
            "tags": []
          },
          "execution_count": 15
        }
      ]
    },
    {
      "cell_type": "markdown",
      "metadata": {
        "id": "9y_95simNuL-",
        "colab_type": "text"
      },
      "source": [
        "\n",
        "*   **Booleans** - Simply yes or no. Booleans will be really useful later on for filtering your data and setting conditions for certain commands to execute. "
      ]
    },
    {
      "cell_type": "code",
      "metadata": {
        "id": "q_-77C8iP-tu",
        "colab_type": "code",
        "colab": {}
      },
      "source": [
        "# Finally, meet dictionaries:\n",
        "\n",
        "activities = {'rain': 'read a book',\n",
        "              'sunny': 'go for a swim',\n",
        "              'snowy': 'build a fire' \n",
        "             }\n",
        "\n",
        "# Dictionaries can be made with other data types\n",
        "\n",
        "numbers = {'one': 1,\n",
        "           'two': 2.0,\n",
        "           'three': 3\n",
        "          }"
      ],
      "execution_count": 0,
      "outputs": []
    },
    {
      "cell_type": "code",
      "metadata": {
        "id": "s5BUXOOh7qBK",
        "colab_type": "code",
        "outputId": "16f6dcb4-4cc6-4f99-f104-2c5f4de515f0",
        "colab": {
          "base_uri": "https://localhost:8080/",
          "height": 35
        }
      },
      "source": [
        "numbers['three']"
      ],
      "execution_count": 0,
      "outputs": [
        {
          "output_type": "execute_result",
          "data": {
            "text/plain": [
              "3"
            ]
          },
          "metadata": {
            "tags": []
          },
          "execution_count": 17
        }
      ]
    },
    {
      "cell_type": "code",
      "metadata": {
        "id": "t_wNaTyN72ys",
        "colab_type": "code",
        "outputId": "f58ecaec-17ce-4a8e-d264-2bdd1ced354a",
        "colab": {
          "base_uri": "https://localhost:8080/",
          "height": 35
        }
      },
      "source": [
        "activities['sunny']"
      ],
      "execution_count": 0,
      "outputs": [
        {
          "output_type": "execute_result",
          "data": {
            "text/plain": [
              "'go for a swim'"
            ]
          },
          "metadata": {
            "tags": []
          },
          "execution_count": 18
        }
      ]
    },
    {
      "cell_type": "code",
      "metadata": {
        "id": "T_Hxh6Qn79ZC",
        "colab_type": "code",
        "outputId": "7a0993de-1d93-4329-d2d3-ce467de525f0",
        "colab": {
          "base_uri": "https://localhost:8080/",
          "height": 35
        }
      },
      "source": [
        "type(numbers)"
      ],
      "execution_count": 0,
      "outputs": [
        {
          "output_type": "execute_result",
          "data": {
            "text/plain": [
              "dict"
            ]
          },
          "metadata": {
            "tags": []
          },
          "execution_count": 19
        }
      ]
    },
    {
      "cell_type": "markdown",
      "metadata": {
        "id": "jelh0tKwQENH",
        "colab_type": "text"
      },
      "source": [
        "\n",
        "*   **Dictionaries** - Associating this with that. Dictionaries are made up of paired keys and values (you can see our defined pairs in the example above). They will be a powerful tool to help you organize your data later on."
      ]
    },
    {
      "cell_type": "markdown",
      "metadata": {
        "id": "NUm1ps44OizZ",
        "colab_type": "text"
      },
      "source": [
        "### Remember: *Different* data types have *different* behavior:"
      ]
    },
    {
      "cell_type": "code",
      "metadata": {
        "id": "ZGF9pJsGNq9d",
        "colab_type": "code",
        "outputId": "1e286202-670a-4925-f6d4-f021c219215b",
        "colab": {
          "base_uri": "https://localhost:8080/",
          "height": 35
        }
      },
      "source": [
        "# Integers & floats can be added together arithmetically\n",
        "23 + 17"
      ],
      "execution_count": 0,
      "outputs": [
        {
          "output_type": "execute_result",
          "data": {
            "text/plain": [
              "40"
            ]
          },
          "metadata": {
            "tags": []
          },
          "execution_count": 20
        }
      ]
    },
    {
      "cell_type": "code",
      "metadata": {
        "id": "3JOVNLFsOpnt",
        "colab_type": "code",
        "outputId": "5ac1e0c2-9b58-48c7-95a3-7f87bf81ceb9",
        "colab": {
          "base_uri": "https://localhost:8080/",
          "height": 35
        }
      },
      "source": [
        "# Strings are concatenated (bunched) together\n",
        "'ac' + 'dc'"
      ],
      "execution_count": 0,
      "outputs": [
        {
          "output_type": "execute_result",
          "data": {
            "text/plain": [
              "'acdc'"
            ]
          },
          "metadata": {
            "tags": []
          },
          "execution_count": 21
        }
      ]
    },
    {
      "cell_type": "code",
      "metadata": {
        "id": "aLwslQHrO9fF",
        "colab_type": "code",
        "outputId": "8f4268b9-31a7-4894-c2a0-cac3de4f69d3",
        "colab": {
          "base_uri": "https://localhost:8080/",
          "height": 35
        }
      },
      "source": [
        "# You can also think of true or false as 1 or 0 (binary)\n",
        "True + False"
      ],
      "execution_count": 0,
      "outputs": [
        {
          "output_type": "execute_result",
          "data": {
            "text/plain": [
              "1"
            ]
          },
          "metadata": {
            "tags": []
          },
          "execution_count": 22
        }
      ]
    },
    {
      "cell_type": "markdown",
      "metadata": {
        "id": "Wv0Q_IF0PhK2",
        "colab_type": "text"
      },
      "source": [
        "### *Weird, right?* Don't worry! As you practice with Python, you'll develop an intuitive grasp of each data type's behavior. On that note, time for your first assignment!"
      ]
    }
  ]
}